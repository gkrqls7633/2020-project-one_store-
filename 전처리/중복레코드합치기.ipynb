{
 "cells": [
  {
   "cell_type": "code",
   "execution_count": 3,
   "metadata": {},
   "outputs": [],
   "source": [
    "import pandas as pd"
   ]
  },
  {
   "cell_type": "markdown",
   "metadata": {},
   "source": [
    "**데이터 불러오기**"
   ]
  },
  {
   "cell_type": "code",
   "execution_count": 4,
   "metadata": {},
   "outputs": [],
   "source": [
    "df = pd.read_csv('P:/new/new_all_data.csv')"
   ]
  },
  {
   "cell_type": "code",
   "execution_count": 5,
   "metadata": {},
   "outputs": [
    {
     "data": {
      "text/plain": [
       "Index(['partition_dt', 'prod_id', 'prchs_id', 'insd_usermbr_no',\n",
       "       'cust_payment_amt', 'sett_target_cpn_amt', 'prchs_tm_clsf_nm',\n",
       "       'sex_clsf_cd', 'age_cd', 'mno_cd', 'category_nm', 'dtl_category_nm',\n",
       "       'prod_amt'],\n",
       "      dtype='object')"
      ]
     },
     "execution_count": 5,
     "metadata": {},
     "output_type": "execute_result"
    }
   ],
   "source": [
    "df.columns"
   ]
  },
  {
   "cell_type": "code",
   "execution_count": 7,
   "metadata": {},
   "outputs": [
    {
     "data": {
      "text/plain": [
       "(40131396, 13)"
      ]
     },
     "execution_count": 7,
     "metadata": {},
     "output_type": "execute_result"
    }
   ],
   "source": [
    "df.shape"
   ]
  },
  {
   "cell_type": "markdown",
   "metadata": {},
   "source": [
    "**구매방식에 따라 중복으로 기록된 레코드 예**"
   ]
  },
  {
   "cell_type": "code",
   "execution_count": 26,
   "metadata": {},
   "outputs": [],
   "source": [
    "test= df[df['prchs_id'] == '20020113412620311081']"
   ]
  },
  {
   "cell_type": "code",
   "execution_count": 27,
   "metadata": {},
   "outputs": [
    {
     "data": {
      "text/html": [
       "<div>\n",
       "<style scoped>\n",
       "    .dataframe tbody tr th:only-of-type {\n",
       "        vertical-align: middle;\n",
       "    }\n",
       "\n",
       "    .dataframe tbody tr th {\n",
       "        vertical-align: top;\n",
       "    }\n",
       "\n",
       "    .dataframe thead th {\n",
       "        text-align: right;\n",
       "    }\n",
       "</style>\n",
       "<table border=\"1\" class=\"dataframe\">\n",
       "  <thead>\n",
       "    <tr style=\"text-align: right;\">\n",
       "      <th></th>\n",
       "      <th>partition_dt</th>\n",
       "      <th>prod_id</th>\n",
       "      <th>prchs_id</th>\n",
       "      <th>cust_payment_amt</th>\n",
       "      <th>sett_target_cpn_amt</th>\n",
       "      <th>prod_amt</th>\n",
       "      <th>dtl_category_nm</th>\n",
       "    </tr>\n",
       "  </thead>\n",
       "  <tbody>\n",
       "    <tr>\n",
       "      <th>15</th>\n",
       "      <td>20200201</td>\n",
       "      <td>H038835484</td>\n",
       "      <td>20020113412620311081</td>\n",
       "      <td>0</td>\n",
       "      <td>800</td>\n",
       "      <td>2700</td>\n",
       "      <td>로맨스</td>\n",
       "    </tr>\n",
       "    <tr>\n",
       "      <th>16</th>\n",
       "      <td>20200201</td>\n",
       "      <td>H038835484</td>\n",
       "      <td>20020113412620311081</td>\n",
       "      <td>1630</td>\n",
       "      <td>0</td>\n",
       "      <td>2700</td>\n",
       "      <td>로맨스</td>\n",
       "    </tr>\n",
       "    <tr>\n",
       "      <th>17</th>\n",
       "      <td>20200201</td>\n",
       "      <td>H038835484</td>\n",
       "      <td>20020113412620311081</td>\n",
       "      <td>0</td>\n",
       "      <td>270</td>\n",
       "      <td>2700</td>\n",
       "      <td>로맨스</td>\n",
       "    </tr>\n",
       "  </tbody>\n",
       "</table>\n",
       "</div>"
      ],
      "text/plain": [
       "    partition_dt     prod_id              prchs_id  cust_payment_amt  \\\n",
       "15      20200201  H038835484  20020113412620311081                 0   \n",
       "16      20200201  H038835484  20020113412620311081              1630   \n",
       "17      20200201  H038835484  20020113412620311081                 0   \n",
       "\n",
       "    sett_target_cpn_amt  prod_amt dtl_category_nm  \n",
       "15                  800      2700             로맨스  \n",
       "16                    0      2700             로맨스  \n",
       "17                  270      2700             로맨스  "
      ]
     },
     "execution_count": 27,
     "metadata": {},
     "output_type": "execute_result"
    }
   ],
   "source": [
    "test[['partition_dt','prod_id','prchs_id','cust_payment_amt','sett_target_cpn_amt','prod_amt','dtl_category_nm']]"
   ]
  },
  {
   "cell_type": "code",
   "execution_count": 6,
   "metadata": {},
   "outputs": [],
   "source": [
    "#거래 방식 수를 세기위한 피쳐 추가\n",
    "df['pay_mtd_cnt'] = df['sett_target_cpn_amt']"
   ]
  },
  {
   "cell_type": "code",
   "execution_count": 10,
   "metadata": {},
   "outputs": [],
   "source": [
    "df_grby = df.groupby(['prchs_id','prod_id','partition_dt','insd_usermbr_no','prod_amt','sex_clsf_cd','age_cd', 'category_nm','dtl_category_nm','prchs_tm_clsf_nm','mno_cd'])"
   ]
  },
  {
   "cell_type": "code",
   "execution_count": 11,
   "metadata": {},
   "outputs": [],
   "source": [
    "#그룹바이 함수 지정\n",
    "agg_format = {\n",
    "    'cust_payment_amt':'sum',  #가격의 합\n",
    "    'sett_target_cpn_amt':'sum', # 쿠폰가격의 합\n",
    "    'pay_mtd_cnt':'count'\n",
    "}"
   ]
  },
  {
   "cell_type": "code",
   "execution_count": null,
   "metadata": {},
   "outputs": [],
   "source": [
    "df_result= df_grby.agg(agg_format)"
   ]
  },
  {
   "cell_type": "code",
   "execution_count": 14,
   "metadata": {},
   "outputs": [],
   "source": [
    "df_result = df_result.reset_index()"
   ]
  },
  {
   "cell_type": "code",
   "execution_count": 18,
   "metadata": {},
   "outputs": [
    {
     "data": {
      "text/html": [
       "<div>\n",
       "<style scoped>\n",
       "    .dataframe tbody tr th:only-of-type {\n",
       "        vertical-align: middle;\n",
       "    }\n",
       "\n",
       "    .dataframe tbody tr th {\n",
       "        vertical-align: top;\n",
       "    }\n",
       "\n",
       "    .dataframe thead th {\n",
       "        text-align: right;\n",
       "    }\n",
       "</style>\n",
       "<table border=\"1\" class=\"dataframe\">\n",
       "  <thead>\n",
       "    <tr style=\"text-align: right;\">\n",
       "      <th></th>\n",
       "      <th>prchs_id</th>\n",
       "      <th>prod_id</th>\n",
       "      <th>partition_dt</th>\n",
       "      <th>insd_usermbr_no</th>\n",
       "      <th>prod_amt</th>\n",
       "      <th>sex_clsf_cd</th>\n",
       "      <th>age_cd</th>\n",
       "      <th>category_nm</th>\n",
       "      <th>dtl_category_nm</th>\n",
       "      <th>prchs_tm_clsf_nm</th>\n",
       "      <th>mno_cd</th>\n",
       "      <th>cust_payment_amt</th>\n",
       "      <th>sett_target_cpn_amt</th>\n",
       "      <th>pay_mtd_cnt</th>\n",
       "    </tr>\n",
       "  </thead>\n",
       "  <tbody>\n",
       "    <tr>\n",
       "      <th>0</th>\n",
       "      <td>20013123592010721507</td>\n",
       "      <td>H018480692</td>\n",
       "      <td>20200201</td>\n",
       "      <td>IF1423177586220101006224941</td>\n",
       "      <td>3600</td>\n",
       "      <td>F</td>\n",
       "      <td>042</td>\n",
       "      <td>eBook</td>\n",
       "      <td>로맨스</td>\n",
       "      <td>00 ~ 01</td>\n",
       "      <td>US001201</td>\n",
       "      <td>3240</td>\n",
       "      <td>360</td>\n",
       "      <td>3</td>\n",
       "    </tr>\n",
       "    <tr>\n",
       "      <th>1</th>\n",
       "      <td>20013123593010931584</td>\n",
       "      <td>H038835416</td>\n",
       "      <td>20200201</td>\n",
       "      <td>US2018070914480184346187029</td>\n",
       "      <td>900</td>\n",
       "      <td>M</td>\n",
       "      <td>037</td>\n",
       "      <td>eBook</td>\n",
       "      <td>무협</td>\n",
       "      <td>00 ~ 01</td>\n",
       "      <td>US001201</td>\n",
       "      <td>810</td>\n",
       "      <td>90</td>\n",
       "      <td>2</td>\n",
       "    </tr>\n",
       "    <tr>\n",
       "      <th>2</th>\n",
       "      <td>20013123593510331626</td>\n",
       "      <td>H031234584</td>\n",
       "      <td>20200201</td>\n",
       "      <td>US2018092811402674047654410</td>\n",
       "      <td>900</td>\n",
       "      <td>Z</td>\n",
       "      <td>ZZZ</td>\n",
       "      <td>eBook</td>\n",
       "      <td>판타지</td>\n",
       "      <td>00 ~ 01</td>\n",
       "      <td>US001201</td>\n",
       "      <td>810</td>\n",
       "      <td>90</td>\n",
       "      <td>2</td>\n",
       "    </tr>\n",
       "    <tr>\n",
       "      <th>3</th>\n",
       "      <td>20013123595120417183</td>\n",
       "      <td>H038724908</td>\n",
       "      <td>20200201</td>\n",
       "      <td>US2018033113065860244558735</td>\n",
       "      <td>3150</td>\n",
       "      <td>F</td>\n",
       "      <td>051</td>\n",
       "      <td>eBook</td>\n",
       "      <td>로맨스</td>\n",
       "      <td>00 ~ 01</td>\n",
       "      <td>US001202</td>\n",
       "      <td>3150</td>\n",
       "      <td>0</td>\n",
       "      <td>1</td>\n",
       "    </tr>\n",
       "    <tr>\n",
       "      <th>4</th>\n",
       "      <td>20013123595221217187</td>\n",
       "      <td>H035730852</td>\n",
       "      <td>20200201</td>\n",
       "      <td>US2019112415415699154280728</td>\n",
       "      <td>200</td>\n",
       "      <td>F</td>\n",
       "      <td>043</td>\n",
       "      <td>웹툰</td>\n",
       "      <td>순정</td>\n",
       "      <td>00 ~ 01</td>\n",
       "      <td>US001202</td>\n",
       "      <td>180</td>\n",
       "      <td>20</td>\n",
       "      <td>2</td>\n",
       "    </tr>\n",
       "    <tr>\n",
       "      <th>...</th>\n",
       "      <td>...</td>\n",
       "      <td>...</td>\n",
       "      <td>...</td>\n",
       "      <td>...</td>\n",
       "      <td>...</td>\n",
       "      <td>...</td>\n",
       "      <td>...</td>\n",
       "      <td>...</td>\n",
       "      <td>...</td>\n",
       "      <td>...</td>\n",
       "      <td>...</td>\n",
       "      <td>...</td>\n",
       "      <td>...</td>\n",
       "      <td>...</td>\n",
       "    </tr>\n",
       "    <tr>\n",
       "      <th>34246915</th>\n",
       "      <td>20073123595710341883</td>\n",
       "      <td>H036432165</td>\n",
       "      <td>20200731</td>\n",
       "      <td>IW1425165373520130326161430</td>\n",
       "      <td>900</td>\n",
       "      <td>M</td>\n",
       "      <td>055</td>\n",
       "      <td>eBook</td>\n",
       "      <td>무협</td>\n",
       "      <td>23 ~ 24</td>\n",
       "      <td>US001201</td>\n",
       "      <td>0</td>\n",
       "      <td>900</td>\n",
       "      <td>1</td>\n",
       "    </tr>\n",
       "    <tr>\n",
       "      <th>34246916</th>\n",
       "      <td>20073123595711341887</td>\n",
       "      <td>H039065277</td>\n",
       "      <td>20200731</td>\n",
       "      <td>US2018021812545532143805173</td>\n",
       "      <td>100</td>\n",
       "      <td>F</td>\n",
       "      <td>044</td>\n",
       "      <td>eBook</td>\n",
       "      <td>로맨스</td>\n",
       "      <td>23 ~ 24</td>\n",
       "      <td>US001201</td>\n",
       "      <td>100</td>\n",
       "      <td>0</td>\n",
       "      <td>1</td>\n",
       "    </tr>\n",
       "    <tr>\n",
       "      <th>34246917</th>\n",
       "      <td>20073123595711521890</td>\n",
       "      <td>H039535654</td>\n",
       "      <td>20200731</td>\n",
       "      <td>IW1426246252320131022221027</td>\n",
       "      <td>300</td>\n",
       "      <td>F</td>\n",
       "      <td>049</td>\n",
       "      <td>웹툰</td>\n",
       "      <td>BL</td>\n",
       "      <td>23 ~ 24</td>\n",
       "      <td>US001201</td>\n",
       "      <td>0</td>\n",
       "      <td>300</td>\n",
       "      <td>1</td>\n",
       "    </tr>\n",
       "    <tr>\n",
       "      <th>34246918</th>\n",
       "      <td>20073123595810242233</td>\n",
       "      <td>H039578892</td>\n",
       "      <td>20200731</td>\n",
       "      <td>IF1423206725420101129205051</td>\n",
       "      <td>100</td>\n",
       "      <td>F</td>\n",
       "      <td>037</td>\n",
       "      <td>eBook</td>\n",
       "      <td>판타지</td>\n",
       "      <td>23 ~ 24</td>\n",
       "      <td>US001201</td>\n",
       "      <td>0</td>\n",
       "      <td>0</td>\n",
       "      <td>1</td>\n",
       "    </tr>\n",
       "    <tr>\n",
       "      <th>34246919</th>\n",
       "      <td>20073123595911121897</td>\n",
       "      <td>H039587904</td>\n",
       "      <td>20200731</td>\n",
       "      <td>US2016081302143323229017556</td>\n",
       "      <td>100</td>\n",
       "      <td>M</td>\n",
       "      <td>061</td>\n",
       "      <td>eBook</td>\n",
       "      <td>판타지</td>\n",
       "      <td>23 ~ 24</td>\n",
       "      <td>US001201</td>\n",
       "      <td>100</td>\n",
       "      <td>0</td>\n",
       "      <td>1</td>\n",
       "    </tr>\n",
       "  </tbody>\n",
       "</table>\n",
       "<p>34246920 rows × 14 columns</p>\n",
       "</div>"
      ],
      "text/plain": [
       "                      prchs_id     prod_id  partition_dt  \\\n",
       "0         20013123592010721507  H018480692      20200201   \n",
       "1         20013123593010931584  H038835416      20200201   \n",
       "2         20013123593510331626  H031234584      20200201   \n",
       "3         20013123595120417183  H038724908      20200201   \n",
       "4         20013123595221217187  H035730852      20200201   \n",
       "...                        ...         ...           ...   \n",
       "34246915  20073123595710341883  H036432165      20200731   \n",
       "34246916  20073123595711341887  H039065277      20200731   \n",
       "34246917  20073123595711521890  H039535654      20200731   \n",
       "34246918  20073123595810242233  H039578892      20200731   \n",
       "34246919  20073123595911121897  H039587904      20200731   \n",
       "\n",
       "                      insd_usermbr_no  prod_amt sex_clsf_cd age_cd  \\\n",
       "0         IF1423177586220101006224941      3600           F    042   \n",
       "1         US2018070914480184346187029       900           M    037   \n",
       "2         US2018092811402674047654410       900           Z    ZZZ   \n",
       "3         US2018033113065860244558735      3150           F    051   \n",
       "4         US2019112415415699154280728       200           F    043   \n",
       "...                               ...       ...         ...    ...   \n",
       "34246915  IW1425165373520130326161430       900           M    055   \n",
       "34246916  US2018021812545532143805173       100           F    044   \n",
       "34246917  IW1426246252320131022221027       300           F    049   \n",
       "34246918  IF1423206725420101129205051       100           F    037   \n",
       "34246919  US2016081302143323229017556       100           M    061   \n",
       "\n",
       "         category_nm dtl_category_nm prchs_tm_clsf_nm    mno_cd  \\\n",
       "0              eBook             로맨스          00 ~ 01  US001201   \n",
       "1              eBook              무협          00 ~ 01  US001201   \n",
       "2              eBook             판타지          00 ~ 01  US001201   \n",
       "3              eBook             로맨스          00 ~ 01  US001202   \n",
       "4                 웹툰              순정          00 ~ 01  US001202   \n",
       "...              ...             ...              ...       ...   \n",
       "34246915       eBook              무협          23 ~ 24  US001201   \n",
       "34246916       eBook             로맨스          23 ~ 24  US001201   \n",
       "34246917          웹툰              BL          23 ~ 24  US001201   \n",
       "34246918       eBook             판타지          23 ~ 24  US001201   \n",
       "34246919       eBook             판타지          23 ~ 24  US001201   \n",
       "\n",
       "          cust_payment_amt  sett_target_cpn_amt  pay_mtd_cnt  \n",
       "0                     3240                  360            3  \n",
       "1                      810                   90            2  \n",
       "2                      810                   90            2  \n",
       "3                     3150                    0            1  \n",
       "4                      180                   20            2  \n",
       "...                    ...                  ...          ...  \n",
       "34246915                 0                  900            1  \n",
       "34246916               100                    0            1  \n",
       "34246917                 0                  300            1  \n",
       "34246918                 0                    0            1  \n",
       "34246919               100                    0            1  \n",
       "\n",
       "[34246920 rows x 14 columns]"
      ]
     },
     "execution_count": 18,
     "metadata": {},
     "output_type": "execute_result"
    }
   ],
   "source": [
    "df_result"
   ]
  },
  {
   "cell_type": "code",
   "execution_count": 20,
   "metadata": {},
   "outputs": [],
   "source": [
    "#파일로 저장\n",
    "df_result.to_csv('P:/final_prchs_data.csv', index=False)"
   ]
  },
  {
   "cell_type": "code",
   "execution_count": 31,
   "metadata": {},
   "outputs": [],
   "source": [
    "#제대로 합쳐졌나 확인해보기\n",
    "test= df_result[df_result['prchs_id'] == '20020113412620311081']"
   ]
  },
  {
   "cell_type": "code",
   "execution_count": 32,
   "metadata": {},
   "outputs": [
    {
     "data": {
      "text/html": [
       "<div>\n",
       "<style scoped>\n",
       "    .dataframe tbody tr th:only-of-type {\n",
       "        vertical-align: middle;\n",
       "    }\n",
       "\n",
       "    .dataframe tbody tr th {\n",
       "        vertical-align: top;\n",
       "    }\n",
       "\n",
       "    .dataframe thead th {\n",
       "        text-align: right;\n",
       "    }\n",
       "</style>\n",
       "<table border=\"1\" class=\"dataframe\">\n",
       "  <thead>\n",
       "    <tr style=\"text-align: right;\">\n",
       "      <th></th>\n",
       "      <th>partition_dt</th>\n",
       "      <th>prod_id</th>\n",
       "      <th>prchs_id</th>\n",
       "      <th>cust_payment_amt</th>\n",
       "      <th>sett_target_cpn_amt</th>\n",
       "      <th>prod_amt</th>\n",
       "      <th>dtl_category_nm</th>\n",
       "    </tr>\n",
       "  </thead>\n",
       "  <tbody>\n",
       "    <tr>\n",
       "      <th>99309</th>\n",
       "      <td>20200201</td>\n",
       "      <td>H038835484</td>\n",
       "      <td>20020113412620311081</td>\n",
       "      <td>1630</td>\n",
       "      <td>1070</td>\n",
       "      <td>2700</td>\n",
       "      <td>로맨스</td>\n",
       "    </tr>\n",
       "  </tbody>\n",
       "</table>\n",
       "</div>"
      ],
      "text/plain": [
       "       partition_dt     prod_id              prchs_id  cust_payment_amt  \\\n",
       "99309      20200201  H038835484  20020113412620311081              1630   \n",
       "\n",
       "       sett_target_cpn_amt  prod_amt dtl_category_nm  \n",
       "99309                 1070      2700             로맨스  "
      ]
     },
     "execution_count": 32,
     "metadata": {},
     "output_type": "execute_result"
    }
   ],
   "source": [
    "test[['partition_dt','prod_id','prchs_id','cust_payment_amt','sett_target_cpn_amt','prod_amt','dtl_category_nm']]"
   ]
  },
  {
   "cell_type": "code",
   "execution_count": null,
   "metadata": {},
   "outputs": [],
   "source": []
  }
 ],
 "metadata": {
  "kernelspec": {
   "display_name": "Python 3",
   "language": "python",
   "name": "python3"
  },
  "language_info": {
   "codemirror_mode": {
    "name": "ipython",
    "version": 3
   },
   "file_extension": ".py",
   "mimetype": "text/x-python",
   "name": "python",
   "nbconvert_exporter": "python",
   "pygments_lexer": "ipython3",
   "version": "3.8.3"
  }
 },
 "nbformat": 4,
 "nbformat_minor": 4
}
