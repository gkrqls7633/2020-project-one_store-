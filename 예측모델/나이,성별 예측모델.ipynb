{
 "cells": [
  {
   "cell_type": "code",
   "execution_count": 18,
   "metadata": {},
   "outputs": [],
   "source": [
    "import numpy as np\n",
    "import pandas as pd\n",
    "from sklearn.preprocessing import LabelEncoder\n",
    "from sklearn.model_selection import train_test_split\n",
    "\n",
    "from catboost import CatBoostRegressor\n",
    "from sklearn.model_selection import train_test_split\n",
    "from sklearn.metrics import accuracy_score, recall_score, precision_score, roc_auc_score, f1_score\n",
    "from sklearn.metrics import mean_absolute_error as mae"
   ]
  },
  {
   "cell_type": "code",
   "execution_count": 2,
   "metadata": {},
   "outputs": [],
   "source": [
    "df = pd.read_csv('P:/final_all_customer_table.csv')"
   ]
  },
  {
   "cell_type": "code",
   "execution_count": 3,
   "metadata": {},
   "outputs": [
    {
     "data": {
      "text/plain": [
       "Index(['insd_usermbr_no', 'mno_cd', 'first_prchs_dt', 'last_prchs_dt',\n",
       "       'sex_clsf_cd', 'age_cd', 'total_prchs_cnt', 'weekend_prchs_cnt',\n",
       "       'total_payment_amt', 'total_cpt_amt', 'total_prod_amt', 'pref_category',\n",
       "       'pref_dtl_category', 'pref_tm', 'dly_prchs_amt_max',\n",
       "       'dly_prchs_amt_min', 'mly_prchs_amt_min', 'mly_prchs_amt_max',\n",
       "       'mly_prchs_amt_mean', 'wly_prchs_amt_max', 'wly_prchs_amt_min',\n",
       "       'wly_prchs_amt_mean', 'frequency', 'recency', 'T', 'total_buys',\n",
       "       'dt_step_min', 'dt_step_max', 'dt_step_mean'],\n",
       "      dtype='object')"
      ]
     },
     "execution_count": 3,
     "metadata": {},
     "output_type": "execute_result"
    }
   ],
   "source": [
    "df.columns"
   ]
  },
  {
   "cell_type": "code",
   "execution_count": 5,
   "metadata": {},
   "outputs": [
    {
     "data": {
      "text/html": [
       "<div>\n",
       "<style scoped>\n",
       "    .dataframe tbody tr th:only-of-type {\n",
       "        vertical-align: middle;\n",
       "    }\n",
       "\n",
       "    .dataframe tbody tr th {\n",
       "        vertical-align: top;\n",
       "    }\n",
       "\n",
       "    .dataframe thead th {\n",
       "        text-align: right;\n",
       "    }\n",
       "</style>\n",
       "<table border=\"1\" class=\"dataframe\">\n",
       "  <thead>\n",
       "    <tr style=\"text-align: right;\">\n",
       "      <th></th>\n",
       "      <th>insd_usermbr_no</th>\n",
       "      <th>mno_cd</th>\n",
       "      <th>first_prchs_dt</th>\n",
       "      <th>last_prchs_dt</th>\n",
       "      <th>sex_clsf_cd</th>\n",
       "      <th>age_cd</th>\n",
       "      <th>total_prchs_cnt</th>\n",
       "      <th>weekend_prchs_cnt</th>\n",
       "      <th>total_payment_amt</th>\n",
       "      <th>total_cpt_amt</th>\n",
       "      <th>...</th>\n",
       "      <th>wly_prchs_amt_max</th>\n",
       "      <th>wly_prchs_amt_min</th>\n",
       "      <th>wly_prchs_amt_mean</th>\n",
       "      <th>frequency</th>\n",
       "      <th>recency</th>\n",
       "      <th>T</th>\n",
       "      <th>total_buys</th>\n",
       "      <th>dt_step_min</th>\n",
       "      <th>dt_step_max</th>\n",
       "      <th>dt_step_mean</th>\n",
       "    </tr>\n",
       "  </thead>\n",
       "  <tbody>\n",
       "    <tr>\n",
       "      <th>0</th>\n",
       "      <td>IF14210296502009062300092258</td>\n",
       "      <td>US001201</td>\n",
       "      <td>2020-03-29</td>\n",
       "      <td>2020-06-29</td>\n",
       "      <td>M</td>\n",
       "      <td>042</td>\n",
       "      <td>12</td>\n",
       "      <td>3</td>\n",
       "      <td>93630</td>\n",
       "      <td>5670</td>\n",
       "      <td>...</td>\n",
       "      <td>55670</td>\n",
       "      <td>10100</td>\n",
       "      <td>23407.500000</td>\n",
       "      <td>3.0</td>\n",
       "      <td>92.0</td>\n",
       "      <td>124.0</td>\n",
       "      <td>0.0</td>\n",
       "      <td>15.0</td>\n",
       "      <td>45.0</td>\n",
       "      <td>23.0</td>\n",
       "    </tr>\n",
       "    <tr>\n",
       "      <th>1</th>\n",
       "      <td>IF142158893220090701150416</td>\n",
       "      <td>US001201</td>\n",
       "      <td>2020-04-11</td>\n",
       "      <td>2020-06-24</td>\n",
       "      <td>F</td>\n",
       "      <td>040</td>\n",
       "      <td>285</td>\n",
       "      <td>127</td>\n",
       "      <td>502</td>\n",
       "      <td>10968</td>\n",
       "      <td>...</td>\n",
       "      <td>200</td>\n",
       "      <td>0</td>\n",
       "      <td>41.833333</td>\n",
       "      <td>56.0</td>\n",
       "      <td>74.0</td>\n",
       "      <td>111.0</td>\n",
       "      <td>0.0</td>\n",
       "      <td>1.0</td>\n",
       "      <td>6.0</td>\n",
       "      <td>1.3</td>\n",
       "    </tr>\n",
       "    <tr>\n",
       "      <th>2</th>\n",
       "      <td>IF142158896620090701190525</td>\n",
       "      <td>US001201</td>\n",
       "      <td>2020-07-06</td>\n",
       "      <td>2020-07-06</td>\n",
       "      <td>M</td>\n",
       "      <td>046</td>\n",
       "      <td>1</td>\n",
       "      <td>0</td>\n",
       "      <td>8860</td>\n",
       "      <td>1500</td>\n",
       "      <td>...</td>\n",
       "      <td>8860</td>\n",
       "      <td>8860</td>\n",
       "      <td>8860.000000</td>\n",
       "      <td>0.0</td>\n",
       "      <td>0.0</td>\n",
       "      <td>25.0</td>\n",
       "      <td>0.0</td>\n",
       "      <td>0.0</td>\n",
       "      <td>0.0</td>\n",
       "      <td>0.0</td>\n",
       "    </tr>\n",
       "  </tbody>\n",
       "</table>\n",
       "<p>3 rows × 29 columns</p>\n",
       "</div>"
      ],
      "text/plain": [
       "                insd_usermbr_no    mno_cd first_prchs_dt last_prchs_dt  \\\n",
       "0  IF14210296502009062300092258  US001201     2020-03-29    2020-06-29   \n",
       "1    IF142158893220090701150416  US001201     2020-04-11    2020-06-24   \n",
       "2    IF142158896620090701190525  US001201     2020-07-06    2020-07-06   \n",
       "\n",
       "  sex_clsf_cd age_cd  total_prchs_cnt  weekend_prchs_cnt  total_payment_amt  \\\n",
       "0           M    042               12                  3              93630   \n",
       "1           F    040              285                127                502   \n",
       "2           M    046                1                  0               8860   \n",
       "\n",
       "   total_cpt_amt  ...  wly_prchs_amt_max wly_prchs_amt_min wly_prchs_amt_mean  \\\n",
       "0           5670  ...              55670             10100       23407.500000   \n",
       "1          10968  ...                200                 0          41.833333   \n",
       "2           1500  ...               8860              8860        8860.000000   \n",
       "\n",
       "  frequency  recency      T  total_buys  dt_step_min  dt_step_max  \\\n",
       "0       3.0     92.0  124.0         0.0         15.0         45.0   \n",
       "1      56.0     74.0  111.0         0.0          1.0          6.0   \n",
       "2       0.0      0.0   25.0         0.0          0.0          0.0   \n",
       "\n",
       "   dt_step_mean  \n",
       "0          23.0  \n",
       "1           1.3  \n",
       "2           0.0  \n",
       "\n",
       "[3 rows x 29 columns]"
      ]
     },
     "execution_count": 5,
     "metadata": {},
     "output_type": "execute_result"
    }
   ],
   "source": [
    "df.head(3)"
   ]
  },
  {
   "cell_type": "markdown",
   "metadata": {},
   "source": [
    "**성별, 나이를 알수 없는 고객들을 따로 분리**"
   ]
  },
  {
   "cell_type": "code",
   "execution_count": 6,
   "metadata": {},
   "outputs": [],
   "source": [
    "df = df[(df['age_cd'] != 'ZZZ') & (df['sex_clsf_cd']!='Z')]"
   ]
  },
  {
   "cell_type": "markdown",
   "metadata": {},
   "source": [
    "**예측을 위해 나이와 성별을 따로 빼냄**"
   ]
  },
  {
   "cell_type": "code",
   "execution_count": 7,
   "metadata": {},
   "outputs": [],
   "source": [
    "df_age = df[['age_cd']].astype(int)\n",
    "df_sex = df[['sex_clsf_cd']]\n",
    "\n",
    "#필요없는 컬럼 제거\n",
    "df.drop(['insd_usermbr_no','first_prchs_dt','last_prchs_dt','total_buys','pref_dtl_category'], axis = 1 ,inplace = True)"
   ]
  },
  {
   "cell_type": "markdown",
   "metadata": {},
   "source": [
    "## 나이 예측하기"
   ]
  },
  {
   "cell_type": "code",
   "execution_count": 8,
   "metadata": {},
   "outputs": [],
   "source": [
    "age_test = df.drop(['age_cd'] ,axis = 1)"
   ]
  },
  {
   "cell_type": "code",
   "execution_count": 9,
   "metadata": {},
   "outputs": [],
   "source": [
    "#시간대 라벨인코딩\n",
    "le = LabelEncoder()\n",
    "le.fit(age_test['pref_tm'])\n",
    "age_test['pref_tm'] = le.transform(age_test['pref_tm'])"
   ]
  },
  {
   "cell_type": "code",
   "execution_count": 10,
   "metadata": {},
   "outputs": [],
   "source": [
    "#카테고리 컬럼 onehot인코딩\n",
    "age_test = pd.get_dummies(age_test,columns = ['sex_clsf_cd','pref_category','mno_cd'])"
   ]
  },
  {
   "cell_type": "code",
   "execution_count": 12,
   "metadata": {},
   "outputs": [
    {
     "data": {
      "text/html": [
       "<div>\n",
       "<style scoped>\n",
       "    .dataframe tbody tr th:only-of-type {\n",
       "        vertical-align: middle;\n",
       "    }\n",
       "\n",
       "    .dataframe tbody tr th {\n",
       "        vertical-align: top;\n",
       "    }\n",
       "\n",
       "    .dataframe thead th {\n",
       "        text-align: right;\n",
       "    }\n",
       "</style>\n",
       "<table border=\"1\" class=\"dataframe\">\n",
       "  <thead>\n",
       "    <tr style=\"text-align: right;\">\n",
       "      <th></th>\n",
       "      <th>total_prchs_cnt</th>\n",
       "      <th>weekend_prchs_cnt</th>\n",
       "      <th>total_payment_amt</th>\n",
       "      <th>total_cpt_amt</th>\n",
       "      <th>total_prod_amt</th>\n",
       "      <th>pref_tm</th>\n",
       "      <th>dly_prchs_amt_max</th>\n",
       "      <th>dly_prchs_amt_min</th>\n",
       "      <th>mly_prchs_amt_min</th>\n",
       "      <th>mly_prchs_amt_max</th>\n",
       "      <th>...</th>\n",
       "      <th>pref_category_웹툰</th>\n",
       "      <th>pref_category_정액제</th>\n",
       "      <th>mno_cd_US001201</th>\n",
       "      <th>mno_cd_US001202</th>\n",
       "      <th>mno_cd_US001203</th>\n",
       "      <th>mno_cd_US001205</th>\n",
       "      <th>mno_cd_US001206</th>\n",
       "      <th>mno_cd_US001208</th>\n",
       "      <th>mno_cd_US001209</th>\n",
       "      <th>mno_cd_US001210</th>\n",
       "    </tr>\n",
       "  </thead>\n",
       "  <tbody>\n",
       "    <tr>\n",
       "      <th>0</th>\n",
       "      <td>12</td>\n",
       "      <td>3</td>\n",
       "      <td>93630</td>\n",
       "      <td>5670</td>\n",
       "      <td>99300</td>\n",
       "      <td>22</td>\n",
       "      <td>55670</td>\n",
       "      <td>10100</td>\n",
       "      <td>15660</td>\n",
       "      <td>55670</td>\n",
       "      <td>...</td>\n",
       "      <td>0</td>\n",
       "      <td>0</td>\n",
       "      <td>1</td>\n",
       "      <td>0</td>\n",
       "      <td>0</td>\n",
       "      <td>0</td>\n",
       "      <td>0</td>\n",
       "      <td>0</td>\n",
       "      <td>0</td>\n",
       "      <td>0</td>\n",
       "    </tr>\n",
       "    <tr>\n",
       "      <th>1</th>\n",
       "      <td>285</td>\n",
       "      <td>127</td>\n",
       "      <td>502</td>\n",
       "      <td>10968</td>\n",
       "      <td>29660</td>\n",
       "      <td>0</td>\n",
       "      <td>100</td>\n",
       "      <td>0</td>\n",
       "      <td>0</td>\n",
       "      <td>407</td>\n",
       "      <td>...</td>\n",
       "      <td>0</td>\n",
       "      <td>0</td>\n",
       "      <td>1</td>\n",
       "      <td>0</td>\n",
       "      <td>0</td>\n",
       "      <td>0</td>\n",
       "      <td>0</td>\n",
       "      <td>0</td>\n",
       "      <td>0</td>\n",
       "      <td>0</td>\n",
       "    </tr>\n",
       "    <tr>\n",
       "      <th>2</th>\n",
       "      <td>1</td>\n",
       "      <td>0</td>\n",
       "      <td>8860</td>\n",
       "      <td>1500</td>\n",
       "      <td>10360</td>\n",
       "      <td>8</td>\n",
       "      <td>8860</td>\n",
       "      <td>8860</td>\n",
       "      <td>8860</td>\n",
       "      <td>8860</td>\n",
       "      <td>...</td>\n",
       "      <td>0</td>\n",
       "      <td>0</td>\n",
       "      <td>1</td>\n",
       "      <td>0</td>\n",
       "      <td>0</td>\n",
       "      <td>0</td>\n",
       "      <td>0</td>\n",
       "      <td>0</td>\n",
       "      <td>0</td>\n",
       "      <td>0</td>\n",
       "    </tr>\n",
       "  </tbody>\n",
       "</table>\n",
       "<p>3 rows × 36 columns</p>\n",
       "</div>"
      ],
      "text/plain": [
       "   total_prchs_cnt  weekend_prchs_cnt  total_payment_amt  total_cpt_amt  \\\n",
       "0               12                  3              93630           5670   \n",
       "1              285                127                502          10968   \n",
       "2                1                  0               8860           1500   \n",
       "\n",
       "   total_prod_amt  pref_tm  dly_prchs_amt_max  dly_prchs_amt_min  \\\n",
       "0           99300       22              55670              10100   \n",
       "1           29660        0                100                  0   \n",
       "2           10360        8               8860               8860   \n",
       "\n",
       "   mly_prchs_amt_min  mly_prchs_amt_max  ...  pref_category_웹툰  \\\n",
       "0              15660              55670  ...                 0   \n",
       "1                  0                407  ...                 0   \n",
       "2               8860               8860  ...                 0   \n",
       "\n",
       "   pref_category_정액제  mno_cd_US001201  mno_cd_US001202  mno_cd_US001203  \\\n",
       "0                  0                1                0                0   \n",
       "1                  0                1                0                0   \n",
       "2                  0                1                0                0   \n",
       "\n",
       "   mno_cd_US001205  mno_cd_US001206  mno_cd_US001208  mno_cd_US001209  \\\n",
       "0                0                0                0                0   \n",
       "1                0                0                0                0   \n",
       "2                0                0                0                0   \n",
       "\n",
       "   mno_cd_US001210  \n",
       "0                0  \n",
       "1                0  \n",
       "2                0  \n",
       "\n",
       "[3 rows x 36 columns]"
      ]
     },
     "execution_count": 12,
     "metadata": {},
     "output_type": "execute_result"
    }
   ],
   "source": [
    "age_test.head(3)"
   ]
  },
  {
   "cell_type": "code",
   "execution_count": 13,
   "metadata": {},
   "outputs": [],
   "source": [
    "x_train, x_val, y_train, y_val = train_test_split(age_test, df_age, test_size = 0.25, random_state =  2020)"
   ]
  },
  {
   "cell_type": "code",
   "execution_count": null,
   "metadata": {},
   "outputs": [],
   "source": [
    "cat =  CatBoostRegressor(depth = 10, iterations= 1000 ,eval_metric='MAE', learning_rate=0.01)\n",
    "cat.fit(x_train , y_train)"
   ]
  },
  {
   "cell_type": "code",
   "execution_count": 20,
   "metadata": {},
   "outputs": [
    {
     "data": {
      "text/plain": [
       "6.78090460590204"
      ]
     },
     "metadata": {},
     "output_type": "display_data"
    }
   ],
   "source": [
    "age_pred = cat.predict(x_val)\n",
    "display(mae(y_val, age_pred))"
   ]
  },
  {
   "cell_type": "markdown",
   "metadata": {},
   "source": [
    "**7세 정도의 오차**  \n",
    "*나이를 범주하 하여 예측하면 더 나을까??*"
   ]
  },
  {
   "cell_type": "markdown",
   "metadata": {},
   "source": [
    "## 성별 예측해보기"
   ]
  },
  {
   "cell_type": "code",
   "execution_count": 129,
   "metadata": {},
   "outputs": [],
   "source": [
    "df['age_cd'] = df['age_cd'].astype(int)"
   ]
  },
  {
   "cell_type": "code",
   "execution_count": 134,
   "metadata": {},
   "outputs": [
    {
     "data": {
      "text/plain": [
       "array([1, 0, 1, ..., 0, 0, 0])"
      ]
     },
     "execution_count": 134,
     "metadata": {},
     "output_type": "execute_result"
    }
   ],
   "source": [
    "#성별 예측을 위한 라벨인코딩\n",
    "df_sex = le.fit_transform(df_sex['sex_clsf_cd'])\n",
    "df_sex"
   ]
  },
  {
   "cell_type": "code",
   "execution_count": 135,
   "metadata": {},
   "outputs": [],
   "source": [
    "df.drop(['insd_usermbr_no','first_prchs_dt','last_prchs_dt','total_buys','pref_dtl_category'], axis = 1 ,inplace = True)"
   ]
  },
  {
   "cell_type": "code",
   "execution_count": 136,
   "metadata": {},
   "outputs": [],
   "source": [
    "sex_test = df.drop(['sex_clsf_cd'] ,axis = 1)"
   ]
  },
  {
   "cell_type": "code",
   "execution_count": 137,
   "metadata": {},
   "outputs": [],
   "source": [
    "le = LabelEncoder()\n",
    "le.fit(sex_test['pref_tm'])\n",
    "#시간대 라벨인코딩\n",
    "sex_test['pref_tm'] = le.transform(sex_test['pref_tm'])"
   ]
  },
  {
   "cell_type": "code",
   "execution_count": 138,
   "metadata": {},
   "outputs": [],
   "source": [
    "#카테고리 컬럼 onehot 인코딩\n",
    "sex_test = pd.get_dummies(sex_test,columns = ['pref_category','mno_cd'])"
   ]
  },
  {
   "cell_type": "code",
   "execution_count": 139,
   "metadata": {},
   "outputs": [],
   "source": [
    "x_train, x_val, y_train, y_val = train_test_split(sex_test, df_sex, test_size = 0.25, random_state =  2020)"
   ]
  },
  {
   "cell_type": "code",
   "execution_count": 140,
   "metadata": {},
   "outputs": [],
   "source": [
    "from catboost import CatBoostClassifier , Pool"
   ]
  },
  {
   "cell_type": "code",
   "execution_count": null,
   "metadata": {},
   "outputs": [],
   "source": [
    "cat =  CatBoostClassifier(depth = 10, iterations= 1000 ,eval_metric='Accuracy', learning_rate=0.01)\n",
    "cat.fit(x_train , y_train)"
   ]
  },
  {
   "cell_type": "code",
   "execution_count": 142,
   "metadata": {},
   "outputs": [],
   "source": [
    "val_pred = cat.predict(x_val)\n",
    "train_pred = cat.predict(x_train)"
   ]
  },
  {
   "cell_type": "code",
   "execution_count": 143,
   "metadata": {},
   "outputs": [
    {
     "data": {
      "text/plain": [
       "0.7461741093828399"
      ]
     },
     "metadata": {},
     "output_type": "display_data"
    },
    {
     "data": {
      "text/plain": [
       "0.7301547045396906"
      ]
     },
     "metadata": {},
     "output_type": "display_data"
    },
    {
     "data": {
      "text/plain": [
       "0.7500325648039599"
      ]
     },
     "metadata": {},
     "output_type": "display_data"
    },
    {
     "data": {
      "text/plain": [
       "0.7399601619225085"
      ]
     },
     "metadata": {},
     "output_type": "display_data"
    }
   ],
   "source": [
    "display(accuracy_score(y_val, val_pred), recall_score(y_val,val_pred),precision_score(y_val,val_pred),f1_score(y_val,val_pred))"
   ]
  },
  {
   "cell_type": "code",
   "execution_count": 144,
   "metadata": {},
   "outputs": [],
   "source": [
    "from sklearn.metrics import confusion_matrix"
   ]
  },
  {
   "cell_type": "code",
   "execution_count": 145,
   "metadata": {},
   "outputs": [
    {
     "data": {
      "text/plain": [
       "array([[12278,  3838],\n",
       "       [ 4256, 11516]], dtype=int64)"
      ]
     },
     "execution_count": 145,
     "metadata": {},
     "output_type": "execute_result"
    }
   ],
   "source": [
    "confusion_matrix(y_val, val_pred)"
   ]
  },
  {
   "cell_type": "markdown",
   "metadata": {},
   "source": [
    "### 성별, 나이가 없는 고객과 있는 고객 비교"
   ]
  },
  {
   "cell_type": "code",
   "execution_count": 21,
   "metadata": {},
   "outputs": [],
   "source": [
    "import sweetviz as sv"
   ]
  },
  {
   "cell_type": "code",
   "execution_count": null,
   "metadata": {},
   "outputs": [],
   "source": [
    "df= pd.read_csv('P:/final_prchs_data.csv')\n",
    "zzz = df[(df['age_cd'] == 'ZZZ') | (df['sex_clsf_cd']=='Z')]\n",
    "nonzzz = df[(df['age_cd'] != 'ZZZ') & (df['sex_clsf_cd'] != 'Z')]"
   ]
  },
  {
   "cell_type": "code",
   "execution_count": null,
   "metadata": {},
   "outputs": [],
   "source": [
    "#sweetviz의 compare를 사용해서 차이를 확인\n",
    "df1 = sv.compare(zzz, nonzzz)\n",
    "df1.show_html('P://sweetviz_Compare.html')"
   ]
  },
  {
   "cell_type": "markdown",
   "metadata": {},
   "source": [
    "**예측 성능도 좋지 않고, 성별과 나이가 없는 고객들만의 특징도 식별할 수 없어  \n",
    "전체데이터에서 제외하기로 결정**"
   ]
  }
 ],
 "metadata": {
  "kernelspec": {
   "display_name": "Python 3",
   "language": "python",
   "name": "python3"
  },
  "language_info": {
   "codemirror_mode": {
    "name": "ipython",
    "version": 3
   },
   "file_extension": ".py",
   "mimetype": "text/x-python",
   "name": "python",
   "nbconvert_exporter": "python",
   "pygments_lexer": "ipython3",
   "version": "3.8.3"
  }
 },
 "nbformat": 4,
 "nbformat_minor": 4
}
