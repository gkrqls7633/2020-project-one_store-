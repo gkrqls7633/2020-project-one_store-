{
 "cells": [
  {
   "cell_type": "code",
   "execution_count": 129,
   "metadata": {},
   "outputs": [],
   "source": [
    "import pandas as pd\n",
    "import numpy as np\n",
    "from datetime import date\n",
    "\n",
    "import lifetimes"
   ]
  },
  {
   "cell_type": "code",
   "execution_count": 130,
   "metadata": {},
   "outputs": [],
   "source": [
    "import numpy as np\n",
    "import sklearn"
   ]
  },
  {
   "cell_type": "code",
   "execution_count": 131,
   "metadata": {},
   "outputs": [],
   "source": [
    "import matplotlib.pyplot as plt\n",
    "import seaborn as sns"
   ]
  },
  {
   "cell_type": "code",
   "execution_count": 132,
   "metadata": {},
   "outputs": [],
   "source": [
    "from sklearn.model_selection import train_test_split"
   ]
  },
  {
   "cell_type": "code",
   "execution_count": 133,
   "metadata": {},
   "outputs": [],
   "source": [
    "pd.options.mode.chained_assignment = None"
   ]
  },
  {
   "cell_type": "code",
   "execution_count": 134,
   "metadata": {},
   "outputs": [],
   "source": [
    "cust = pd.read_csv('P:/onestore/customer_df_2345_final2.csv')"
   ]
  },
  {
   "cell_type": "code",
   "execution_count": 135,
   "metadata": {},
   "outputs": [],
   "source": [
    "test = pd.read_csv('P:/onestore/customer_df_67_final2.csv')"
   ]
  },
  {
   "cell_type": "code",
   "execution_count": 136,
   "metadata": {},
   "outputs": [],
   "source": [
    "pd.set_option('display.max_columns', None)"
   ]
  },
  {
   "cell_type": "code",
   "execution_count": 137,
   "metadata": {},
   "outputs": [
    {
     "data": {
      "text/html": [
       "<div>\n",
       "<style scoped>\n",
       "    .dataframe tbody tr th:only-of-type {\n",
       "        vertical-align: middle;\n",
       "    }\n",
       "\n",
       "    .dataframe tbody tr th {\n",
       "        vertical-align: top;\n",
       "    }\n",
       "\n",
       "    .dataframe thead th {\n",
       "        text-align: right;\n",
       "    }\n",
       "</style>\n",
       "<table border=\"1\" class=\"dataframe\">\n",
       "  <thead>\n",
       "    <tr style=\"text-align: right;\">\n",
       "      <th></th>\n",
       "      <th>sex_clsf_cd</th>\n",
       "      <th>age_cd</th>\n",
       "      <th>total_prchs_cnt</th>\n",
       "      <th>weekend_prchs_cnt</th>\n",
       "      <th>total_payment_amt</th>\n",
       "      <th>total_cpt_amt</th>\n",
       "      <th>total_prod_amt</th>\n",
       "      <th>pref_tm</th>\n",
       "      <th>dly_prchs_amt_max</th>\n",
       "      <th>dly_prchs_amt_min</th>\n",
       "      <th>mly_prchs_amt_min</th>\n",
       "      <th>mly_prchs_amt_max</th>\n",
       "      <th>mly_prchs_amt_mean</th>\n",
       "      <th>wly_prchs_amt_max</th>\n",
       "      <th>wly_prchs_amt_min</th>\n",
       "      <th>wly_prchs_amt_mean</th>\n",
       "      <th>frequency</th>\n",
       "      <th>recency</th>\n",
       "      <th>T</th>\n",
       "      <th>dt_step_min</th>\n",
       "      <th>dt_step_max</th>\n",
       "      <th>dt_step_mean</th>\n",
       "      <th>bin_count</th>\n",
       "      <th>pref_category_eBook</th>\n",
       "      <th>pref_category_만화</th>\n",
       "      <th>pref_category_오디오북</th>\n",
       "      <th>pref_category_웹소설</th>\n",
       "      <th>pref_category_웹툰</th>\n",
       "      <th>pref_category_정액제</th>\n",
       "      <th>mno_cd_US001201</th>\n",
       "      <th>mno_cd_US001202</th>\n",
       "      <th>mno_cd_US001203</th>\n",
       "      <th>mno_cd_US001205</th>\n",
       "      <th>mno_cd_US001206</th>\n",
       "      <th>mno_cd_US001208</th>\n",
       "      <th>mno_cd_US001209</th>\n",
       "      <th>mno_cd_US001210</th>\n",
       "      <th>cluster_label_0</th>\n",
       "      <th>cluster_label_1</th>\n",
       "      <th>cluster_label_2</th>\n",
       "    </tr>\n",
       "  </thead>\n",
       "  <tbody>\n",
       "    <tr>\n",
       "      <th>0</th>\n",
       "      <td>1</td>\n",
       "      <td>42</td>\n",
       "      <td>2.397895</td>\n",
       "      <td>1.098612</td>\n",
       "      <td>11.175086</td>\n",
       "      <td>7.771067</td>\n",
       "      <td>11.207772</td>\n",
       "      <td>6</td>\n",
       "      <td>10.927215</td>\n",
       "      <td>9.658929</td>\n",
       "      <td>9.658929</td>\n",
       "      <td>10.927215</td>\n",
       "      <td>10.481953</td>\n",
       "      <td>10.927215</td>\n",
       "      <td>9.658929</td>\n",
       "      <td>10.481953</td>\n",
       "      <td>0.693147</td>\n",
       "      <td>32.0</td>\n",
       "      <td>63.0</td>\n",
       "      <td>3.496508</td>\n",
       "      <td>32.0</td>\n",
       "      <td>32.0</td>\n",
       "      <td>0</td>\n",
       "      <td>1</td>\n",
       "      <td>0</td>\n",
       "      <td>0</td>\n",
       "      <td>0</td>\n",
       "      <td>0</td>\n",
       "      <td>0</td>\n",
       "      <td>1</td>\n",
       "      <td>0</td>\n",
       "      <td>0</td>\n",
       "      <td>0</td>\n",
       "      <td>0</td>\n",
       "      <td>0</td>\n",
       "      <td>0</td>\n",
       "      <td>0</td>\n",
       "      <td>1</td>\n",
       "      <td>0</td>\n",
       "      <td>0</td>\n",
       "    </tr>\n",
       "    <tr>\n",
       "      <th>1</th>\n",
       "      <td>0</td>\n",
       "      <td>40</td>\n",
       "      <td>5.308268</td>\n",
       "      <td>4.663439</td>\n",
       "      <td>4.564348</td>\n",
       "      <td>8.795734</td>\n",
       "      <td>10.043293</td>\n",
       "      <td>6</td>\n",
       "      <td>4.564348</td>\n",
       "      <td>0.000000</td>\n",
       "      <td>0.000000</td>\n",
       "      <td>4.564348</td>\n",
       "      <td>3.881564</td>\n",
       "      <td>4.564348</td>\n",
       "      <td>0.000000</td>\n",
       "      <td>2.555287</td>\n",
       "      <td>3.610918</td>\n",
       "      <td>50.0</td>\n",
       "      <td>50.0</td>\n",
       "      <td>0.693147</td>\n",
       "      <td>6.0</td>\n",
       "      <td>1.4</td>\n",
       "      <td>0</td>\n",
       "      <td>0</td>\n",
       "      <td>0</td>\n",
       "      <td>0</td>\n",
       "      <td>1</td>\n",
       "      <td>0</td>\n",
       "      <td>0</td>\n",
       "      <td>1</td>\n",
       "      <td>0</td>\n",
       "      <td>0</td>\n",
       "      <td>0</td>\n",
       "      <td>0</td>\n",
       "      <td>0</td>\n",
       "      <td>0</td>\n",
       "      <td>0</td>\n",
       "      <td>0</td>\n",
       "      <td>1</td>\n",
       "      <td>0</td>\n",
       "    </tr>\n",
       "    <tr>\n",
       "      <th>2</th>\n",
       "      <td>0</td>\n",
       "      <td>39</td>\n",
       "      <td>3.258097</td>\n",
       "      <td>2.890372</td>\n",
       "      <td>8.716208</td>\n",
       "      <td>5.303305</td>\n",
       "      <td>8.748464</td>\n",
       "      <td>6</td>\n",
       "      <td>7.696667</td>\n",
       "      <td>6.398595</td>\n",
       "      <td>7.496097</td>\n",
       "      <td>7.696667</td>\n",
       "      <td>7.617923</td>\n",
       "      <td>7.696667</td>\n",
       "      <td>6.398595</td>\n",
       "      <td>7.330405</td>\n",
       "      <td>1.386294</td>\n",
       "      <td>66.0</td>\n",
       "      <td>66.0</td>\n",
       "      <td>2.708050</td>\n",
       "      <td>36.0</td>\n",
       "      <td>16.5</td>\n",
       "      <td>0</td>\n",
       "      <td>0</td>\n",
       "      <td>0</td>\n",
       "      <td>0</td>\n",
       "      <td>0</td>\n",
       "      <td>1</td>\n",
       "      <td>0</td>\n",
       "      <td>1</td>\n",
       "      <td>0</td>\n",
       "      <td>0</td>\n",
       "      <td>0</td>\n",
       "      <td>0</td>\n",
       "      <td>0</td>\n",
       "      <td>0</td>\n",
       "      <td>0</td>\n",
       "      <td>1</td>\n",
       "      <td>0</td>\n",
       "      <td>0</td>\n",
       "    </tr>\n",
       "    <tr>\n",
       "      <th>3</th>\n",
       "      <td>1</td>\n",
       "      <td>45</td>\n",
       "      <td>5.003946</td>\n",
       "      <td>2.639057</td>\n",
       "      <td>12.605322</td>\n",
       "      <td>10.317615</td>\n",
       "      <td>12.701991</td>\n",
       "      <td>6</td>\n",
       "      <td>10.950824</td>\n",
       "      <td>0.000000</td>\n",
       "      <td>0.000000</td>\n",
       "      <td>12.195446</td>\n",
       "      <td>11.219038</td>\n",
       "      <td>11.581854</td>\n",
       "      <td>0.000000</td>\n",
       "      <td>10.302767</td>\n",
       "      <td>2.995732</td>\n",
       "      <td>116.0</td>\n",
       "      <td>118.0</td>\n",
       "      <td>0.693147</td>\n",
       "      <td>40.0</td>\n",
       "      <td>5.8</td>\n",
       "      <td>1</td>\n",
       "      <td>0</td>\n",
       "      <td>0</td>\n",
       "      <td>0</td>\n",
       "      <td>0</td>\n",
       "      <td>1</td>\n",
       "      <td>0</td>\n",
       "      <td>1</td>\n",
       "      <td>0</td>\n",
       "      <td>0</td>\n",
       "      <td>0</td>\n",
       "      <td>0</td>\n",
       "      <td>0</td>\n",
       "      <td>0</td>\n",
       "      <td>0</td>\n",
       "      <td>0</td>\n",
       "      <td>1</td>\n",
       "      <td>0</td>\n",
       "    </tr>\n",
       "    <tr>\n",
       "      <th>4</th>\n",
       "      <td>1</td>\n",
       "      <td>52</td>\n",
       "      <td>3.761200</td>\n",
       "      <td>3.044522</td>\n",
       "      <td>11.790943</td>\n",
       "      <td>9.301186</td>\n",
       "      <td>11.870607</td>\n",
       "      <td>6</td>\n",
       "      <td>10.236418</td>\n",
       "      <td>8.188967</td>\n",
       "      <td>9.968854</td>\n",
       "      <td>10.609082</td>\n",
       "      <td>10.404672</td>\n",
       "      <td>10.236418</td>\n",
       "      <td>8.881975</td>\n",
       "      <td>9.593779</td>\n",
       "      <td>2.564949</td>\n",
       "      <td>119.0</td>\n",
       "      <td>120.0</td>\n",
       "      <td>0.693147</td>\n",
       "      <td>32.0</td>\n",
       "      <td>9.2</td>\n",
       "      <td>0</td>\n",
       "      <td>0</td>\n",
       "      <td>1</td>\n",
       "      <td>0</td>\n",
       "      <td>0</td>\n",
       "      <td>0</td>\n",
       "      <td>0</td>\n",
       "      <td>1</td>\n",
       "      <td>0</td>\n",
       "      <td>0</td>\n",
       "      <td>0</td>\n",
       "      <td>0</td>\n",
       "      <td>0</td>\n",
       "      <td>0</td>\n",
       "      <td>0</td>\n",
       "      <td>0</td>\n",
       "      <td>1</td>\n",
       "      <td>0</td>\n",
       "    </tr>\n",
       "  </tbody>\n",
       "</table>\n",
       "</div>"
      ],
      "text/plain": [
       "   sex_clsf_cd  age_cd  total_prchs_cnt  weekend_prchs_cnt  total_payment_amt  \\\n",
       "0            1      42         2.397895           1.098612          11.175086   \n",
       "1            0      40         5.308268           4.663439           4.564348   \n",
       "2            0      39         3.258097           2.890372           8.716208   \n",
       "3            1      45         5.003946           2.639057          12.605322   \n",
       "4            1      52         3.761200           3.044522          11.790943   \n",
       "\n",
       "   total_cpt_amt  total_prod_amt  pref_tm  dly_prchs_amt_max  \\\n",
       "0       7.771067       11.207772        6          10.927215   \n",
       "1       8.795734       10.043293        6           4.564348   \n",
       "2       5.303305        8.748464        6           7.696667   \n",
       "3      10.317615       12.701991        6          10.950824   \n",
       "4       9.301186       11.870607        6          10.236418   \n",
       "\n",
       "   dly_prchs_amt_min  mly_prchs_amt_min  mly_prchs_amt_max  \\\n",
       "0           9.658929           9.658929          10.927215   \n",
       "1           0.000000           0.000000           4.564348   \n",
       "2           6.398595           7.496097           7.696667   \n",
       "3           0.000000           0.000000          12.195446   \n",
       "4           8.188967           9.968854          10.609082   \n",
       "\n",
       "   mly_prchs_amt_mean  wly_prchs_amt_max  wly_prchs_amt_min  \\\n",
       "0           10.481953          10.927215           9.658929   \n",
       "1            3.881564           4.564348           0.000000   \n",
       "2            7.617923           7.696667           6.398595   \n",
       "3           11.219038          11.581854           0.000000   \n",
       "4           10.404672          10.236418           8.881975   \n",
       "\n",
       "   wly_prchs_amt_mean  frequency  recency      T  dt_step_min  dt_step_max  \\\n",
       "0           10.481953   0.693147     32.0   63.0     3.496508         32.0   \n",
       "1            2.555287   3.610918     50.0   50.0     0.693147          6.0   \n",
       "2            7.330405   1.386294     66.0   66.0     2.708050         36.0   \n",
       "3           10.302767   2.995732    116.0  118.0     0.693147         40.0   \n",
       "4            9.593779   2.564949    119.0  120.0     0.693147         32.0   \n",
       "\n",
       "   dt_step_mean  bin_count  pref_category_eBook  pref_category_만화  \\\n",
       "0          32.0          0                    1                 0   \n",
       "1           1.4          0                    0                 0   \n",
       "2          16.5          0                    0                 0   \n",
       "3           5.8          1                    0                 0   \n",
       "4           9.2          0                    0                 1   \n",
       "\n",
       "   pref_category_오디오북  pref_category_웹소설  pref_category_웹툰  pref_category_정액제  \\\n",
       "0                   0                  0                 0                  0   \n",
       "1                   0                  1                 0                  0   \n",
       "2                   0                  0                 1                  0   \n",
       "3                   0                  0                 1                  0   \n",
       "4                   0                  0                 0                  0   \n",
       "\n",
       "   mno_cd_US001201  mno_cd_US001202  mno_cd_US001203  mno_cd_US001205  \\\n",
       "0                1                0                0                0   \n",
       "1                1                0                0                0   \n",
       "2                1                0                0                0   \n",
       "3                1                0                0                0   \n",
       "4                1                0                0                0   \n",
       "\n",
       "   mno_cd_US001206  mno_cd_US001208  mno_cd_US001209  mno_cd_US001210  \\\n",
       "0                0                0                0                0   \n",
       "1                0                0                0                0   \n",
       "2                0                0                0                0   \n",
       "3                0                0                0                0   \n",
       "4                0                0                0                0   \n",
       "\n",
       "   cluster_label_0  cluster_label_1  cluster_label_2  \n",
       "0                1                0                0  \n",
       "1                0                1                0  \n",
       "2                1                0                0  \n",
       "3                0                1                0  \n",
       "4                0                1                0  "
      ]
     },
     "execution_count": 137,
     "metadata": {},
     "output_type": "execute_result"
    }
   ],
   "source": [
    "cust.head()"
   ]
  },
  {
   "cell_type": "code",
   "execution_count": 138,
   "metadata": {},
   "outputs": [],
   "source": [
    "cust['dt_step_max'] = cust['dt_step_max'].apply(lambda x: np.log1p(x))\n",
    "cust['dt_step_mean'] = cust['dt_step_mean'].apply(lambda x: np.log1p(x))"
   ]
  },
  {
   "cell_type": "code",
   "execution_count": 139,
   "metadata": {},
   "outputs": [],
   "source": [
    "test['dt_step_max'] = test['dt_step_max'].apply(lambda x: np.log1p(x))\n",
    "test['dt_step_mean'] = test['dt_step_mean'].apply(lambda x: np.log1p(x))"
   ]
  },
  {
   "cell_type": "markdown",
   "metadata": {},
   "source": [
    "## ZZZ 빼기"
   ]
  },
  {
   "cell_type": "code",
   "execution_count": 140,
   "metadata": {},
   "outputs": [],
   "source": [
    "# cust['bin_count'] = cust['total_buys'].apply(lambda x: 0 if x<1 else 1)"
   ]
  },
  {
   "cell_type": "code",
   "execution_count": 141,
   "metadata": {},
   "outputs": [],
   "source": [
    "cust_x = cust.drop(['bin_count'], axis = 1) "
   ]
  },
  {
   "cell_type": "code",
   "execution_count": 142,
   "metadata": {},
   "outputs": [],
   "source": [
    "# 2345월과 67월 고객 수 차이 \n",
    "# display(cust.shape, test.shape)\n",
    "# 130530명, 101778명"
   ]
  },
  {
   "cell_type": "markdown",
   "metadata": {},
   "source": [
    "## 라벨링"
   ]
  },
  {
   "cell_type": "code",
   "execution_count": 143,
   "metadata": {},
   "outputs": [],
   "source": [
    "# from sklearn.preprocessing import LabelEncoder\n",
    "# le = LabelEncoder()\n",
    "# for i in cust.columns[cust.dtypes == object]:\n",
    "#     le.fit(list(cust[i]))\n",
    "#     cust[i] = le.transform(list(cust[i]))\n",
    "    \n",
    "    \n",
    "# le.fit(cust['sex_clsf_cd'])\n",
    "# cust['sex_clsf_cd'] = le.transform(list(cust['sex_clsf_cd']))\n",
    "\n",
    "\n",
    "# # object types > 모두 변환"
   ]
  },
  {
   "cell_type": "code",
   "execution_count": 144,
   "metadata": {
    "scrolled": true
   },
   "outputs": [],
   "source": [
    "# pp.ProfileReport(cust)"
   ]
  },
  {
   "cell_type": "markdown",
   "metadata": {},
   "source": [
    "## Train_Val_Test_split"
   ]
  },
  {
   "cell_type": "code",
   "execution_count": 145,
   "metadata": {},
   "outputs": [],
   "source": [
    "# x가 대입값들, y가 정답값들\n",
    "\n",
    "x_train, x_val, y_train, y_val = train_test_split(cust_x, cust['bin_count'], test_size = 0.25, random_state = 42,stratify = cust['bin_count'])"
   ]
  },
  {
   "cell_type": "code",
   "execution_count": 146,
   "metadata": {},
   "outputs": [],
   "source": [
    "x_test = test.drop(['bin_count'], axis = 1)\n",
    "y_test = test['bin_count']"
   ]
  },
  {
   "cell_type": "code",
   "execution_count": null,
   "metadata": {},
   "outputs": [],
   "source": []
  },
  {
   "cell_type": "code",
   "execution_count": 147,
   "metadata": {},
   "outputs": [],
   "source": [
    "# pred_train = rf.predict(x_train)\n",
    "# pred_train"
   ]
  },
  {
   "cell_type": "markdown",
   "metadata": {},
   "source": [
    "## Modeling\n",
    "\n",
    "(x_train, y_train) (x_val, y_val) (x_test, y_test) "
   ]
  },
  {
   "cell_type": "code",
   "execution_count": 168,
   "metadata": {},
   "outputs": [],
   "source": [
    "from sklearn.metrics import accuracy_score, confusion_matrix, recall_score, precision_score, f1_score, roc_auc_score, roc_curve, precision_recall_curve"
   ]
  },
  {
   "cell_type": "code",
   "execution_count": 172,
   "metadata": {},
   "outputs": [
    {
     "data": {
      "text/plain": [
       "RandomForestClassifier(n_jobs=-1)"
      ]
     },
     "execution_count": 172,
     "metadata": {},
     "output_type": "execute_result"
    }
   ],
   "source": [
    "# # x_train, y_train 넣고, rf 모델 만듦\n",
    "from sklearn.ensemble import RandomForestClassifier\n",
    "rf = RandomForestClassifier(n_jobs = -1)\n",
    "rf.fit(x_train, y_train)\n",
    "\n",
    "# # x_train, y_train 넣고, rf 모델 만듦"
   ]
  },
  {
   "cell_type": "code",
   "execution_count": 173,
   "metadata": {},
   "outputs": [
    {
     "name": "stdout",
     "output_type": "stream",
     "text": [
      "test accuracy: 0.8568166197370464\n",
      "recall: 0.7482097649186257\n",
      "precision: 0.7765182794084529\n",
      "[[56602  5954]\n",
      " [ 6962 20688]]\n"
     ]
    }
   ],
   "source": [
    "pred_test = rf.predict(x_test)\n",
    "print(f'test accuracy: {accuracy_score(y_test, pred_test)}')\n",
    "print(f'recall: {recall_score(y_test, pred_test)}')\n",
    "print(f'precision: {precision_score(y_test, pred_test)}')\n",
    "print(confusion_matrix(y_test, pred_test))"
   ]
  },
  {
   "cell_type": "code",
   "execution_count": 169,
   "metadata": {},
   "outputs": [
    {
     "name": "stdout",
     "output_type": "stream",
     "text": [
      "training accuracy: 0.9999764214894545\n",
      "recall: 0.999934132525359\n",
      "precision: 1.0\n",
      "[[54459     0]\n",
      " [    2 30362]]\n"
     ]
    }
   ],
   "source": [
    "pred_train = rf.predict(x_train)\n",
    "print(f'training accuracy: {accuracy_score(y_train, pred_train)}')\n",
    "print(f'recall: {recall_score(y_train, pred_train)}')\n",
    "print(f'precision: {precision_score(y_train, pred_train)}')\n",
    "print(confusion_matrix(y_train, pred_train))"
   ]
  },
  {
   "cell_type": "markdown",
   "metadata": {},
   "source": [
    "## 그리드서치"
   ]
  },
  {
   "cell_type": "code",
   "execution_count": 108,
   "metadata": {},
   "outputs": [],
   "source": [
    "import timeit\n",
    "from sklearn.model_selection import GridSearchCV"
   ]
  },
  {
   "cell_type": "code",
   "execution_count": 109,
   "metadata": {
    "scrolled": false
   },
   "outputs": [],
   "source": [
    "# # GridSearchCV를 이용\n",
    "\n",
    "# n_estimators = [300, 500]\n",
    "# # n_estimators = [300]\n",
    "# min_samples_leaf = [1]\n",
    "# max_depth = [10, 15]\n",
    "# min_samples_split = [2]\n",
    "# # max_features = ['auto']\n",
    "# max_samples = [0.3, 0.7]\n",
    "\n",
    "# params = {'n_estimators' : n_estimators, 'max_depth' : max_depth, \n",
    "#               'min_samples_leaf': min_samples_leaf, 'max_depth' : max_depth, 'min_samples_split' : min_samples_split} \n",
    "\n",
    "# rf_grid = GridSearchCV(RandomForestClassifier(), param_grid=params, cv=4, scoring='accuracy', n_jobs = -1)\n",
    "\n",
    "# start_time = timeit.default_timer()\n",
    "# rf_grid.fit(x_train, y_train)\n",
    "# terminate_time = timeit.default_timer()\n",
    "\n",
    "# print('opt para : {0}, av auc :{1:.3f}'.format(rf_grid.best_params_, rf_grid.best_score_))\n",
    "# print('%f초 걸림.' %(terminate_time - start_time))\n",
    "\n",
    "# scores_df = pd.DataFrame(rf_grid.cv_results_)\n",
    "# scores_df[['params', 'mean_test_score', 'rank_test_score', 'split0_test_score', 'split1_test_score', 'split2_test_score', 'split3_test_score']]"
   ]
  },
  {
   "cell_type": "code",
   "execution_count": 110,
   "metadata": {},
   "outputs": [],
   "source": [
    "# 왜도 안좋아진 recency t 로그변환 안함"
   ]
  },
  {
   "cell_type": "code",
   "execution_count": 178,
   "metadata": {},
   "outputs": [
    {
     "data": {
      "text/plain": [
       "RandomForestClassifier(max_depth=15, max_features=0.5, n_estimators=500,\n",
       "                       n_jobs=-1, random_state=42)"
      ]
     },
     "execution_count": 178,
     "metadata": {},
     "output_type": "execute_result"
    }
   ],
   "source": [
    "# x_train, y_train 넣고, rf 모델 만듦\n",
    "from sklearn.ensemble import RandomForestClassifier\n",
    "rf_opt = RandomForestClassifier(n_jobs = -1, max_depth = 15, max_features = 0.5, min_samples_split = 2, min_samples_leaf = 1, n_estimators = 500,random_state = 42)\n",
    "rf_opt.fit(x_train, y_train)"
   ]
  },
  {
   "cell_type": "code",
   "execution_count": 112,
   "metadata": {},
   "outputs": [],
   "source": [
    "cust1 = cust.drop(['bin_count'], axis = 1)"
   ]
  },
  {
   "cell_type": "markdown",
   "metadata": {},
   "source": [
    "## 피쳐중요도 "
   ]
  },
  {
   "cell_type": "code",
   "execution_count": 113,
   "metadata": {},
   "outputs": [
    {
     "name": "stderr",
     "output_type": "stream",
     "text": [
      "C:\\ProgramData\\Anaconda3\\lib\\site-packages\\matplotlib\\backends\\backend_agg.py:214: RuntimeWarning: Glyph 51221 missing from current font.\n",
      "  font.set_text(s, 0.0, flags=flags)\n",
      "C:\\ProgramData\\Anaconda3\\lib\\site-packages\\matplotlib\\backends\\backend_agg.py:214: RuntimeWarning: Glyph 50529 missing from current font.\n",
      "  font.set_text(s, 0.0, flags=flags)\n",
      "C:\\ProgramData\\Anaconda3\\lib\\site-packages\\matplotlib\\backends\\backend_agg.py:214: RuntimeWarning: Glyph 51228 missing from current font.\n",
      "  font.set_text(s, 0.0, flags=flags)\n",
      "C:\\ProgramData\\Anaconda3\\lib\\site-packages\\matplotlib\\backends\\backend_agg.py:214: RuntimeWarning: Glyph 50937 missing from current font.\n",
      "  font.set_text(s, 0.0, flags=flags)\n",
      "C:\\ProgramData\\Anaconda3\\lib\\site-packages\\matplotlib\\backends\\backend_agg.py:214: RuntimeWarning: Glyph 53808 missing from current font.\n",
      "  font.set_text(s, 0.0, flags=flags)\n",
      "C:\\ProgramData\\Anaconda3\\lib\\site-packages\\matplotlib\\backends\\backend_agg.py:214: RuntimeWarning: Glyph 47564 missing from current font.\n",
      "  font.set_text(s, 0.0, flags=flags)\n",
      "C:\\ProgramData\\Anaconda3\\lib\\site-packages\\matplotlib\\backends\\backend_agg.py:214: RuntimeWarning: Glyph 54868 missing from current font.\n",
      "  font.set_text(s, 0.0, flags=flags)\n",
      "C:\\ProgramData\\Anaconda3\\lib\\site-packages\\matplotlib\\backends\\backend_agg.py:214: RuntimeWarning: Glyph 49548 missing from current font.\n",
      "  font.set_text(s, 0.0, flags=flags)\n",
      "C:\\ProgramData\\Anaconda3\\lib\\site-packages\\matplotlib\\backends\\backend_agg.py:214: RuntimeWarning: Glyph 49444 missing from current font.\n",
      "  font.set_text(s, 0.0, flags=flags)\n",
      "C:\\ProgramData\\Anaconda3\\lib\\site-packages\\matplotlib\\backends\\backend_agg.py:214: RuntimeWarning: Glyph 50724 missing from current font.\n",
      "  font.set_text(s, 0.0, flags=flags)\n",
      "C:\\ProgramData\\Anaconda3\\lib\\site-packages\\matplotlib\\backends\\backend_agg.py:214: RuntimeWarning: Glyph 46356 missing from current font.\n",
      "  font.set_text(s, 0.0, flags=flags)\n",
      "C:\\ProgramData\\Anaconda3\\lib\\site-packages\\matplotlib\\backends\\backend_agg.py:214: RuntimeWarning: Glyph 48513 missing from current font.\n",
      "  font.set_text(s, 0.0, flags=flags)\n",
      "C:\\ProgramData\\Anaconda3\\lib\\site-packages\\matplotlib\\backends\\backend_agg.py:183: RuntimeWarning: Glyph 51221 missing from current font.\n",
      "  font.set_text(s, 0, flags=flags)\n",
      "C:\\ProgramData\\Anaconda3\\lib\\site-packages\\matplotlib\\backends\\backend_agg.py:183: RuntimeWarning: Glyph 50529 missing from current font.\n",
      "  font.set_text(s, 0, flags=flags)\n",
      "C:\\ProgramData\\Anaconda3\\lib\\site-packages\\matplotlib\\backends\\backend_agg.py:183: RuntimeWarning: Glyph 51228 missing from current font.\n",
      "  font.set_text(s, 0, flags=flags)\n",
      "C:\\ProgramData\\Anaconda3\\lib\\site-packages\\matplotlib\\backends\\backend_agg.py:183: RuntimeWarning: Glyph 50937 missing from current font.\n",
      "  font.set_text(s, 0, flags=flags)\n",
      "C:\\ProgramData\\Anaconda3\\lib\\site-packages\\matplotlib\\backends\\backend_agg.py:183: RuntimeWarning: Glyph 53808 missing from current font.\n",
      "  font.set_text(s, 0, flags=flags)\n",
      "C:\\ProgramData\\Anaconda3\\lib\\site-packages\\matplotlib\\backends\\backend_agg.py:183: RuntimeWarning: Glyph 47564 missing from current font.\n",
      "  font.set_text(s, 0, flags=flags)\n",
      "C:\\ProgramData\\Anaconda3\\lib\\site-packages\\matplotlib\\backends\\backend_agg.py:183: RuntimeWarning: Glyph 54868 missing from current font.\n",
      "  font.set_text(s, 0, flags=flags)\n",
      "C:\\ProgramData\\Anaconda3\\lib\\site-packages\\matplotlib\\backends\\backend_agg.py:183: RuntimeWarning: Glyph 49548 missing from current font.\n",
      "  font.set_text(s, 0, flags=flags)\n",
      "C:\\ProgramData\\Anaconda3\\lib\\site-packages\\matplotlib\\backends\\backend_agg.py:183: RuntimeWarning: Glyph 49444 missing from current font.\n",
      "  font.set_text(s, 0, flags=flags)\n",
      "C:\\ProgramData\\Anaconda3\\lib\\site-packages\\matplotlib\\backends\\backend_agg.py:183: RuntimeWarning: Glyph 50724 missing from current font.\n",
      "  font.set_text(s, 0, flags=flags)\n",
      "C:\\ProgramData\\Anaconda3\\lib\\site-packages\\matplotlib\\backends\\backend_agg.py:183: RuntimeWarning: Glyph 46356 missing from current font.\n",
      "  font.set_text(s, 0, flags=flags)\n",
      "C:\\ProgramData\\Anaconda3\\lib\\site-packages\\matplotlib\\backends\\backend_agg.py:183: RuntimeWarning: Glyph 48513 missing from current font.\n",
      "  font.set_text(s, 0, flags=flags)\n"
     ]
    },
    {
     "data": {
      "image/png": "[encoded data removed]",
      "text/plain": [
       "<Figure size 1080x504 with 1 Axes>"
      ]
     },
     "metadata": {
      "needs_background": "light"
     },
     "output_type": "display_data"
    }
   ],
   "source": [
    "importance = rf_opt.feature_importances_\n",
    "df_fi = pd.DataFrame({'columns':cust1.columns[:], 'importances':importance})\n",
    "df_fi = df_fi[df_fi['importances'] > 0] # importance가 0이상인 것만 \n",
    "df_fi = df_fi.sort_values(by=['importances'], ascending=False)\n",
    "\n",
    "fig = plt.figure(figsize=(15,7))\n",
    "ax = sns.barplot(df_fi['columns'], df_fi['importances'])\n",
    "ax.set_xticklabels(df_fi['columns'], rotation=80, fontsize=13)\n",
    "plt.tight_layout()\n",
    "plt.show()"
   ]
  },
  {
   "cell_type": "code",
   "execution_count": 114,
   "metadata": {},
   "outputs": [],
   "source": [
    "# roc_curve_plot(y_test, pred_proba)"
   ]
  },
  {
   "cell_type": "code",
   "execution_count": 115,
   "metadata": {},
   "outputs": [
    {
     "name": "stdout",
     "output_type": "stream",
     "text": [
      "validation accuracy: 0.8571175950486295\n",
      "recall: 0.7761090801304219\n",
      "precision: 0.8157648769342611\n",
      "[[16380  1774]\n",
      " [ 2266  7855]]\n"
     ]
    }
   ],
   "source": [
    "pred_val = rf_opt.predict(x_val)\n",
    "print(f'validation accuracy: {accuracy_score(y_val, pred_val)}')\n",
    "print(f'recall: {recall_score(y_val, pred_val)}')\n",
    "print(f'precision: {precision_score(y_val, pred_val)}')\n",
    "print(confusion_matrix(y_val, pred_val))"
   ]
  },
  {
   "cell_type": "code",
   "execution_count": 116,
   "metadata": {},
   "outputs": [
    {
     "name": "stdout",
     "output_type": "stream",
     "text": [
      "validation accuracy: 0.8540760389036252\n",
      "recall: 0.7666238513980832\n",
      "precision: 0.8147642549616717\n",
      "[[16390  1764]\n",
      " [ 2362  7759]]\n"
     ]
    }
   ],
   "source": [
    "pred_val = rf.predict(x_val)\n",
    "print(f'validation accuracy: {accuracy_score(y_val, pred_val)}')\n",
    "print(f'recall: {recall_score(y_val, pred_val)}')\n",
    "print(f'precision: {precision_score(y_val, pred_val)}')\n",
    "print(confusion_matrix(y_val, pred_val))"
   ]
  },
  {
   "cell_type": "markdown",
   "metadata": {},
   "source": [
    "## 함수값 비교해보기"
   ]
  },
  {
   "cell_type": "code",
   "execution_count": 117,
   "metadata": {},
   "outputs": [],
   "source": [
    "from sklearn.metrics import accuracy_score, confusion_matrix, recall_score, precision_score, f1_score, roc_auc_score, roc_curve, precision_recall_curve"
   ]
  },
  {
   "cell_type": "code",
   "execution_count": 118,
   "metadata": {},
   "outputs": [],
   "source": [
    "import matplotlib.pyplot as plt\n",
    "%matplotlib inline"
   ]
  },
  {
   "cell_type": "code",
   "execution_count": 174,
   "metadata": {},
   "outputs": [],
   "source": [
    "def get_clf_eval(y_test, pred=None, pred_proba = None):\n",
    "    confusion = confusion_matrix(y_test, pred)\n",
    "    accuracy = accuracy_score(y_test, pred)\n",
    "    precision = precision_score(y_test, pred)\n",
    "    recall = recall_score(y_test, pred)\n",
    "    f1 = f1_score(y_test, pred)\n",
    "    \n",
    "    roc_auc = roc_auc_score(y_test, pred_proba)\n",
    "    print('오차 행렬')\n",
    "    print(confusion)\n",
    "    \n",
    "    print('정확도: {0:.4f}, 정밀도: {1:.4f}, 재현율: {2:.4f}, F1: {3:.4f}, AUC: {4:.4f}'\n",
    "          .format(accuracy, precision, recall, f1, roc_auc))"
   ]
  },
  {
   "cell_type": "code",
   "execution_count": 175,
   "metadata": {},
   "outputs": [],
   "source": [
    "def roc_curve_plot(y_test, pred_proba):\n",
    "    fprs, tprs, thresholds = roc_curve(y_test, pred_proba)\n",
    "    plt.plot(fprs, tprs, label='ROC')\n",
    "    plt.plot([0,1], [0,1], 'k--', label='Random')\n",
    "    \n",
    "    start, end = plt.xlim()\n",
    "    plt.xticks(np.round(np.arange(start, end, 0.1), 2))\n",
    "    plt.xlim(0, 1); plt.ylim(0, 1)\n",
    "    plt.xlabel('FPR(1 - Sensitivity)'); plt.ylabel('TPR( Recall )')\n",
    "    plt.legend()\n",
    "    "
   ]
  },
  {
   "cell_type": "code",
   "execution_count": 176,
   "metadata": {},
   "outputs": [],
   "source": [
    "def precision_recall_curve_plot(y_test, pred_proba):\n",
    "    precisions, recalls, thresholds = precision_recall_curve(y_test, pred_proba)\n",
    "    \n",
    "    plt.figure(figsize=(8,6))\n",
    "    threshold_boundary = thresholds.shape[0]\n",
    "    plt.plot(thresholds, precisions[0:threshold_boundary], linestyle='--', label = 'precision')\n",
    "    plt.plot(thresholds, recalls[0:threshold_boundary], label='recall')\n",
    "    \n",
    "    start,end = plt.xlim()\n",
    "    plt.xticks(np.round(np.arange(start, end, 0.1), 2))\n",
    "    \n",
    "    plt.xlabel('Threshold value'); plt.ylabel('Precision and Recall value')\n",
    "    plt.legend(); plt.grid()\n",
    "    plt.show()\n",
    "    "
   ]
  },
  {
   "cell_type": "code",
   "execution_count": 177,
   "metadata": {},
   "outputs": [
    {
     "name": "stdout",
     "output_type": "stream",
     "text": [
      "=========================================================================\n",
      " #train VS val\n",
      "오차 행렬\n",
      "[[16392  1762]\n",
      " [ 2370  7751]]\n",
      "정확도: 0.8539, 정밀도: 0.8148, 재현율: 0.7658, F1: 0.7895, AUC: 0.9275\n",
      "=========================================================================\n",
      "# train VS test\n",
      "오차 행렬\n",
      "[[56602  5954]\n",
      " [ 6962 20688]]\n",
      "정확도: 0.8568, 정밀도: 0.7765, 재현율: 0.7482, F1: 0.7621, AUC: 0.9256\n"
     ]
    },
    {
     "data": {
      "image/png": "[encoded data removed]",
      "text/plain": [
       "<Figure size 432x288 with 1 Axes>"
      ]
     },
     "metadata": {
      "needs_background": "light"
     },
     "output_type": "display_data"
    },
    {
     "data": {
      "image/png": "[encoded data removed]",
      "text/plain": [
       "<Figure size 576x432 with 1 Axes>"
      ]
     },
     "metadata": {
      "needs_background": "light"
     },
     "output_type": "display_data"
    }
   ],
   "source": [
    "#test set 평가\n",
    "rf_pred_proba_val = rf.predict_proba(x_val)\n",
    "rf_pred_val = rf.predict(x_val)\n",
    "\n",
    "#test set 평가\n",
    "rf_pred_proba_test = rf.predict_proba(x_test)\n",
    "rf_pred_test = rf.predict(x_test)\n",
    "\n",
    "\n",
    "#validation set 평가\n",
    "print('=========================================================================')\n",
    "print(' #train VS val')\n",
    "get_clf_eval(y_val, rf_pred_val, rf_pred_proba_val[:,1])\n",
    "roc_curve_plot(y_val, rf_pred_proba_val[:, 1])\n",
    "\n",
    "\n",
    "print('=========================================================================')\n",
    "print('# train VS test')\n",
    "get_clf_eval(y_test, rf_pred_test, rf_pred_proba_test[:,1])\n",
    "roc_curve_plot(y_test, rf_pred_proba_test[:, 1])\n",
    "\n",
    "precision_recall_curve_plot(y_test, rf_pred_proba_test[:,1])"
   ]
  },
  {
   "cell_type": "code",
   "execution_count": 179,
   "metadata": {},
   "outputs": [
    {
     "name": "stdout",
     "output_type": "stream",
     "text": [
      "=========================================================================\n",
      " #train VS val\n",
      "오차 행렬\n",
      "[[16380  1774]\n",
      " [ 2266  7855]]\n",
      "정확도: 0.8571, 정밀도: 0.8158, 재현율: 0.7761, F1: 0.7954, AUC: 0.9314\n",
      "=========================================================================\n",
      "# train VS test\n",
      "오차 행렬\n",
      "[[56405  6151]\n",
      " [ 6160 21490]]\n",
      "정확도: 0.8635, 정밀도: 0.7775, 재현율: 0.7772, F1: 0.7773, AUC: 0.9315\n"
     ]
    },
    {
     "data": {
      "image/png": "[encoded data removed]",
      "text/plain": [
       "<Figure size 432x288 with 1 Axes>"
      ]
     },
     "metadata": {
      "needs_background": "light"
     },
     "output_type": "display_data"
    },
    {
     "data": {
      "image/png": "[encoded data removed]",
      "text/plain": [
       "<Figure size 576x432 with 1 Axes>"
      ]
     },
     "metadata": {
      "needs_background": "light"
     },
     "output_type": "display_data"
    }
   ],
   "source": [
    "#test set 평가\n",
    "rf_opt_pred_proba_val = rf_opt.predict_proba(x_val)\n",
    "rf_opt_pred_val = rf_opt.predict(x_val)\n",
    "\n",
    "#test set 평가\n",
    "rf_opt_pred_proba_test = rf_opt.predict_proba(x_test)\n",
    "rf_opt_pred_test = rf_opt.predict(x_test)\n",
    "\n",
    "\n",
    "#validation set 평가\n",
    "print('=========================================================================')\n",
    "print(' #train VS val')\n",
    "get_clf_eval(y_val, rf_opt_pred_val, rf_opt_pred_proba_val[:,1])\n",
    "roc_curve_plot(y_val, rf_opt_pred_proba_val[:, 1])\n",
    "\n",
    "\n",
    "print('=========================================================================')\n",
    "print('# train VS test')\n",
    "get_clf_eval(y_test, rf_opt_pred_test, rf_opt_pred_proba_test[:,1])\n",
    "roc_curve_plot(y_test, rf_opt_pred_proba_test[:, 1])\n",
    "\n",
    "precision_recall_curve_plot(y_test, rf_opt_pred_proba_test[:,1])"
   ]
  },
  {
   "cell_type": "code",
   "execution_count": 180,
   "metadata": {},
   "outputs": [
    {
     "name": "stdout",
     "output_type": "stream",
     "text": [
      "test accuracy: 0.8635234906768952\n",
      "recall: 0.7772151898734178\n",
      "precision: 0.7774682536811258\n",
      "[[56405  6151]\n",
      " [ 6160 21490]]\n"
     ]
    }
   ],
   "source": [
    "pred_test = rf_opt.predict(x_test)\n",
    "print(f'test accuracy: {accuracy_score(y_test, pred_test)}')\n",
    "print(f'recall: {recall_score(y_test, pred_test)}')\n",
    "print(f'precision: {precision_score(y_test, pred_test)}')\n",
    "print(confusion_matrix(y_test, pred_test))"
   ]
  },
  {
   "cell_type": "markdown",
   "metadata": {},
   "source": [
    "## 비교 코드"
   ]
  },
  {
   "cell_type": "code",
   "execution_count": 123,
   "metadata": {
    "scrolled": true
   },
   "outputs": [
    {
     "name": "stdout",
     "output_type": "stream",
     "text": [
      "training accuracy: 0.9447673390471923\n",
      "recall: 0.9161507047819787\n",
      "precision: 0.9285976566411857\n",
      "[[52320  2139]\n",
      " [ 2546 27818]]\n"
     ]
    }
   ],
   "source": [
    "pred_train = rf_opt.predict(x_train)\n",
    "print(f'training accuracy: {accuracy_score(y_train, pred_train)}')\n",
    "print(f'recall: {recall_score(y_train, pred_train)}')\n",
    "print(f'precision: {precision_score(y_train, pred_train)}')\n",
    "print(confusion_matrix(y_train, pred_train))"
   ]
  },
  {
   "cell_type": "code",
   "execution_count": 124,
   "metadata": {},
   "outputs": [
    {
     "name": "stdout",
     "output_type": "stream",
     "text": [
      "validation accuracy: 0.8571175950486295\n",
      "recall: 0.7761090801304219\n",
      "precision: 0.8157648769342611\n",
      "[[16380  1774]\n",
      " [ 2266  7855]]\n"
     ]
    }
   ],
   "source": [
    "pred_val = rf_opt.predict(x_val)\n",
    "print(f'validation accuracy: {accuracy_score(y_val, pred_val)}')\n",
    "print(f'recall: {recall_score(y_val, pred_val)}')\n",
    "print(f'precision: {precision_score(y_val, pred_val)}')\n",
    "print(confusion_matrix(y_val, pred_val))"
   ]
  },
  {
   "cell_type": "code",
   "execution_count": 125,
   "metadata": {},
   "outputs": [
    {
     "name": "stdout",
     "output_type": "stream",
     "text": [
      "test accuracy: 0.8635234906768952\n",
      "recall: 0.7772151898734178\n",
      "precision: 0.7774682536811258\n",
      "[[56405  6151]\n",
      " [ 6160 21490]]\n"
     ]
    }
   ],
   "source": [
    "pred_test = rf_opt.predict(x_test)\n",
    "print(f'test accuracy: {accuracy_score(y_test, pred_test)}')\n",
    "print(f'recall: {recall_score(y_test, pred_test)}')\n",
    "print(f'precision: {precision_score(y_test, pred_test)}')\n",
    "print(confusion_matrix(y_test, pred_test))"
   ]
  },
  {
   "cell_type": "code",
   "execution_count": 128,
   "metadata": {},
   "outputs": [
    {
     "data": {
      "text/plain": [
       "['rf_opt.pkl']"
      ]
     },
     "execution_count": 128,
     "metadata": {},
     "output_type": "execute_result"
    }
   ],
   "source": [
    "import pickle\n",
    "import joblib\n",
    "joblib.dump(rf_opt,'rf_opt.pkl' )"
   ]
  },
  {
   "cell_type": "code",
   "execution_count": null,
   "metadata": {},
   "outputs": [],
   "source": []
  },
  {
   "cell_type": "code",
   "execution_count": null,
   "metadata": {},
   "outputs": [],
   "source": []
  }
 ],
 "metadata": {
  "kernelspec": {
   "display_name": "Python 3",
   "language": "python",
   "name": "python3"
  },
  "language_info": {
   "codemirror_mode": {
    "name": "ipython",
    "version": 3
   },
   "file_extension": ".py",
   "mimetype": "text/x-python",
   "name": "python",
   "nbconvert_exporter": "python",
   "pygments_lexer": "ipython3",
   "version": "3.8.3"
  }
 },
 "nbformat": 4,
 "nbformat_minor": 4
}
