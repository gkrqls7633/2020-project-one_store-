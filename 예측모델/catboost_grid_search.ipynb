{
 "cells": [
  {
   "cell_type": "code",
   "execution_count": 1,
   "metadata": {},
   "outputs": [],
   "source": [
    "import numpy as np\n",
    "import pandas as pd\n",
    "import matplotlib.pyplot as plt\n",
    "import warnings\n",
    "warnings.filterwarnings(action='ignore')\n",
    "\n",
    "#model\n",
    "from catboost import CatBoostClassifier , Pool\n",
    "\n",
    "from sklearn.model_selection import train_test_split , GridSearchCV\n",
    "from sklearn.metrics import accuracy_score, recall_score, precision_score\n",
    "from sklearn.metrics import f1_score, roc_auc_score, roc_curve, precision_recall_curve"
   ]
  },
  {
   "cell_type": "markdown",
   "metadata": {},
   "source": [
    "### 파일로드"
   ]
  },
  {
   "cell_type": "code",
   "execution_count": 2,
   "metadata": {},
   "outputs": [],
   "source": [
    "df_train = pd.read_csv('./data/train.csv',index_col = 0)\n",
    "df_test = pd.read_csv('./data/test.csv',index_col = 0)"
   ]
  },
  {
   "cell_type": "code",
   "execution_count": 3,
   "metadata": {},
   "outputs": [],
   "source": [
    "train_target = df_train['bin_count']\n",
    "test_target = df_test['bin_count']\n",
    "del df_train['bin_count']\n",
    "del df_test['bin_count']"
   ]
  },
  {
   "cell_type": "markdown",
   "metadata": {},
   "source": [
    "### train test split"
   ]
  },
  {
   "cell_type": "code",
   "execution_count": 4,
   "metadata": {},
   "outputs": [],
   "source": [
    "x_train, x_valid , y_train, y_valid = train_test_split(df_train, train_target, test_size =0.25 , stratify = train_target)"
   ]
  },
  {
   "cell_type": "markdown",
   "metadata": {},
   "source": [
    "### grid search"
   ]
  },
  {
   "cell_type": "code",
   "execution_count": 149,
   "metadata": {},
   "outputs": [],
   "source": [
    "clf = CatBoostClassifier()\n",
    "params = {'iterations': [500,1000],\n",
    "          'learning_rate' :[0.01, 0.1,1],\n",
    "          'depth': [4, 5, 6]\n",
    "         }\n",
    "clf_grid = GridSearchCV(estimator=clf, param_grid=params, scoring='accuracy', cv=4 , n_jobs = -1)"
   ]
  },
  {
   "cell_type": "code",
   "execution_count": null,
   "metadata": {},
   "outputs": [],
   "source": [
    "clf_grid.fit(x_train, y_train)\n",
    "best_param = clf_grid.best_params_\n",
    "best_param"
   ]
  },
  {
   "cell_type": "code",
   "execution_count": 151,
   "metadata": {},
   "outputs": [],
   "source": [
    "model = clf_grid.best_estimator_"
   ]
  },
  {
   "cell_type": "code",
   "execution_count": 153,
   "metadata": {},
   "outputs": [
    {
     "data": {
      "text/html": [
       "<div>\n",
       "<style scoped>\n",
       "    .dataframe tbody tr th:only-of-type {\n",
       "        vertical-align: middle;\n",
       "    }\n",
       "\n",
       "    .dataframe tbody tr th {\n",
       "        vertical-align: top;\n",
       "    }\n",
       "\n",
       "    .dataframe thead th {\n",
       "        text-align: right;\n",
       "    }\n",
       "</style>\n",
       "<table border=\"1\" class=\"dataframe\">\n",
       "  <thead>\n",
       "    <tr style=\"text-align: right;\">\n",
       "      <th></th>\n",
       "      <th>params</th>\n",
       "      <th>mean_test_score</th>\n",
       "      <th>rank_test_score</th>\n",
       "    </tr>\n",
       "  </thead>\n",
       "  <tbody>\n",
       "    <tr>\n",
       "      <th>0</th>\n",
       "      <td>{'depth': 4, 'iterations': 500, 'learning_rate...</td>\n",
       "      <td>0.851150</td>\n",
       "      <td>12</td>\n",
       "    </tr>\n",
       "    <tr>\n",
       "      <th>1</th>\n",
       "      <td>{'depth': 4, 'iterations': 500, 'learning_rate...</td>\n",
       "      <td>0.863673</td>\n",
       "      <td>6</td>\n",
       "    </tr>\n",
       "    <tr>\n",
       "      <th>2</th>\n",
       "      <td>{'depth': 4, 'iterations': 500, 'learning_rate...</td>\n",
       "      <td>0.849566</td>\n",
       "      <td>13</td>\n",
       "    </tr>\n",
       "    <tr>\n",
       "      <th>3</th>\n",
       "      <td>{'depth': 4, 'iterations': 1000, 'learning_rat...</td>\n",
       "      <td>0.856635</td>\n",
       "      <td>9</td>\n",
       "    </tr>\n",
       "    <tr>\n",
       "      <th>4</th>\n",
       "      <td>{'depth': 4, 'iterations': 1000, 'learning_rat...</td>\n",
       "      <td>0.864715</td>\n",
       "      <td>5</td>\n",
       "    </tr>\n",
       "    <tr>\n",
       "      <th>5</th>\n",
       "      <td>{'depth': 4, 'iterations': 1000, 'learning_rat...</td>\n",
       "      <td>0.844377</td>\n",
       "      <td>15</td>\n",
       "    </tr>\n",
       "    <tr>\n",
       "      <th>6</th>\n",
       "      <td>{'depth': 5, 'iterations': 500, 'learning_rate...</td>\n",
       "      <td>0.854449</td>\n",
       "      <td>11</td>\n",
       "    </tr>\n",
       "    <tr>\n",
       "      <th>7</th>\n",
       "      <td>{'depth': 5, 'iterations': 500, 'learning_rate...</td>\n",
       "      <td>0.865267</td>\n",
       "      <td>4</td>\n",
       "    </tr>\n",
       "    <tr>\n",
       "      <th>8</th>\n",
       "      <td>{'depth': 5, 'iterations': 500, 'learning_rate...</td>\n",
       "      <td>0.845297</td>\n",
       "      <td>14</td>\n",
       "    </tr>\n",
       "    <tr>\n",
       "      <th>9</th>\n",
       "      <td>{'depth': 5, 'iterations': 1000, 'learning_rat...</td>\n",
       "      <td>0.858862</td>\n",
       "      <td>8</td>\n",
       "    </tr>\n",
       "    <tr>\n",
       "      <th>10</th>\n",
       "      <td>{'depth': 5, 'iterations': 1000, 'learning_rat...</td>\n",
       "      <td>0.865267</td>\n",
       "      <td>3</td>\n",
       "    </tr>\n",
       "    <tr>\n",
       "      <th>11</th>\n",
       "      <td>{'depth': 5, 'iterations': 1000, 'learning_rat...</td>\n",
       "      <td>0.840220</td>\n",
       "      <td>18</td>\n",
       "    </tr>\n",
       "    <tr>\n",
       "      <th>12</th>\n",
       "      <td>{'depth': 6, 'iterations': 500, 'learning_rate...</td>\n",
       "      <td>0.856533</td>\n",
       "      <td>10</td>\n",
       "    </tr>\n",
       "    <tr>\n",
       "      <th>13</th>\n",
       "      <td>{'depth': 6, 'iterations': 500, 'learning_rate...</td>\n",
       "      <td>0.865501</td>\n",
       "      <td>2</td>\n",
       "    </tr>\n",
       "    <tr>\n",
       "      <th>14</th>\n",
       "      <td>{'depth': 6, 'iterations': 500, 'learning_rate...</td>\n",
       "      <td>0.840986</td>\n",
       "      <td>17</td>\n",
       "    </tr>\n",
       "    <tr>\n",
       "      <th>15</th>\n",
       "      <td>{'depth': 6, 'iterations': 1000, 'learning_rat...</td>\n",
       "      <td>0.860884</td>\n",
       "      <td>7</td>\n",
       "    </tr>\n",
       "    <tr>\n",
       "      <th>16</th>\n",
       "      <td>{'depth': 6, 'iterations': 1000, 'learning_rat...</td>\n",
       "      <td>0.865685</td>\n",
       "      <td>1</td>\n",
       "    </tr>\n",
       "    <tr>\n",
       "      <th>17</th>\n",
       "      <td>{'depth': 6, 'iterations': 1000, 'learning_rat...</td>\n",
       "      <td>0.841088</td>\n",
       "      <td>16</td>\n",
       "    </tr>\n",
       "  </tbody>\n",
       "</table>\n",
       "</div>"
      ],
      "text/plain": [
       "                                               params  mean_test_score  \\\n",
       "0   {'depth': 4, 'iterations': 500, 'learning_rate...         0.851150   \n",
       "1   {'depth': 4, 'iterations': 500, 'learning_rate...         0.863673   \n",
       "2   {'depth': 4, 'iterations': 500, 'learning_rate...         0.849566   \n",
       "3   {'depth': 4, 'iterations': 1000, 'learning_rat...         0.856635   \n",
       "4   {'depth': 4, 'iterations': 1000, 'learning_rat...         0.864715   \n",
       "5   {'depth': 4, 'iterations': 1000, 'learning_rat...         0.844377   \n",
       "6   {'depth': 5, 'iterations': 500, 'learning_rate...         0.854449   \n",
       "7   {'depth': 5, 'iterations': 500, 'learning_rate...         0.865267   \n",
       "8   {'depth': 5, 'iterations': 500, 'learning_rate...         0.845297   \n",
       "9   {'depth': 5, 'iterations': 1000, 'learning_rat...         0.858862   \n",
       "10  {'depth': 5, 'iterations': 1000, 'learning_rat...         0.865267   \n",
       "11  {'depth': 5, 'iterations': 1000, 'learning_rat...         0.840220   \n",
       "12  {'depth': 6, 'iterations': 500, 'learning_rate...         0.856533   \n",
       "13  {'depth': 6, 'iterations': 500, 'learning_rate...         0.865501   \n",
       "14  {'depth': 6, 'iterations': 500, 'learning_rate...         0.840986   \n",
       "15  {'depth': 6, 'iterations': 1000, 'learning_rat...         0.860884   \n",
       "16  {'depth': 6, 'iterations': 1000, 'learning_rat...         0.865685   \n",
       "17  {'depth': 6, 'iterations': 1000, 'learning_rat...         0.841088   \n",
       "\n",
       "    rank_test_score  \n",
       "0                12  \n",
       "1                 6  \n",
       "2                13  \n",
       "3                 9  \n",
       "4                 5  \n",
       "5                15  \n",
       "6                11  \n",
       "7                 4  \n",
       "8                14  \n",
       "9                 8  \n",
       "10                3  \n",
       "11               18  \n",
       "12               10  \n",
       "13                2  \n",
       "14               17  \n",
       "15                7  \n",
       "16                1  \n",
       "17               16  "
      ]
     },
     "execution_count": 153,
     "metadata": {},
     "output_type": "execute_result"
    }
   ],
   "source": [
    "#grid search 결과 확인\n",
    "scores_df = pd.DataFrame(clf_grid.cv_results_)\n",
    "scores_df[['params','mean_test_score','rank_test_score']]"
   ]
  },
  {
   "cell_type": "code",
   "execution_count": 172,
   "metadata": {},
   "outputs": [],
   "source": [
    "#예측하기\n",
    "train_proba = model.predict_proba(x_train)\n",
    "\n",
    "valid_pred = model.predict(x_valid)\n",
    "valid_proba = model.predict_proba(x_valid)\n",
    "\n",
    "test_pred = model.predict(df_test.values)\n",
    "test_proba = model.predict_proba(df_test.values)"
   ]
  },
  {
   "cell_type": "markdown",
   "metadata": {},
   "source": [
    "### 결과확인 함수"
   ]
  },
  {
   "cell_type": "code",
   "execution_count": 161,
   "metadata": {},
   "outputs": [],
   "source": [
    "def get_clf_eval(y_test, pred=None, pred_proba = None):\n",
    "    confusion = confusion_matrix(y_test, pred)\n",
    "    accuracy = accuracy_score(y_test, pred)\n",
    "    precision = precision_score(y_test, pred)\n",
    "    recall = recall_score(y_test, pred)\n",
    "    f1 = f1_score(y_test, pred)\n",
    "    \n",
    "    roc_auc = roc_auc_score(y_test, pred_proba)\n",
    "    print('오차 행렬')\n",
    "    print(confusion)\n",
    "    \n",
    "    print('정확도: {0:.4f}, 정밀도: {1:.4f}, 재현율: {2:.4f}, F1: {3:.4f}, AUC: {4:.4f}'\n",
    "          .format(accuracy, precision, recall, f1, roc_auc))"
   ]
  },
  {
   "cell_type": "code",
   "execution_count": 162,
   "metadata": {},
   "outputs": [],
   "source": [
    "def roc_curve_plot(y_test, pred_proba):\n",
    "    fprs, tprs, thresholds = roc_curve(y_test, pred_proba)\n",
    "    plt.plot(fprs, tprs, label='ROC')\n",
    "    plt.plot([0,1], [0,1], 'k--', label='Random')\n",
    "    \n",
    "    start, end = plt.xlim()\n",
    "    plt.xticks(np.round(np.arange(start, end, 0.1), 2))\n",
    "    plt.xlim(0, 1); plt.ylim(0, 1)\n",
    "    plt.xlabel('FPR(1 - Sensitivity)'); plt.ylabel('TPR( Recall )')\n",
    "    plt.legend()"
   ]
  },
  {
   "cell_type": "code",
   "execution_count": 163,
   "metadata": {},
   "outputs": [],
   "source": [
    "def precision_recall_curve_plot(y_test, pred_proba):\n",
    "    precisions, recalls, thresholds = precision_recall_curve(y_test, pred_proba)\n",
    "    \n",
    "    plt.figure(figsize=(8,6))\n",
    "    threshold_boundary = thresholds.shape[0]\n",
    "    plt.plot(thresholds, precisions[0:threshold_boundary], linestyle='--', label = 'precision')\n",
    "    plt.plot(thresholds, recalls[0:threshold_boundary], label='recall')\n",
    "    \n",
    "    start,end = plt.xlim()\n",
    "    plt.xticks(np.round(np.arange(start, end, 0.1), 2))\n",
    "    \n",
    "    plt.xlabel('Threshold value'); plt.ylabel('Precision and Recall value')\n",
    "    plt.legend(); plt.grid()\n",
    "    plt.show()\n",
    "    "
   ]
  },
  {
   "cell_type": "markdown",
   "metadata": {},
   "source": [
    "### 예측결과 확인"
   ]
  },
  {
   "cell_type": "code",
   "execution_count": 177,
   "metadata": {},
   "outputs": [
    {
     "name": "stdout",
     "output_type": "stream",
     "text": [
      "# training model\n",
      "training accuracy: 0.9011\n",
      "[[61275  4020]\n",
      " [ 5658 26944]]\n",
      "# validation model\n",
      "validation accuracy: 0.8688\n",
      "[[19926  1840]\n",
      " [ 2443  8424]]\n",
      "# test model\n",
      "test accuracy: 0.8737\n",
      "[[66105  6146]\n",
      " [ 6711 22816]]\n",
      "=========================================================================\n",
      " #train VS val\n",
      "오차 행렬\n",
      "[[19926  1840]\n",
      " [ 2443  8424]]\n",
      "정확도: 0.8688, 정밀도: 0.8207, 재현율: 0.7752, F1: 0.7973, AUC: 0.9393\n",
      "=========================================================================\n",
      "# train VS test\n",
      "오차 행렬\n",
      "[[66105  6146]\n",
      " [ 6711 22816]]\n",
      "정확도: 0.8737, 정밀도: 0.7878, 재현율: 0.7727, F1: 0.7802, AUC: 0.9380\n"
     ]
    },
    {
     "data": {
      "image/png": "[encoded data removed]",
      "text/plain": [
       "<Figure size 432x288 with 1 Axes>"
      ]
     },
     "metadata": {
      "needs_background": "light"
     },
     "output_type": "display_data"
    },
    {
     "data": {
      "image/png": "[encoded data removed]",
      "text/plain": [
       "<Figure size 576x432 with 1 Axes>"
      ]
     },
     "metadata": {
      "needs_background": "light"
     },
     "output_type": "display_data"
    }
   ],
   "source": [
    "\n",
    "#train 모델 정확도\n",
    "print('# training model')\n",
    "print('training accuracy: {0:.4f}'.format(accuracy_score(y_train, train_pred)))\n",
    "print(confusion_matrix(y_train, train_pred))\n",
    "\n",
    "#validation 모델 정확도\n",
    "print('# validation model')\n",
    "print('validation accuracy: {0:.4f}'.format(accuracy_score(y_valid, valid_pred)))\n",
    "print(confusion_matrix(y_valid, valid_pred))\n",
    "\n",
    "#test 모델 정확도\n",
    "print('# test model')\n",
    "print('test accuracy: {0:.4f}'.format(accuracy_score(test_target.values,test_pred)))\n",
    "print(confusion_matrix(test_target.values, test_pred))\n",
    "\n",
    "\n",
    "#validation set 평가\n",
    "print('=========================================================================')\n",
    "print(' #train VS val')\n",
    "get_clf_eval(y_valid, valid_pred, valid_proba[:,1])\n",
    "roc_curve_plot(y_valid, valid_proba[:,1])\n",
    "\n",
    "#test set 평가\n",
    "print('=========================================================================')\n",
    "print('# train VS test')\n",
    "get_clf_eval(test_target.values, test_pred,test_proba[:,1])\n",
    "roc_curve_plot(test_target.values, test_proba[:, 1])\n",
    "\n",
    "precision_recall_curve_plot(test_target.values, test_proba[:, 1])"
   ]
  },
  {
   "cell_type": "markdown",
   "metadata": {},
   "source": [
    "# 아무것도 안주고 그냥 모델을 돌리면?"
   ]
  },
  {
   "cell_type": "code",
   "execution_count": 183,
   "metadata": {},
   "outputs": [],
   "source": [
    "default_model = CatBoostClassifier(eval_metric='Accuracy')"
   ]
  },
  {
   "cell_type": "code",
   "execution_count": null,
   "metadata": {},
   "outputs": [],
   "source": [
    "default_model.fit(x_train , y_train, eval_set=eval_dataset)"
   ]
  },
  {
   "cell_type": "code",
   "execution_count": 185,
   "metadata": {},
   "outputs": [],
   "source": [
    "train_pred = default_model.predict(x_train)\n",
    "valid_pred = default_model.predict(x_valid)\n",
    "test_pred = default_model.predict(df_test.values)"
   ]
  },
  {
   "cell_type": "code",
   "execution_count": 186,
   "metadata": {},
   "outputs": [],
   "source": [
    "train_prob = default_model.predict_proba(x_train)\n",
    "valid_prob = default_model.predict_proba(x_valid)\n",
    "test_prob = default_model.predict_proba(df_test.values)"
   ]
  },
  {
   "cell_type": "code",
   "execution_count": 187,
   "metadata": {},
   "outputs": [
    {
     "name": "stdout",
     "output_type": "stream",
     "text": [
      "# training model\n",
      "training accuracy: 0.9000\n",
      "[[61212  4083]\n",
      " [ 5709 26893]]\n",
      "# validation model\n",
      "validation accuracy: 0.8705\n",
      "[[19977  1789]\n",
      " [ 2437  8430]]\n",
      "# test model\n",
      "test accuracy: 0.8743\n",
      "[[65951  6300]\n",
      " [ 6497 23030]]\n",
      "=========================================================================\n",
      " #train VS val\n",
      "오차 행렬\n",
      "[[19977  1789]\n",
      " [ 2437  8430]]\n",
      "정확도: 0.8705, 정밀도: 0.8249, 재현율: 0.7757, F1: 0.7996, AUC: 0.9393\n",
      "=========================================================================\n",
      "# train VS test\n",
      "오차 행렬\n",
      "[[65951  6300]\n",
      " [ 6497 23030]]\n",
      "정확도: 0.8743, 정밀도: 0.7852, 재현율: 0.7800, F1: 0.7826, AUC: 0.9380\n"
     ]
    },
    {
     "data": {
      "image/png": "[encoded data removed]",
      "text/plain": [
       "<Figure size 432x288 with 1 Axes>"
      ]
     },
     "metadata": {
      "needs_background": "light"
     },
     "output_type": "display_data"
    },
    {
     "data": {
      "image/png": "[encoded data removed]",
      "text/plain": [
       "<Figure size 576x432 with 1 Axes>"
      ]
     },
     "metadata": {
      "needs_background": "light"
     },
     "output_type": "display_data"
    }
   ],
   "source": [
    "#train 모델 정확도\n",
    "print('# training model')\n",
    "print('training accuracy: {0:.4f}'.format(accuracy_score(y_train, train_pred)))\n",
    "print(confusion_matrix(y_train, train_pred))\n",
    "\n",
    "#validation 모델 정확도\n",
    "print('# validation model')\n",
    "print('validation accuracy: {0:.4f}'.format(accuracy_score(y_valid, valid_pred)))\n",
    "print(confusion_matrix(y_valid, valid_pred))\n",
    "\n",
    "#test 모델 정확도\n",
    "print('# test model')\n",
    "print('test accuracy: {0:.4f}'.format(accuracy_score(test_target.values,test_pred)))\n",
    "print(confusion_matrix(test_target.values, test_pred))\n",
    "\n",
    "\n",
    "#validation set 평가\n",
    "print('=========================================================================')\n",
    "print(' #train VS val')\n",
    "get_clf_eval(y_valid, valid_pred, valid_proba[:,1])\n",
    "roc_curve_plot(y_valid, valid_proba[:,1])\n",
    "\n",
    "#test set 평가\n",
    "print('=========================================================================')\n",
    "print('# train VS test')\n",
    "get_clf_eval(test_target.values, test_pred,test_proba[:,1])\n",
    "roc_curve_plot(test_target.values, test_proba[:, 1])\n",
    "\n",
    "precision_recall_curve_plot(test_target.values, test_proba[:, 1])"
   ]
  },
  {
   "cell_type": "markdown",
   "metadata": {},
   "source": [
    "\n",
    "{'depth': 6, 'iterations': 1000, 'learning_rate': 0.1}"
   ]
  }
 ],
 "metadata": {
  "kernelspec": {
   "display_name": "Python 3",
   "language": "python",
   "name": "python3"
  },
  "language_info": {
   "codemirror_mode": {
    "name": "ipython",
    "version": 3
   },
   "file_extension": ".py",
   "mimetype": "text/x-python",
   "name": "python",
   "nbconvert_exporter": "python",
   "pygments_lexer": "ipython3",
   "version": "3.8.3"
  }
 },
 "nbformat": 4,
 "nbformat_minor": 4
}
