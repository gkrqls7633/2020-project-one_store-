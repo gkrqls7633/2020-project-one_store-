{
 "cells": [
  {
   "cell_type": "code",
   "execution_count": 5,
   "metadata": {},
   "outputs": [
    {
     "data": {
      "text/html": [
       "<div>\n",
       "<style scoped>\n",
       "    .dataframe tbody tr th:only-of-type {\n",
       "        vertical-align: middle;\n",
       "    }\n",
       "\n",
       "    .dataframe tbody tr th {\n",
       "        vertical-align: top;\n",
       "    }\n",
       "\n",
       "    .dataframe thead th {\n",
       "        text-align: right;\n",
       "    }\n",
       "</style>\n",
       "<table border=\"1\" class=\"dataframe\">\n",
       "  <thead>\n",
       "    <tr style=\"text-align: right;\">\n",
       "      <th></th>\n",
       "      <th>insd_usermbr_no</th>\n",
       "      <th>sex_clsf_cd</th>\n",
       "      <th>age_cd</th>\n",
       "      <th>first_prchs_dt</th>\n",
       "      <th>last_prchs_dt</th>\n",
       "      <th>total_payment_amt</th>\n",
       "      <th>total_cpn_amt</th>\n",
       "      <th>total_prod_amt</th>\n",
       "      <th>dly_prchs_amt_min</th>\n",
       "      <th>dly_prchs_amt_max</th>\n",
       "      <th>...</th>\n",
       "      <th>recency</th>\n",
       "      <th>T</th>\n",
       "      <th>dt_step_min</th>\n",
       "      <th>dt_step_max</th>\n",
       "      <th>dt_step_mean</th>\n",
       "      <th>prep_tm</th>\n",
       "      <th>prep_payment_mtd</th>\n",
       "      <th>prep_dtl_category</th>\n",
       "      <th>prep_category</th>\n",
       "      <th>sub_count</th>\n",
       "    </tr>\n",
       "  </thead>\n",
       "  <tbody>\n",
       "    <tr>\n",
       "      <th>0</th>\n",
       "      <td>IF14210296502009062300092258</td>\n",
       "      <td>M</td>\n",
       "      <td>042</td>\n",
       "      <td>2020-03-29</td>\n",
       "      <td>2020-06-29</td>\n",
       "      <td>93630</td>\n",
       "      <td>5670</td>\n",
       "      <td>154900</td>\n",
       "      <td>10100</td>\n",
       "      <td>55670</td>\n",
       "      <td>...</td>\n",
       "      <td>92.0</td>\n",
       "      <td>124.0</td>\n",
       "      <td>15.0</td>\n",
       "      <td>45.0</td>\n",
       "      <td>23.0</td>\n",
       "      <td>22 ~ 23</td>\n",
       "      <td>휴대폰결제 (DCB)</td>\n",
       "      <td>잡지</td>\n",
       "      <td>eBook</td>\n",
       "      <td>0</td>\n",
       "    </tr>\n",
       "    <tr>\n",
       "      <th>1</th>\n",
       "      <td>IF142158893220090701150416</td>\n",
       "      <td>F</td>\n",
       "      <td>040</td>\n",
       "      <td>2020-04-11</td>\n",
       "      <td>2020-06-24</td>\n",
       "      <td>502</td>\n",
       "      <td>10968</td>\n",
       "      <td>31650</td>\n",
       "      <td>0</td>\n",
       "      <td>100</td>\n",
       "      <td>...</td>\n",
       "      <td>74.0</td>\n",
       "      <td>111.0</td>\n",
       "      <td>1.0</td>\n",
       "      <td>6.0</td>\n",
       "      <td>1.3</td>\n",
       "      <td>00 ~ 01</td>\n",
       "      <td>쿠폰</td>\n",
       "      <td>로맨스</td>\n",
       "      <td>웹소설</td>\n",
       "      <td>0</td>\n",
       "    </tr>\n",
       "    <tr>\n",
       "      <th>2</th>\n",
       "      <td>IF142158896620090701190525</td>\n",
       "      <td>M</td>\n",
       "      <td>046</td>\n",
       "      <td>2020-07-06</td>\n",
       "      <td>2020-07-06</td>\n",
       "      <td>8860</td>\n",
       "      <td>1500</td>\n",
       "      <td>20720</td>\n",
       "      <td>8860</td>\n",
       "      <td>8860</td>\n",
       "      <td>...</td>\n",
       "      <td>0.0</td>\n",
       "      <td>25.0</td>\n",
       "      <td>0.0</td>\n",
       "      <td>0.0</td>\n",
       "      <td>0.0</td>\n",
       "      <td>08 ~ 09</td>\n",
       "      <td>북스 캐쉬 (포인트)</td>\n",
       "      <td>경제경영</td>\n",
       "      <td>eBook</td>\n",
       "      <td>0</td>\n",
       "    </tr>\n",
       "    <tr>\n",
       "      <th>3</th>\n",
       "      <td>IF142158935420090720101940</td>\n",
       "      <td>F</td>\n",
       "      <td>039</td>\n",
       "      <td>2020-03-26</td>\n",
       "      <td>2020-05-31</td>\n",
       "      <td>6100</td>\n",
       "      <td>200</td>\n",
       "      <td>6600</td>\n",
       "      <td>600</td>\n",
       "      <td>2200</td>\n",
       "      <td>...</td>\n",
       "      <td>66.0</td>\n",
       "      <td>127.0</td>\n",
       "      <td>14.0</td>\n",
       "      <td>36.0</td>\n",
       "      <td>16.5</td>\n",
       "      <td>08 ~ 09</td>\n",
       "      <td>북스 캐쉬 (현금)</td>\n",
       "      <td>BL</td>\n",
       "      <td>웹툰</td>\n",
       "      <td>0</td>\n",
       "    </tr>\n",
       "    <tr>\n",
       "      <th>4</th>\n",
       "      <td>IF1423000039820090904101650</td>\n",
       "      <td>M</td>\n",
       "      <td>044</td>\n",
       "      <td>2020-02-03</td>\n",
       "      <td>2020-07-31</td>\n",
       "      <td>374760</td>\n",
       "      <td>38720</td>\n",
       "      <td>604980</td>\n",
       "      <td>0</td>\n",
       "      <td>57000</td>\n",
       "      <td>...</td>\n",
       "      <td>179.0</td>\n",
       "      <td>179.0</td>\n",
       "      <td>1.0</td>\n",
       "      <td>40.0</td>\n",
       "      <td>7.2</td>\n",
       "      <td>03 ~ 04</td>\n",
       "      <td>북스 캐쉬 (현금)</td>\n",
       "      <td>19+</td>\n",
       "      <td>웹툰</td>\n",
       "      <td>3</td>\n",
       "    </tr>\n",
       "  </tbody>\n",
       "</table>\n",
       "<p>5 rows × 31 columns</p>\n",
       "</div>"
      ],
      "text/plain": [
       "                insd_usermbr_no sex_clsf_cd age_cd first_prchs_dt  \\\n",
       "0  IF14210296502009062300092258           M    042     2020-03-29   \n",
       "1    IF142158893220090701150416           F    040     2020-04-11   \n",
       "2    IF142158896620090701190525           M    046     2020-07-06   \n",
       "3    IF142158935420090720101940           F    039     2020-03-26   \n",
       "4   IF1423000039820090904101650           M    044     2020-02-03   \n",
       "\n",
       "  last_prchs_dt  total_payment_amt  total_cpn_amt  total_prod_amt  \\\n",
       "0    2020-06-29              93630           5670          154900   \n",
       "1    2020-06-24                502          10968           31650   \n",
       "2    2020-07-06               8860           1500           20720   \n",
       "3    2020-05-31               6100            200            6600   \n",
       "4    2020-07-31             374760          38720          604980   \n",
       "\n",
       "   dly_prchs_amt_min  dly_prchs_amt_max  ...  recency      T  dt_step_min  \\\n",
       "0              10100              55670  ...     92.0  124.0         15.0   \n",
       "1                  0                100  ...     74.0  111.0          1.0   \n",
       "2               8860               8860  ...      0.0   25.0          0.0   \n",
       "3                600               2200  ...     66.0  127.0         14.0   \n",
       "4                  0              57000  ...    179.0  179.0          1.0   \n",
       "\n",
       "   dt_step_max  dt_step_mean  prep_tm  prep_payment_mtd  prep_dtl_category  \\\n",
       "0         45.0          23.0  22 ~ 23       휴대폰결제 (DCB)                 잡지   \n",
       "1          6.0           1.3  00 ~ 01                쿠폰                로맨스   \n",
       "2          0.0           0.0  08 ~ 09       북스 캐쉬 (포인트)               경제경영   \n",
       "3         36.0          16.5  08 ~ 09        북스 캐쉬 (현금)                 BL   \n",
       "4         40.0           7.2  03 ~ 04        북스 캐쉬 (현금)                19+   \n",
       "\n",
       "   prep_category  sub_count  \n",
       "0          eBook          0  \n",
       "1            웹소설          0  \n",
       "2          eBook          0  \n",
       "3             웹툰          0  \n",
       "4             웹툰          3  \n",
       "\n",
       "[5 rows x 31 columns]"
      ]
     },
     "execution_count": 5,
     "metadata": {},
     "output_type": "execute_result"
    }
   ],
   "source": [
    "import os\n",
    "os.chdir('P:\\\\')\n",
    "\n",
    "import pandas as pd\n",
    "customer_df = pd.read_csv('./customer_table.csv')\n",
    "customer_df.head()"
   ]
  },
  {
   "cell_type": "markdown",
   "metadata": {},
   "source": [
    "## 전체 고객테이블(15만) 에서 frequency, recency, T 변수만 추출"
   ]
  },
  {
   "cell_type": "code",
   "execution_count": 6,
   "metadata": {},
   "outputs": [
    {
     "data": {
      "text/html": [
       "<div>\n",
       "<style scoped>\n",
       "    .dataframe tbody tr th:only-of-type {\n",
       "        vertical-align: middle;\n",
       "    }\n",
       "\n",
       "    .dataframe tbody tr th {\n",
       "        vertical-align: top;\n",
       "    }\n",
       "\n",
       "    .dataframe thead th {\n",
       "        text-align: right;\n",
       "    }\n",
       "</style>\n",
       "<table border=\"1\" class=\"dataframe\">\n",
       "  <thead>\n",
       "    <tr style=\"text-align: right;\">\n",
       "      <th></th>\n",
       "      <th>insd_usermbr_no</th>\n",
       "      <th>frequency</th>\n",
       "      <th>recency</th>\n",
       "      <th>T</th>\n",
       "    </tr>\n",
       "  </thead>\n",
       "  <tbody>\n",
       "    <tr>\n",
       "      <th>0</th>\n",
       "      <td>IF14210296502009062300092258</td>\n",
       "      <td>3.0</td>\n",
       "      <td>92.0</td>\n",
       "      <td>124.0</td>\n",
       "    </tr>\n",
       "    <tr>\n",
       "      <th>1</th>\n",
       "      <td>IF142158893220090701150416</td>\n",
       "      <td>56.0</td>\n",
       "      <td>74.0</td>\n",
       "      <td>111.0</td>\n",
       "    </tr>\n",
       "    <tr>\n",
       "      <th>2</th>\n",
       "      <td>IF142158896620090701190525</td>\n",
       "      <td>0.0</td>\n",
       "      <td>0.0</td>\n",
       "      <td>25.0</td>\n",
       "    </tr>\n",
       "    <tr>\n",
       "      <th>3</th>\n",
       "      <td>IF142158935420090720101940</td>\n",
       "      <td>3.0</td>\n",
       "      <td>66.0</td>\n",
       "      <td>127.0</td>\n",
       "    </tr>\n",
       "    <tr>\n",
       "      <th>4</th>\n",
       "      <td>IF1423000039820090904101650</td>\n",
       "      <td>24.0</td>\n",
       "      <td>179.0</td>\n",
       "      <td>179.0</td>\n",
       "    </tr>\n",
       "  </tbody>\n",
       "</table>\n",
       "</div>"
      ],
      "text/plain": [
       "                insd_usermbr_no  frequency  recency      T\n",
       "0  IF14210296502009062300092258        3.0     92.0  124.0\n",
       "1    IF142158893220090701150416       56.0     74.0  111.0\n",
       "2    IF142158896620090701190525        0.0      0.0   25.0\n",
       "3    IF142158935420090720101940        3.0     66.0  127.0\n",
       "4   IF1423000039820090904101650       24.0    179.0  179.0"
      ]
     },
     "execution_count": 6,
     "metadata": {},
     "output_type": "execute_result"
    }
   ],
   "source": [
    "customer_rft = customer_df[['insd_usermbr_no','frequency', 'recency', 'T']]\n",
    "customer_rft.head()"
   ]
  },
  {
   "cell_type": "code",
   "execution_count": 7,
   "metadata": {},
   "outputs": [
    {
     "data": {
      "text/plain": [
       "(150043, 4)"
      ]
     },
     "execution_count": 7,
     "metadata": {},
     "output_type": "execute_result"
    }
   ],
   "source": [
    "customer_rft.shape"
   ]
  },
  {
   "cell_type": "markdown",
   "metadata": {},
   "source": [
    "## 변수별 분포 확인"
   ]
  },
  {
   "cell_type": "code",
   "execution_count": 10,
   "metadata": {
    "scrolled": true
   },
   "outputs": [
    {
     "data": {
      "image/png": "[encoded data removed]",
      "text/plain": [
       "<Figure size 864x288 with 3 Axes>"
      ]
     },
     "metadata": {
      "needs_background": "light"
     },
     "output_type": "display_data"
    }
   ],
   "source": [
    "import matplotlib.pyplot as plt\n",
    "fig, (ax1, ax2, ax3) = plt.subplots(figsize=(12,4), nrows=1, ncols=3)\n",
    "ax1.set_title('Recency Histogram')\n",
    "ax1.hist(customer_rft['recency'])\n",
    "\n",
    "ax2.set_title('Frequency Histogram')\n",
    "ax2.hist(customer_rft['frequency'])\n",
    "\n",
    "ax3.set_title('T Histogram')\n",
    "ax3.hist(customer_rft['T'])\n",
    "\n",
    "\n",
    "plt.show()"
   ]
  },
  {
   "cell_type": "markdown",
   "metadata": {},
   "source": [
    "## 왜도 확인"
   ]
  },
  {
   "cell_type": "code",
   "execution_count": 11,
   "metadata": {
    "scrolled": true
   },
   "outputs": [
    {
     "name": "stdout",
     "output_type": "stream",
     "text": [
      "frequency -> skewness :  1.7784542746824021 / kurtosis : 2.401092829673408\n",
      "recency -> skewness :  -0.047929696889224764 / kurtosis : -1.6934776906579203\n",
      "T -> skewness :  -1.098662800843665 / kurtosis : -0.04347994682419598\n"
     ]
    }
   ],
   "source": [
    "print('frequency -> skewness : ', customer_rft['frequency'].skew(), '/','kurtosis :' , customer_rft['frequency'].kurt())\n",
    "print('recency -> skewness : ', customer_rft['recency'].skew(), '/', 'kurtosis :' , customer_rft['recency'].kurt())\n",
    "print('T -> skewness : ', customer_rft['T'].skew(), '/', 'kurtosis :' , customer_rft['T'].kurt())"
   ]
  },
  {
   "cell_type": "code",
   "execution_count": 14,
   "metadata": {},
   "outputs": [
    {
     "name": "stderr",
     "output_type": "stream",
     "text": [
      "<ipython-input-14-399fabc8c38f>:4: SettingWithCopyWarning: \n",
      "A value is trying to be set on a copy of a slice from a DataFrame.\n",
      "Try using .loc[row_indexer,col_indexer] = value instead\n",
      "\n",
      "See the caveats in the documentation: https://pandas.pydata.org/pandas-docs/stable/user_guide/indexing.html#returning-a-view-versus-a-copy\n",
      "  customer_rft['recency_log'] = np.log1p(customer_rft['recency'])\n",
      "<ipython-input-14-399fabc8c38f>:5: SettingWithCopyWarning: \n",
      "A value is trying to be set on a copy of a slice from a DataFrame.\n",
      "Try using .loc[row_indexer,col_indexer] = value instead\n",
      "\n",
      "See the caveats in the documentation: https://pandas.pydata.org/pandas-docs/stable/user_guide/indexing.html#returning-a-view-versus-a-copy\n",
      "  customer_rft['frequency_log'] = np.log1p(customer_rft['frequency'])\n",
      "<ipython-input-14-399fabc8c38f>:6: SettingWithCopyWarning: \n",
      "A value is trying to be set on a copy of a slice from a DataFrame.\n",
      "Try using .loc[row_indexer,col_indexer] = value instead\n",
      "\n",
      "See the caveats in the documentation: https://pandas.pydata.org/pandas-docs/stable/user_guide/indexing.html#returning-a-view-versus-a-copy\n",
      "  customer_rft['T_log'] = np.log1p(customer_rft['T'])\n"
     ]
    }
   ],
   "source": [
    "# log변환\n",
    "\n",
    "import numpy as np \n",
    "customer_rft['recency_log'] = np.log1p(customer_rft['recency'])\n",
    "customer_rft['frequency_log'] = np.log1p(customer_rft['frequency'])\n",
    "customer_rft['T_log'] = np.log1p(customer_rft['T'])\n"
   ]
  },
  {
   "cell_type": "code",
   "execution_count": 15,
   "metadata": {},
   "outputs": [
    {
     "name": "stdout",
     "output_type": "stream",
     "text": [
      "frequency_log -> skewness :  0.062264095143294604 / kurtosis : -1.2981839139578297\n",
      "recency_log -> skewness :  -0.8338072708975156 / kurtosis : -1.0003827097021292\n",
      "T_log -> skewness :  -2.713739026496004 / kurtosis : 8.810912508397918\n"
     ]
    }
   ],
   "source": [
    "print('frequency_log -> skewness : ', customer_rft['frequency_log'].skew(), '/','kurtosis :' , customer_rft['frequency_log'].kurt())\n",
    "print('recency_log -> skewness : ', customer_rft['recency_log'].skew(), '/', 'kurtosis :' , customer_rft['recency_log'].kurt())\n",
    "print('T_log -> skewness : ', customer_rft['T_log'].skew(), '/', 'kurtosis :' , customer_rft['T_log'].kurt())"
   ]
  },
  {
   "cell_type": "markdown",
   "metadata": {},
   "source": [
    "- log변환 후 skew값 확인 결과 frequency만 skew 감소하고 recency, T는 skew 증가\n",
    "- 따라서, frequency만 log변환 진행"
   ]
  },
  {
   "cell_type": "markdown",
   "metadata": {},
   "source": [
    "## Frequency 로그변환 후 히스토그램"
   ]
  },
  {
   "cell_type": "code",
   "execution_count": 31,
   "metadata": {
    "scrolled": true
   },
   "outputs": [
    {
     "data": {
      "image/png": "[encoded data removed]",
      "text/plain": [
       "<Figure size 864x288 with 3 Axes>"
      ]
     },
     "metadata": {
      "needs_background": "light"
     },
     "output_type": "display_data"
    }
   ],
   "source": [
    "import matplotlib.pyplot as plt\n",
    "fig, (ax1, ax2, ax3) = plt.subplots(figsize=(12,4), nrows=1, ncols=3)\n",
    "ax1.set_title('Recency Histogram')\n",
    "ax1.hist(customer_rft['recency_log'])\n",
    "\n",
    "ax2.set_title('Frequency Histogram')\n",
    "ax2.hist(customer_rft['frequency_log'])\n",
    "\n",
    "ax3.set_title('T Histogram')\n",
    "ax3.hist(customer_rft['T_log'])\n",
    "\n",
    "\n",
    "plt.show()"
   ]
  },
  {
   "cell_type": "markdown",
   "metadata": {},
   "source": [
    "- frequency만 log변환 후 히스토그램"
   ]
  },
  {
   "cell_type": "markdown",
   "metadata": {},
   "source": [
    "## KMeans clustering"
   ]
  },
  {
   "cell_type": "code",
   "execution_count": 17,
   "metadata": {},
   "outputs": [
    {
     "data": {
      "image/png": "[encoded data removed]",
      "text/plain": [
       "<Figure size 720x360 with 1 Axes>"
      ]
     },
     "metadata": {
      "needs_background": "light"
     },
     "output_type": "display_data"
    }
   ],
   "source": [
    "#로그 변환 및 standscaler 변환 이후\n",
    "import numpy as np\n",
    "from sklearn.preprocessing import StandardScaler\n",
    "from sklearn.cluster import KMeans\n",
    "from sklearn.metrics import silhouette_score, silhouette_samples\n",
    "\n",
    "\n",
    "x_features = customer_rft[['recency_log', 'frequency_log', 'T_log']].values\n",
    "x_features_scaled = StandardScaler().fit_transform(x_features)\n",
    "\n",
    "\n",
    "#elbow curve 확인\n",
    "distortions = []\n",
    "for k in range(2,20):\n",
    "    kmeans = KMeans(n_clusters = k)\n",
    "    kmeans.fit(x_features_scaled)\n",
    "    distortions.append(kmeans.inertia_)\n",
    "    \n",
    "fig = plt.figure(figsize = (10,5))\n",
    "plt.plot(range(2,20), distortions)\n",
    "plt.grid(True)\n",
    "plt.title('Elbow curve')\n",
    "plt.show()\n",
    "\n"
   ]
  },
  {
   "cell_type": "markdown",
   "metadata": {},
   "source": [
    "## 군집화 -> 실루엣 계수 그래프 및 군집결과 시각화"
   ]
  },
  {
   "cell_type": "code",
   "execution_count": null,
   "metadata": {},
   "outputs": [],
   "source": [
    "### 여러개의 클러스터링 갯수를 List로 입력 받아 각각의 실루엣 계수를 면적으로 시각화한 함수 작성\n",
    "def visualize_silhouette(cluster_lists, X_features): \n",
    "    \n",
    "    from sklearn.datasets import make_blobs\n",
    "    from sklearn.cluster import KMeans\n",
    "    from sklearn.metrics import silhouette_samples, silhouette_score\n",
    "\n",
    "    import matplotlib.pyplot as plt\n",
    "    import matplotlib.cm as cm\n",
    "    import math\n",
    "    \n",
    "    # 입력값으로 클러스터링 갯수들을 리스트로 받아서, 각 갯수별로 클러스터링을 적용하고 실루엣 개수를 구함\n",
    "    n_cols = len(cluster_lists)\n",
    "    \n",
    "    # plt.subplots()으로 리스트에 기재된 클러스터링 수만큼의 sub figures를 가지는 axs 생성 \n",
    "    fig, axs = plt.subplots(figsize=(4*n_cols, 4), nrows=1, ncols=n_cols)\n",
    "    \n",
    "    # 리스트에 기재된 클러스터링 갯수들을 차례로 iteration 수행하면서 실루엣 개수 시각화\n",
    "    for ind, n_cluster in enumerate(cluster_lists):\n",
    "        \n",
    "        # KMeans 클러스터링 수행하고, 실루엣 스코어와 개별 데이터의 실루엣 값 계산. \n",
    "        clusterer = KMeans(n_clusters = n_cluster, max_iter=500, random_state=0)\n",
    "        cluster_labels = clusterer.fit_predict(X_features)\n",
    "        \n",
    "        sil_avg = silhouette_score(X_features, cluster_labels)\n",
    "        sil_values = silhouette_samples(X_features, cluster_labels)\n",
    "        \n",
    "        y_lower = 10\n",
    "        axs[ind].set_title('Number of Cluster : '+ str(n_cluster)+'\\n' \\\n",
    "                          'Silhouette Score :' + str(round(sil_avg,3)) )\n",
    "        axs[ind].set_xlabel(\"The silhouette coefficient values\")\n",
    "        axs[ind].set_ylabel(\"Cluster label\")\n",
    "        axs[ind].set_xlim([-0.1, 1])\n",
    "        axs[ind].set_ylim([0, len(X_features) + (n_cluster + 1) * 10])\n",
    "        axs[ind].set_yticks([])  # Clear the yaxis labels / ticks\n",
    "        axs[ind].set_xticks([0, 0.2, 0.4, 0.6, 0.8, 1])\n",
    "        \n",
    "        # 클러스터링 갯수별로 fill_betweenx( )형태의 막대 그래프 표현. \n",
    "        for i in range(n_cluster):\n",
    "            ith_cluster_sil_values = sil_values[cluster_labels==i]\n",
    "            ith_cluster_sil_values.sort()\n",
    "            \n",
    "            size_cluster_i = ith_cluster_sil_values.shape[0]\n",
    "            y_upper = y_lower + size_cluster_i\n",
    "            \n",
    "            color = cm.nipy_spectral(float(i) / n_cluster)\n",
    "            axs[ind].fill_betweenx(np.arange(y_lower, y_upper), 0, ith_cluster_sil_values, \\\n",
    "                                facecolor=color, edgecolor=color, alpha=0.7)\n",
    "            axs[ind].text(-0.05, y_lower + 0.5 * size_cluster_i, str(i))\n",
    "            y_lower = y_upper + 10\n",
    "            \n",
    "        axs[ind].axvline(x=sil_avg, color=\"red\", linestyle=\"--\")"
   ]
  },
  {
   "cell_type": "code",
   "execution_count": null,
   "metadata": {},
   "outputs": [],
   "source": [
    "def visualize_kmeans_plot_multi(cluster_lists, X_features):\n",
    "        \n",
    "    from sklearn.cluster import KMeans\n",
    "    from sklearn.decomposition import PCA\n",
    "    import pandas as pd\n",
    "    import numpy as np\n",
    "    \n",
    "    # plt.subplots()으로 리스트에 기재된 클러스터링 만큼의 sub figures를 가지는 axs 생성 \n",
    "    n_cols = len(cluster_lists)\n",
    "    fig, axs = plt.subplots(figsize=(4*n_cols, 4), nrows=1, ncols=n_cols)\n",
    "    \n",
    "    # 입력 데이터의 FEATURE가 여러개일 경우 2차원 데이터 시각화가 어려우므로 PCA 변환하여 2차원 시각화\n",
    "    pca = PCA(n_components=2)\n",
    "    pca_transformed = pca.fit_transform(X_features)\n",
    "    dataframe = pd.DataFrame(pca_transformed, columns=['PCA1','PCA2'])\n",
    "    # 리스트에 기재된 클러스터링 갯수들을 차례로 iteration 수행하면서 KMeans 클러스터링 수행하고 시각화\n",
    "    for ind, n_cluster in enumerate(cluster_lists):\n",
    "        # KMeans 클러스터링으로 클러스터링 결과를 dataframe에 저장. \n",
    "        clusterer = KMeans(n_clusters = n_cluster, max_iter=500, random_state=0)\n",
    "        cluster_labels = clusterer.fit_predict(pca_transformed)\n",
    "        dataframe['cluster']=cluster_labels\n",
    "        unique_labels = np.unique(clusterer.labels_)\n",
    "        markers=['o', 's', '^', 'x', '*', 'p']\n",
    "        # 클러스터링 결과값 별로 scatter plot 으로 시각화\n",
    "        for label in unique_labels:\n",
    "            label_df = dataframe[dataframe['cluster']==label]\n",
    "            if label == -1:\n",
    "                cluster_legend = 'Noise'\n",
    "            else :\n",
    "                cluster_legend = 'Cluster '+str(label)           \n",
    "            axs[ind].scatter(x=label_df['PCA1'], y=label_df['PCA2'], s=70,\n",
    "                        edgecolor='k', marker=markers[label], label=cluster_legend)\n",
    "            axs[ind].set_title('Number of Cluster : '+ str(n_cluster))  \n",
    "            axs[ind].legend(loc='upper right')\n",
    "        \n",
    "    plt.show()"
   ]
  },
  {
   "cell_type": "code",
   "execution_count": null,
   "metadata": {},
   "outputs": [],
   "source": [
    "#시각화(frequency만 로그변환)\n",
    "visualize_silhouette([2,3,4,5,6], x_features_scaled)\n",
    "visualize_kmeans_plot_multi([2,3,4,5,6], x_features_scaled)\n",
    "\n",
    "#1시간걸림 이거"
   ]
  },
  {
   "cell_type": "code",
   "execution_count": null,
   "metadata": {},
   "outputs": [],
   "source": [
    "#라벨링\n",
    "\n",
    "kmeans = KMeans(n_clusters=3 , random_state=0)   #n_cluster 지정\n",
    "labels = kmeans.fit_predict(x_features_scaled)\n",
    "\n",
    "customer_df_new['cluster_label'] = labels\n",
    "customer_df_new.head()\n",
    "# print('실루엣 스코어는 : {0:.3f}'.format(silhouette_score(x_features_scaled, labels)))"
   ]
  },
  {
   "cell_type": "code",
   "execution_count": null,
   "metadata": {},
   "outputs": [],
   "source": []
  },
  {
   "cell_type": "markdown",
   "metadata": {},
   "source": [
    "- 시각화 결과는 'R,F,T로 군집 파일'에 저장되어있음\n",
    "- 결과 labeling"
   ]
  },
  {
   "cell_type": "markdown",
   "metadata": {},
   "source": [
    "# Lifetimes library\n",
    "- 3개변수(Frequency, Recency, T)만으로 고객의 Lifetime value를 측정할 수 있는 라이브러리\n",
    "- 고객에 대한 insight를 얻기 위한 용도로 사용"
   ]
  },
  {
   "cell_type": "markdown",
   "metadata": {},
   "source": [
    "## BG/NBD model을 통한 basic frequency / recency 분석\n",
    "- beta-geometric/negative binomial model for customer alive probability\n",
    "\n",
    "- Frequency : 특정 고객이 구매를 한 날짜 수 - 1(반복 횟수의 개념이므로 -1)\n",
    "- T : 연구 마지막날(2020-07-31) - 고객의 첫 구매날\n",
    "- recency : 고객의 최근 구매날짜 - 첫 구매날짜\n",
    "- monetary_value : 구매합계 / 총구매 수(frequency)"
   ]
  },
  {
   "cell_type": "code",
   "execution_count": 28,
   "metadata": {},
   "outputs": [
    {
     "data": {
      "text/html": [
       "<div>\n",
       "<style scoped>\n",
       "    .dataframe tbody tr th:only-of-type {\n",
       "        vertical-align: middle;\n",
       "    }\n",
       "\n",
       "    .dataframe tbody tr th {\n",
       "        vertical-align: top;\n",
       "    }\n",
       "\n",
       "    .dataframe thead th {\n",
       "        text-align: right;\n",
       "    }\n",
       "</style>\n",
       "<table border=\"1\" class=\"dataframe\">\n",
       "  <thead>\n",
       "    <tr style=\"text-align: right;\">\n",
       "      <th></th>\n",
       "      <th>frequency</th>\n",
       "      <th>recency</th>\n",
       "      <th>T</th>\n",
       "      <th>recency_log</th>\n",
       "      <th>frequency_log</th>\n",
       "      <th>T_log</th>\n",
       "    </tr>\n",
       "  </thead>\n",
       "  <tbody>\n",
       "    <tr>\n",
       "      <th>count</th>\n",
       "      <td>150043.000000</td>\n",
       "      <td>150043.000000</td>\n",
       "      <td>150043.000000</td>\n",
       "      <td>150043.000000</td>\n",
       "      <td>150043.000000</td>\n",
       "      <td>150043.000000</td>\n",
       "    </tr>\n",
       "    <tr>\n",
       "      <th>mean</th>\n",
       "      <td>29.702312</td>\n",
       "      <td>90.128463</td>\n",
       "      <td>136.626954</td>\n",
       "      <td>3.465547</td>\n",
       "      <td>2.276210</td>\n",
       "      <td>4.764727</td>\n",
       "    </tr>\n",
       "    <tr>\n",
       "      <th>std</th>\n",
       "      <td>42.911829</td>\n",
       "      <td>73.161414</td>\n",
       "      <td>52.358193</td>\n",
       "      <td>2.034989</td>\n",
       "      <td>1.668936</td>\n",
       "      <td>0.733367</td>\n",
       "    </tr>\n",
       "    <tr>\n",
       "      <th>min</th>\n",
       "      <td>0.000000</td>\n",
       "      <td>0.000000</td>\n",
       "      <td>0.000000</td>\n",
       "      <td>0.000000</td>\n",
       "      <td>0.000000</td>\n",
       "      <td>0.000000</td>\n",
       "    </tr>\n",
       "    <tr>\n",
       "      <th>25%</th>\n",
       "      <td>1.000000</td>\n",
       "      <td>4.000000</td>\n",
       "      <td>107.000000</td>\n",
       "      <td>1.609438</td>\n",
       "      <td>0.693147</td>\n",
       "      <td>4.682131</td>\n",
       "    </tr>\n",
       "    <tr>\n",
       "      <th>50%</th>\n",
       "      <td>9.000000</td>\n",
       "      <td>95.000000</td>\n",
       "      <td>162.000000</td>\n",
       "      <td>4.564348</td>\n",
       "      <td>2.302585</td>\n",
       "      <td>5.093750</td>\n",
       "    </tr>\n",
       "    <tr>\n",
       "      <th>75%</th>\n",
       "      <td>41.000000</td>\n",
       "      <td>168.000000</td>\n",
       "      <td>179.000000</td>\n",
       "      <td>5.129899</td>\n",
       "      <td>3.737670</td>\n",
       "      <td>5.192957</td>\n",
       "    </tr>\n",
       "    <tr>\n",
       "      <th>max</th>\n",
       "      <td>181.000000</td>\n",
       "      <td>181.000000</td>\n",
       "      <td>181.000000</td>\n",
       "      <td>5.204007</td>\n",
       "      <td>5.204007</td>\n",
       "      <td>5.204007</td>\n",
       "    </tr>\n",
       "  </tbody>\n",
       "</table>\n",
       "</div>"
      ],
      "text/plain": [
       "           frequency        recency              T    recency_log  \\\n",
       "count  150043.000000  150043.000000  150043.000000  150043.000000   \n",
       "mean       29.702312      90.128463     136.626954       3.465547   \n",
       "std        42.911829      73.161414      52.358193       2.034989   \n",
       "min         0.000000       0.000000       0.000000       0.000000   \n",
       "25%         1.000000       4.000000     107.000000       1.609438   \n",
       "50%         9.000000      95.000000     162.000000       4.564348   \n",
       "75%        41.000000     168.000000     179.000000       5.129899   \n",
       "max       181.000000     181.000000     181.000000       5.204007   \n",
       "\n",
       "       frequency_log          T_log  \n",
       "count  150043.000000  150043.000000  \n",
       "mean        2.276210       4.764727  \n",
       "std         1.668936       0.733367  \n",
       "min         0.000000       0.000000  \n",
       "25%         0.693147       4.682131  \n",
       "50%         2.302585       5.093750  \n",
       "75%         3.737670       5.192957  \n",
       "max         5.204007       5.204007  "
      ]
     },
     "execution_count": 28,
     "metadata": {},
     "output_type": "execute_result"
    }
   ],
   "source": [
    "customer_rft.describe()"
   ]
  },
  {
   "cell_type": "code",
   "execution_count": 23,
   "metadata": {
    "scrolled": true
   },
   "outputs": [
    {
     "name": "stdout",
     "output_type": "stream",
     "text": [
      "<lifetimes.BetaGeoFitter: fitted with 150043 subjects, a: 0.11, alpha: 1.96, b: 1.79, r: 0.49>\n"
     ]
    },
    {
     "data": {
      "text/html": [
       "<div>\n",
       "<style scoped>\n",
       "    .dataframe tbody tr th:only-of-type {\n",
       "        vertical-align: middle;\n",
       "    }\n",
       "\n",
       "    .dataframe tbody tr th {\n",
       "        vertical-align: top;\n",
       "    }\n",
       "\n",
       "    .dataframe thead th {\n",
       "        text-align: right;\n",
       "    }\n",
       "</style>\n",
       "<table border=\"1\" class=\"dataframe\">\n",
       "  <thead>\n",
       "    <tr style=\"text-align: right;\">\n",
       "      <th></th>\n",
       "      <th>coef</th>\n",
       "      <th>se(coef)</th>\n",
       "      <th>lower 95% bound</th>\n",
       "      <th>upper 95% bound</th>\n",
       "    </tr>\n",
       "  </thead>\n",
       "  <tbody>\n",
       "    <tr>\n",
       "      <th>r</th>\n",
       "      <td>0.488066</td>\n",
       "      <td>0.001850</td>\n",
       "      <td>0.484439</td>\n",
       "      <td>0.491692</td>\n",
       "    </tr>\n",
       "    <tr>\n",
       "      <th>alpha</th>\n",
       "      <td>1.962555</td>\n",
       "      <td>0.010748</td>\n",
       "      <td>1.941489</td>\n",
       "      <td>1.983621</td>\n",
       "    </tr>\n",
       "    <tr>\n",
       "      <th>a</th>\n",
       "      <td>0.108315</td>\n",
       "      <td>0.000914</td>\n",
       "      <td>0.106524</td>\n",
       "      <td>0.110106</td>\n",
       "    </tr>\n",
       "    <tr>\n",
       "      <th>b</th>\n",
       "      <td>1.785638</td>\n",
       "      <td>0.025768</td>\n",
       "      <td>1.735133</td>\n",
       "      <td>1.836142</td>\n",
       "    </tr>\n",
       "  </tbody>\n",
       "</table>\n",
       "</div>"
      ],
      "text/plain": [
       "           coef  se(coef)  lower 95% bound  upper 95% bound\n",
       "r      0.488066  0.001850         0.484439         0.491692\n",
       "alpha  1.962555  0.010748         1.941489         1.983621\n",
       "a      0.108315  0.000914         0.106524         0.110106\n",
       "b      1.785638  0.025768         1.735133         1.836142"
      ]
     },
     "execution_count": 23,
     "metadata": {},
     "output_type": "execute_result"
    }
   ],
   "source": [
    "from lifetimes import BetaGeoFitter\n",
    "bgf = BetaGeoFitter(penalizer_coef = 0.001) #일반적으로 0.001~0.1 정도의 패널라이저가 효과적임\n",
    "bgf.fit(customer_rft['frequency'], customer_rft['recency'], customer_rft['T'])\n",
    "print(bgf)\n",
    "\n",
    "bgf.summary\n"
   ]
  },
  {
   "cell_type": "markdown",
   "metadata": {},
   "source": [
    "- 파라미터값 => a: 0.11, alpha: 1.96, b: 1.79, r: 0.49"
   ]
  },
  {
   "cell_type": "markdown",
   "metadata": {},
   "source": [
    "## Visualizing our Frequency / Recency matrix\n"
   ]
  },
  {
   "cell_type": "code",
   "execution_count": 24,
   "metadata": {
    "scrolled": false
   },
   "outputs": [
    {
     "name": "stderr",
     "output_type": "stream",
     "text": [
      "C:\\ProgramData\\Anaconda3\\lib\\site-packages\\lifetimes\\fitters\\beta_geo_fitter.py:256: RuntimeWarning: overflow encountered in double_scalars\n",
      "  denominator = 1 + (x > 0) * (a / (b + x - 1)) * ((alpha + T) / (alpha + recency)) ** (r + x)\n"
     ]
    },
    {
     "data": {
      "text/plain": [
       "<matplotlib.axes._subplots.AxesSubplot at 0x22e46d65bb0>"
      ]
     },
     "execution_count": 24,
     "metadata": {},
     "output_type": "execute_result"
    },
    {
     "data": {
      "image/png": "[encoded data removed]",
      "text/plain": [
       "<Figure size 864x576 with 2 Axes>"
      ]
     },
     "metadata": {
      "needs_background": "light"
     },
     "output_type": "display_data"
    }
   ],
   "source": [
    "from lifetimes.plotting import plot_frequency_recency_matrix\n",
    "\n",
    "fig = plt.figure(figsize=(12,8))\n",
    "plot_frequency_recency_matrix(bgf)"
   ]
  },
  {
   "cell_type": "markdown",
   "metadata": {},
   "source": [
    "- 고객이 175회 구매했고, 마지막구매가 175일째라면 가장 best고객임(그래프의 오른쪽 하단)\n",
    "- 가장 차가운 고객은 그래프의 오른쪽 상단(많이 구매했으나, recency가 매우 작아서 최근 구매가 없음)\n",
    "- (15,125)정도 주위에 있는(꼬리 부분) 고객은 자주 구매하지 않음, 그러나 최근에 구매를 하긴 했으므로 다시 구매할 수도 있고 아닐 수도 있음"
   ]
  },
  {
   "cell_type": "markdown",
   "metadata": {},
   "source": [
    "## 살아있을 확률(probability customer is alive)\n"
   ]
  },
  {
   "cell_type": "code",
   "execution_count": 29,
   "metadata": {},
   "outputs": [
    {
     "data": {
      "text/plain": [
       "<matplotlib.axes._subplots.AxesSubplot at 0x22e426232b0>"
      ]
     },
     "execution_count": 29,
     "metadata": {},
     "output_type": "execute_result"
    },
    {
     "data": {
      "image/png": "[encoded data removed]",
      "text/plain": [
       "<Figure size 864x576 with 2 Axes>"
      ]
     },
     "metadata": {
      "needs_background": "light"
     },
     "output_type": "display_data"
    }
   ],
   "source": [
    "from lifetimes.plotting import plot_probability_alive_matrix\n",
    "\n",
    "fig = plt.figure(figsize=(12,8))\n",
    "plot_probability_alive_matrix(bgf)"
   ]
  },
  {
   "cell_type": "markdown",
   "metadata": {},
   "source": [
    "- 최근에 구매한 고객들은 대부분 alive\n",
    "- 많이 구매했지만, 최근이 아닌 고객은 dropped out 될 수 있음\n",
    "- 더 과거에 구매했을 수록 dropped out 될 확률이 높아짐\n"
   ]
  },
  {
   "cell_type": "markdown",
   "metadata": {},
   "source": [
    "# insight 도출\n",
    "### Frequency x Recency matrix\n",
    "- frequency가 높고, recency가 높을수록 => 즉, 반복 구매횟수가 많고, 구매 이력 기간이 길수록 충성고객이며,\n",
    "- frequency가 높지만, recency가 매우 낮으면 => 즉, 반복 구매횟수는 여러번 있지만, 구매 이력 기간이 짧으면 차가운 고객이다.\n",
    "- 꼬리부분(frequency 낮고, recency는 어느정도 높음) => 자주 구매하지는 않았지만, 구매이력 기간은 어느정도 됨 => 언제 이탈할지 모르는 고객\n",
    "\n",
    "### 고객 생존 확률 그래프\n",
    "- 최근에 구매한 고객들은 대부분 생존\n",
    "- 많이 구매했지만, 최근이 아닌 고객(recency가 낮은 고객)은 이탈 가능성 높음"
   ]
  }
 ],
 "metadata": {
  "kernelspec": {
   "display_name": "Python 3",
   "language": "python",
   "name": "python3"
  },
  "language_info": {
   "codemirror_mode": {
    "name": "ipython",
    "version": 3
   },
   "file_extension": ".py",
   "mimetype": "text/x-python",
   "name": "python",
   "nbconvert_exporter": "python",
   "pygments_lexer": "ipython3",
   "version": "3.8.3"
  }
 },
 "nbformat": 4,
 "nbformat_minor": 4
}
