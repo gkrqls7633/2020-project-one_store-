{
 "cells": [
  {
   "cell_type": "code",
   "execution_count": 1,
   "metadata": {},
   "outputs": [],
   "source": [
    "import numpy as np\n",
    "import pandas as pd\n",
    "import matplotlib.pyplot as plt\n",
    "import seaborn as sns"
   ]
  },
  {
   "cell_type": "code",
   "execution_count": 2,
   "metadata": {},
   "outputs": [],
   "source": [
    "df = pd.read_csv('P:/final_prchs_data.csv')"
   ]
  },
  {
   "cell_type": "code",
   "execution_count": 3,
   "metadata": {},
   "outputs": [
    {
     "data": {
      "text/html": [
       "<div>\n",
       "<style scoped>\n",
       "    .dataframe tbody tr th:only-of-type {\n",
       "        vertical-align: middle;\n",
       "    }\n",
       "\n",
       "    .dataframe tbody tr th {\n",
       "        vertical-align: top;\n",
       "    }\n",
       "\n",
       "    .dataframe thead th {\n",
       "        text-align: right;\n",
       "    }\n",
       "</style>\n",
       "<table border=\"1\" class=\"dataframe\">\n",
       "  <thead>\n",
       "    <tr style=\"text-align: right;\">\n",
       "      <th></th>\n",
       "      <th>prchs_id</th>\n",
       "      <th>prod_id</th>\n",
       "      <th>partition_dt</th>\n",
       "      <th>insd_usermbr_no</th>\n",
       "      <th>prod_amt</th>\n",
       "      <th>sex_clsf_cd</th>\n",
       "      <th>age_cd</th>\n",
       "      <th>category_nm</th>\n",
       "      <th>dtl_category_nm</th>\n",
       "      <th>prchs_tm_clsf_nm</th>\n",
       "      <th>mno_cd</th>\n",
       "      <th>cust_payment_amt</th>\n",
       "      <th>sett_target_cpn_amt</th>\n",
       "      <th>pay_mtd_cnt</th>\n",
       "    </tr>\n",
       "  </thead>\n",
       "  <tbody>\n",
       "    <tr>\n",
       "      <th>0</th>\n",
       "      <td>20013123592010721507</td>\n",
       "      <td>H018480692</td>\n",
       "      <td>20200201</td>\n",
       "      <td>IF1423177586220101006224941</td>\n",
       "      <td>3600</td>\n",
       "      <td>F</td>\n",
       "      <td>042</td>\n",
       "      <td>eBook</td>\n",
       "      <td>로맨스</td>\n",
       "      <td>00 ~ 01</td>\n",
       "      <td>US001201</td>\n",
       "      <td>3240</td>\n",
       "      <td>360</td>\n",
       "      <td>3</td>\n",
       "    </tr>\n",
       "    <tr>\n",
       "      <th>1</th>\n",
       "      <td>20013123593010931584</td>\n",
       "      <td>H038835416</td>\n",
       "      <td>20200201</td>\n",
       "      <td>US2018070914480184346187029</td>\n",
       "      <td>900</td>\n",
       "      <td>M</td>\n",
       "      <td>037</td>\n",
       "      <td>eBook</td>\n",
       "      <td>무협</td>\n",
       "      <td>00 ~ 01</td>\n",
       "      <td>US001201</td>\n",
       "      <td>810</td>\n",
       "      <td>90</td>\n",
       "      <td>2</td>\n",
       "    </tr>\n",
       "    <tr>\n",
       "      <th>2</th>\n",
       "      <td>20013123593510331626</td>\n",
       "      <td>H031234584</td>\n",
       "      <td>20200201</td>\n",
       "      <td>US2018092811402674047654410</td>\n",
       "      <td>900</td>\n",
       "      <td>Z</td>\n",
       "      <td>ZZZ</td>\n",
       "      <td>eBook</td>\n",
       "      <td>판타지</td>\n",
       "      <td>00 ~ 01</td>\n",
       "      <td>US001201</td>\n",
       "      <td>810</td>\n",
       "      <td>90</td>\n",
       "      <td>2</td>\n",
       "    </tr>\n",
       "    <tr>\n",
       "      <th>3</th>\n",
       "      <td>20013123595120417183</td>\n",
       "      <td>H038724908</td>\n",
       "      <td>20200201</td>\n",
       "      <td>US2018033113065860244558735</td>\n",
       "      <td>3150</td>\n",
       "      <td>F</td>\n",
       "      <td>051</td>\n",
       "      <td>eBook</td>\n",
       "      <td>로맨스</td>\n",
       "      <td>00 ~ 01</td>\n",
       "      <td>US001202</td>\n",
       "      <td>3150</td>\n",
       "      <td>0</td>\n",
       "      <td>1</td>\n",
       "    </tr>\n",
       "  </tbody>\n",
       "</table>\n",
       "</div>"
      ],
      "text/plain": [
       "               prchs_id     prod_id  partition_dt  \\\n",
       "0  20013123592010721507  H018480692      20200201   \n",
       "1  20013123593010931584  H038835416      20200201   \n",
       "2  20013123593510331626  H031234584      20200201   \n",
       "3  20013123595120417183  H038724908      20200201   \n",
       "\n",
       "               insd_usermbr_no  prod_amt sex_clsf_cd age_cd category_nm  \\\n",
       "0  IF1423177586220101006224941      3600           F    042       eBook   \n",
       "1  US2018070914480184346187029       900           M    037       eBook   \n",
       "2  US2018092811402674047654410       900           Z    ZZZ       eBook   \n",
       "3  US2018033113065860244558735      3150           F    051       eBook   \n",
       "\n",
       "  dtl_category_nm prchs_tm_clsf_nm    mno_cd  cust_payment_amt  \\\n",
       "0             로맨스          00 ~ 01  US001201              3240   \n",
       "1              무협          00 ~ 01  US001201               810   \n",
       "2             판타지          00 ~ 01  US001201               810   \n",
       "3             로맨스          00 ~ 01  US001202              3150   \n",
       "\n",
       "   sett_target_cpn_amt  pay_mtd_cnt  \n",
       "0                  360            3  \n",
       "1                   90            2  \n",
       "2                   90            2  \n",
       "3                    0            1  "
      ]
     },
     "execution_count": 3,
     "metadata": {},
     "output_type": "execute_result"
    }
   ],
   "source": [
    "df.head(4)"
   ]
  },
  {
   "cell_type": "code",
   "execution_count": 4,
   "metadata": {},
   "outputs": [],
   "source": [
    "test = df.groupby(['prchs_tm_clsf_nm'])['prchs_id'].count()"
   ]
  },
  {
   "cell_type": "code",
   "execution_count": 5,
   "metadata": {},
   "outputs": [
    {
     "data": {
      "image/png": "[encoded data removed]",
      "text/plain": [
       "<Figure size 1080x504 with 1 Axes>"
      ]
     },
     "metadata": {
      "needs_background": "light"
     },
     "output_type": "display_data"
    }
   ],
   "source": [
    "test.plot.bar(figsize = (15,7),colormap='Set2')\n",
    "plt.xticks(rotation = 45)\n",
    "plt.show()"
   ]
  },
  {
   "cell_type": "markdown",
   "metadata": {},
   "source": [
    "**정액제 성별 비율 확인**"
   ]
  },
  {
   "cell_type": "code",
   "execution_count": 7,
   "metadata": {},
   "outputs": [],
   "source": [
    "temp = df[df['category_nm']=='정액제']"
   ]
  },
  {
   "cell_type": "code",
   "execution_count": 8,
   "metadata": {},
   "outputs": [
    {
     "data": {
      "text/plain": [
       "F    0.646453\n",
       "M    0.320022\n",
       "Z    0.033525\n",
       "Name: sex_clsf_cd, dtype: float64"
      ]
     },
     "execution_count": 8,
     "metadata": {},
     "output_type": "execute_result"
    }
   ],
   "source": [
    "temp['sex_clsf_cd'].value_counts(normalize=True)"
   ]
  }
 ],
 "metadata": {
  "kernelspec": {
   "display_name": "Python 3",
   "language": "python",
   "name": "python3"
  },
  "language_info": {
   "codemirror_mode": {
    "name": "ipython",
    "version": 3
   },
   "file_extension": ".py",
   "mimetype": "text/x-python",
   "name": "python",
   "nbconvert_exporter": "python",
   "pygments_lexer": "ipython3",
   "version": "3.8.3"
  }
 },
 "nbformat": 4,
 "nbformat_minor": 4
}
