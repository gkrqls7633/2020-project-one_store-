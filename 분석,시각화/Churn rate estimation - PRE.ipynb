{
 "cells": [
  {
   "cell_type": "code",
   "execution_count": 4,
   "metadata": {},
   "outputs": [],
   "source": [
    "import pandas as pd\n",
    "import numpy as np\n",
    "from datetime import date\n",
    "\n",
    "import lifetimes\n",
    "import pandas_profiling as pp\n",
    "\n",
    "import numpy as np\n",
    "import sklearn\n",
    "\n",
    "import matplotlib.pyplot as plt\n",
    "import seaborn as sns\n",
    "\n",
    "from sklearn.model_selection import train_test_split"
   ]
  },
  {
   "cell_type": "code",
   "execution_count": 5,
   "metadata": {},
   "outputs": [],
   "source": [
    "pd.options.mode.chained_assignment = None"
   ]
  },
  {
   "cell_type": "code",
   "execution_count": 3,
   "metadata": {},
   "outputs": [],
   "source": [
    "# pd.set_option('display.max_rows', None)\n",
    "# pd.set_option('display.max_columns', None)"
   ]
  },
  {
   "cell_type": "markdown",
   "metadata": {},
   "source": [
    "## 데이터 설명"
   ]
  },
  {
   "cell_type": "markdown",
   "metadata": {},
   "source": [
    "주어진 데이터는, 사용자들의 구매내역 데이터로, \n",
    "<br/>\n",
    "날짜\n",
    "<br/>\n",
    "상품id\n",
    "<br/>\n",
    "구매id > agg해서 봐야한다\n",
    "<br/>\n",
    "payment code\n",
    "<br/>\n",
    "patment name\n",
    "<br/>\n",
    "취소여부\n",
    "<br/>\n",
    "회원DE\n",
    "<br/>\n",
    "단말기\n",
    "<br/>\n",
    "고객의 실제 지불금액\n",
    "<br/>\n",
    "쿠폰 사용금액\n",
    "<br/>\n",
    "nan set 무시\n",
    "<br/>\n",
    "구매 시간 분류\n",
    "<br/>\n",
    "성별\n",
    "<br/>\n",
    "연력\n",
    "<br/>\n",
    "이동통신사 코드 \n",
    "<br/>\n",
    "카테고리 넘버 \n",
    "<br/>\n",
    "카테고리 이름(정액제>e북이 북패스), \n",
    "<br/>\n",
    "상세카테고리\n",
    "<br/>\n",
    "세부분류\n",
    "<br/>\n",
    "상품 원가\n",
    "<br/>\n",
    "구독코드\n",
    "<br/>\n",
    "패키지이름\n",
    "<br/>\n",
    "앱플레이어\n",
    "<br/>\n",
    "\n",
    "(1) if 현금, 쿠폰, 캐시를 했으면 세개의 건수로 잡히는데 구매id로 묶어서 봐야한다 \n",
    "<br/>\n",
    "(2) cancel Y/N Y값이 있으면 해당되는 중복을 지워야한다 \n",
    "<br/>\n",
    "(3) partition_dt 앞쪽은 날짜, purcha tm c ~ 시기구간별:뒤쪽은 구매시간\n",
    "<br/>\n",
    "(4) 북패스 구매자 : 상품 끝자리 635, 카테고리dpff, "
   ]
  },
  {
   "cell_type": "code",
   "execution_count": 4,
   "metadata": {},
   "outputs": [],
   "source": [
    "data1 = pd.read_csv('P:/ord_prchs_diet.csv')"
   ]
  },
  {
   "cell_type": "code",
   "execution_count": 6,
   "metadata": {},
   "outputs": [
    {
     "data": {
      "text/plain": [
       "(40131396, 14)"
      ]
     },
     "execution_count": 6,
     "metadata": {},
     "output_type": "execute_result"
    }
   ],
   "source": [
    "data1.shape"
   ]
  },
  {
   "cell_type": "code",
   "execution_count": 7,
   "metadata": {},
   "outputs": [
    {
     "data": {
      "text/html": [
       "<div>\n",
       "<style scoped>\n",
       "    .dataframe tbody tr th:only-of-type {\n",
       "        vertical-align: middle;\n",
       "    }\n",
       "\n",
       "    .dataframe tbody tr th {\n",
       "        vertical-align: top;\n",
       "    }\n",
       "\n",
       "    .dataframe thead th {\n",
       "        text-align: right;\n",
       "    }\n",
       "</style>\n",
       "<table border=\"1\" class=\"dataframe\">\n",
       "  <thead>\n",
       "    <tr style=\"text-align: right;\">\n",
       "      <th></th>\n",
       "      <th>partition_dt</th>\n",
       "      <th>prchs_id</th>\n",
       "      <th>payment_mtd_nm</th>\n",
       "      <th>insd_usermbr_no</th>\n",
       "      <th>cust_payment_amt</th>\n",
       "      <th>sett_target_cpn_amt</th>\n",
       "      <th>prchs_tm_clsf_nm</th>\n",
       "      <th>sex_clsf_cd</th>\n",
       "      <th>age_cd</th>\n",
       "      <th>mno_cd</th>\n",
       "      <th>category_nm</th>\n",
       "      <th>dtl_category_nm</th>\n",
       "      <th>prod_amt</th>\n",
       "      <th>prod_grd_cd</th>\n",
       "    </tr>\n",
       "  </thead>\n",
       "  <tbody>\n",
       "    <tr>\n",
       "      <th>0</th>\n",
       "      <td>20200201</td>\n",
       "      <td>20020119474421413237</td>\n",
       "      <td>ONE pay 카드</td>\n",
       "      <td>US2015062611394912110641133</td>\n",
       "      <td>2600</td>\n",
       "      <td>0</td>\n",
       "      <td>19 ~ 20</td>\n",
       "      <td>F</td>\n",
       "      <td>044</td>\n",
       "      <td>US001202</td>\n",
       "      <td>eBook</td>\n",
       "      <td>로맨스</td>\n",
       "      <td>4000</td>\n",
       "      <td>PD004404</td>\n",
       "    </tr>\n",
       "    <tr>\n",
       "      <th>1</th>\n",
       "      <td>20200201</td>\n",
       "      <td>20020120075710113540</td>\n",
       "      <td>컬쳐캐쉬</td>\n",
       "      <td>US2016060616574832325791427</td>\n",
       "      <td>2430</td>\n",
       "      <td>0</td>\n",
       "      <td>20 ~ 21</td>\n",
       "      <td>F</td>\n",
       "      <td>026</td>\n",
       "      <td>US001201</td>\n",
       "      <td>eBook</td>\n",
       "      <td>로맨스</td>\n",
       "      <td>2700</td>\n",
       "      <td>PD004404</td>\n",
       "    </tr>\n",
       "    <tr>\n",
       "      <th>2</th>\n",
       "      <td>20200201</td>\n",
       "      <td>20020111240130710381</td>\n",
       "      <td>북스 캐쉬 (현금)</td>\n",
       "      <td>US2019082620122445453051413</td>\n",
       "      <td>2640</td>\n",
       "      <td>0</td>\n",
       "      <td>11 ~ 12</td>\n",
       "      <td>M</td>\n",
       "      <td>066</td>\n",
       "      <td>US001203</td>\n",
       "      <td>eBook</td>\n",
       "      <td>로맨스</td>\n",
       "      <td>2700</td>\n",
       "      <td>PD004404</td>\n",
       "    </tr>\n",
       "    <tr>\n",
       "      <th>3</th>\n",
       "      <td>20200201</td>\n",
       "      <td>20020111240130710381</td>\n",
       "      <td>북스 캐쉬 (포인트)</td>\n",
       "      <td>US2019082620122445453051413</td>\n",
       "      <td>0</td>\n",
       "      <td>60</td>\n",
       "      <td>11 ~ 12</td>\n",
       "      <td>M</td>\n",
       "      <td>066</td>\n",
       "      <td>US001203</td>\n",
       "      <td>eBook</td>\n",
       "      <td>로맨스</td>\n",
       "      <td>2700</td>\n",
       "      <td>PD004404</td>\n",
       "    </tr>\n",
       "    <tr>\n",
       "      <th>4</th>\n",
       "      <td>20200201</td>\n",
       "      <td>20020110204410231507</td>\n",
       "      <td>북스 캐쉬 (현금)</td>\n",
       "      <td>IW1424469760220110528222309</td>\n",
       "      <td>2700</td>\n",
       "      <td>0</td>\n",
       "      <td>10 ~ 11</td>\n",
       "      <td>F</td>\n",
       "      <td>045</td>\n",
       "      <td>US001201</td>\n",
       "      <td>eBook</td>\n",
       "      <td>로맨스</td>\n",
       "      <td>2700</td>\n",
       "      <td>PD004404</td>\n",
       "    </tr>\n",
       "  </tbody>\n",
       "</table>\n",
       "</div>"
      ],
      "text/plain": [
       "   partition_dt              prchs_id payment_mtd_nm  \\\n",
       "0      20200201  20020119474421413237     ONE pay 카드   \n",
       "1      20200201  20020120075710113540           컬쳐캐쉬   \n",
       "2      20200201  20020111240130710381     북스 캐쉬 (현금)   \n",
       "3      20200201  20020111240130710381    북스 캐쉬 (포인트)   \n",
       "4      20200201  20020110204410231507     북스 캐쉬 (현금)   \n",
       "\n",
       "               insd_usermbr_no  cust_payment_amt  sett_target_cpn_amt  \\\n",
       "0  US2015062611394912110641133              2600                    0   \n",
       "1  US2016060616574832325791427              2430                    0   \n",
       "2  US2019082620122445453051413              2640                    0   \n",
       "3  US2019082620122445453051413                 0                   60   \n",
       "4  IW1424469760220110528222309              2700                    0   \n",
       "\n",
       "  prchs_tm_clsf_nm sex_clsf_cd age_cd    mno_cd category_nm dtl_category_nm  \\\n",
       "0          19 ~ 20           F    044  US001202       eBook             로맨스   \n",
       "1          20 ~ 21           F    026  US001201       eBook             로맨스   \n",
       "2          11 ~ 12           M    066  US001203       eBook             로맨스   \n",
       "3          11 ~ 12           M    066  US001203       eBook             로맨스   \n",
       "4          10 ~ 11           F    045  US001201       eBook             로맨스   \n",
       "\n",
       "   prod_amt prod_grd_cd  \n",
       "0      4000    PD004404  \n",
       "1      2700    PD004404  \n",
       "2      2700    PD004404  \n",
       "3      2700    PD004404  \n",
       "4      2700    PD004404  "
      ]
     },
     "execution_count": 7,
     "metadata": {},
     "output_type": "execute_result"
    }
   ],
   "source": [
    "data1.head()"
   ]
  },
  {
   "cell_type": "markdown",
   "metadata": {},
   "source": [
    "## 불필요한 column 삭제"
   ]
  },
  {
   "cell_type": "code",
   "execution_count": 12,
   "metadata": {},
   "outputs": [],
   "source": [
    "data1 = data1.drop(['prod_grd_cd'], axis = 1)"
   ]
  },
  {
   "cell_type": "code",
   "execution_count": 14,
   "metadata": {},
   "outputs": [],
   "source": [
    "# a = pd.DataFrame(data1.groupby(['prchs_id', 'prod_id'])['payment_mtd_nm'].count()).reset_index()\n",
    "# a"
   ]
  },
  {
   "cell_type": "code",
   "execution_count": 55,
   "metadata": {},
   "outputs": [],
   "source": [
    "data1 = pd.merge(data1, a, how = 'left', on = ['prchs_id', 'prod_id'])"
   ]
  },
  {
   "cell_type": "code",
   "execution_count": 56,
   "metadata": {},
   "outputs": [
    {
     "data": {
      "text/html": [
       "<div>\n",
       "<style scoped>\n",
       "    .dataframe tbody tr th:only-of-type {\n",
       "        vertical-align: middle;\n",
       "    }\n",
       "\n",
       "    .dataframe tbody tr th {\n",
       "        vertical-align: top;\n",
       "    }\n",
       "\n",
       "    .dataframe thead th {\n",
       "        text-align: right;\n",
       "    }\n",
       "</style>\n",
       "<table border=\"1\" class=\"dataframe\">\n",
       "  <thead>\n",
       "    <tr style=\"text-align: right;\">\n",
       "      <th></th>\n",
       "      <th>partition_dt</th>\n",
       "      <th>prod_id</th>\n",
       "      <th>prchs_id</th>\n",
       "      <th>payment_mtd_nm_x</th>\n",
       "      <th>insd_usermbr_no</th>\n",
       "      <th>cust_payment_amt</th>\n",
       "      <th>sett_target_cpn_amt</th>\n",
       "      <th>prchs_tm_clsf_nm</th>\n",
       "      <th>sex_clsf_cd</th>\n",
       "      <th>age_cd</th>\n",
       "      <th>mno_cd</th>\n",
       "      <th>category_nm</th>\n",
       "      <th>dtl_category_nm</th>\n",
       "      <th>prod_amt</th>\n",
       "      <th>payment_mtd_nm_y</th>\n",
       "    </tr>\n",
       "  </thead>\n",
       "  <tbody>\n",
       "    <tr>\n",
       "      <th>0</th>\n",
       "      <td>20200315</td>\n",
       "      <td>H037784296</td>\n",
       "      <td>20031517045411126112</td>\n",
       "      <td>ONE pay 카드</td>\n",
       "      <td>IM142100007817868201305101526</td>\n",
       "      <td>360</td>\n",
       "      <td>0</td>\n",
       "      <td>17 ~ 18</td>\n",
       "      <td>F</td>\n",
       "      <td>047</td>\n",
       "      <td>US001201</td>\n",
       "      <td>웹툰</td>\n",
       "      <td>BL</td>\n",
       "      <td>400</td>\n",
       "      <td>1</td>\n",
       "    </tr>\n",
       "    <tr>\n",
       "      <th>1</th>\n",
       "      <td>20200315</td>\n",
       "      <td>H037789246</td>\n",
       "      <td>20031519204711539321</td>\n",
       "      <td>네이버페이</td>\n",
       "      <td>US2017040422011068736556784</td>\n",
       "      <td>90</td>\n",
       "      <td>0</td>\n",
       "      <td>19 ~ 20</td>\n",
       "      <td>Z</td>\n",
       "      <td>ZZZ</td>\n",
       "      <td>US001201</td>\n",
       "      <td>eBook</td>\n",
       "      <td>무협</td>\n",
       "      <td>100</td>\n",
       "      <td>2</td>\n",
       "    </tr>\n",
       "    <tr>\n",
       "      <th>2</th>\n",
       "      <td>20200315</td>\n",
       "      <td>H037789246</td>\n",
       "      <td>20031519204711539321</td>\n",
       "      <td>T 멤버십</td>\n",
       "      <td>US2017040422011068736556784</td>\n",
       "      <td>0</td>\n",
       "      <td>10</td>\n",
       "      <td>19 ~ 20</td>\n",
       "      <td>Z</td>\n",
       "      <td>ZZZ</td>\n",
       "      <td>US001201</td>\n",
       "      <td>eBook</td>\n",
       "      <td>무협</td>\n",
       "      <td>100</td>\n",
       "      <td>2</td>\n",
       "    </tr>\n",
       "    <tr>\n",
       "      <th>3</th>\n",
       "      <td>20200315</td>\n",
       "      <td>H037819161</td>\n",
       "      <td>20031513470510711172</td>\n",
       "      <td>휴대폰결제 (DCB)</td>\n",
       "      <td>US201502190828539284589824</td>\n",
       "      <td>100</td>\n",
       "      <td>0</td>\n",
       "      <td>13 ~ 14</td>\n",
       "      <td>M</td>\n",
       "      <td>051</td>\n",
       "      <td>US001201</td>\n",
       "      <td>eBook</td>\n",
       "      <td>판타지</td>\n",
       "      <td>100</td>\n",
       "      <td>1</td>\n",
       "    </tr>\n",
       "    <tr>\n",
       "      <th>4</th>\n",
       "      <td>20200315</td>\n",
       "      <td>H037819161</td>\n",
       "      <td>20031505511710810621</td>\n",
       "      <td>북스 캐쉬 (현금)</td>\n",
       "      <td>US2018030620352888244110712</td>\n",
       "      <td>100</td>\n",
       "      <td>0</td>\n",
       "      <td>05 ~ 06</td>\n",
       "      <td>M</td>\n",
       "      <td>038</td>\n",
       "      <td>US001201</td>\n",
       "      <td>eBook</td>\n",
       "      <td>판타지</td>\n",
       "      <td>100</td>\n",
       "      <td>1</td>\n",
       "    </tr>\n",
       "    <tr>\n",
       "      <th>...</th>\n",
       "      <td>...</td>\n",
       "      <td>...</td>\n",
       "      <td>...</td>\n",
       "      <td>...</td>\n",
       "      <td>...</td>\n",
       "      <td>...</td>\n",
       "      <td>...</td>\n",
       "      <td>...</td>\n",
       "      <td>...</td>\n",
       "      <td>...</td>\n",
       "      <td>...</td>\n",
       "      <td>...</td>\n",
       "      <td>...</td>\n",
       "      <td>...</td>\n",
       "      <td>...</td>\n",
       "    </tr>\n",
       "    <tr>\n",
       "      <th>416660</th>\n",
       "      <td>20200507</td>\n",
       "      <td>H039079540</td>\n",
       "      <td>20050714193020711329</td>\n",
       "      <td>북스 캐쉬 (현금)</td>\n",
       "      <td>US2019111707235842454181616</td>\n",
       "      <td>100</td>\n",
       "      <td>0</td>\n",
       "      <td>14 ~ 15</td>\n",
       "      <td>Z</td>\n",
       "      <td>ZZZ</td>\n",
       "      <td>US001202</td>\n",
       "      <td>eBook</td>\n",
       "      <td>로맨스</td>\n",
       "      <td>100</td>\n",
       "      <td>1</td>\n",
       "    </tr>\n",
       "    <tr>\n",
       "      <th>416661</th>\n",
       "      <td>20200507</td>\n",
       "      <td>H039079991</td>\n",
       "      <td>20050709090031519466</td>\n",
       "      <td>북스 캐쉬 (현금)</td>\n",
       "      <td>US2017032923021420836418799</td>\n",
       "      <td>100</td>\n",
       "      <td>0</td>\n",
       "      <td>09 ~ 10</td>\n",
       "      <td>M</td>\n",
       "      <td>050</td>\n",
       "      <td>US001203</td>\n",
       "      <td>eBook</td>\n",
       "      <td>판타지</td>\n",
       "      <td>100</td>\n",
       "      <td>1</td>\n",
       "    </tr>\n",
       "    <tr>\n",
       "      <th>416662</th>\n",
       "      <td>20200507</td>\n",
       "      <td>H039080656</td>\n",
       "      <td>20050718191611530994</td>\n",
       "      <td>북스 캐쉬 (현금)</td>\n",
       "      <td>IW1424516471220110606010606</td>\n",
       "      <td>100</td>\n",
       "      <td>0</td>\n",
       "      <td>18 ~ 19</td>\n",
       "      <td>F</td>\n",
       "      <td>042</td>\n",
       "      <td>US001201</td>\n",
       "      <td>eBook</td>\n",
       "      <td>로맨스</td>\n",
       "      <td>100</td>\n",
       "      <td>1</td>\n",
       "    </tr>\n",
       "    <tr>\n",
       "      <th>416663</th>\n",
       "      <td>20200507</td>\n",
       "      <td>H039081547</td>\n",
       "      <td>20050701174510536154</td>\n",
       "      <td>북스 캐쉬 (포인트)</td>\n",
       "      <td>US2016120917563137233351253</td>\n",
       "      <td>0</td>\n",
       "      <td>200</td>\n",
       "      <td>01 ~ 02</td>\n",
       "      <td>F</td>\n",
       "      <td>038</td>\n",
       "      <td>US001201</td>\n",
       "      <td>만화</td>\n",
       "      <td>순정</td>\n",
       "      <td>200</td>\n",
       "      <td>1</td>\n",
       "    </tr>\n",
       "    <tr>\n",
       "      <th>416664</th>\n",
       "      <td>20200507</td>\n",
       "      <td>H039082771</td>\n",
       "      <td>20050709262710323392</td>\n",
       "      <td>휴대폰결제 (DCB)</td>\n",
       "      <td>IW1423847921620101218160210</td>\n",
       "      <td>95</td>\n",
       "      <td>0</td>\n",
       "      <td>09 ~ 10</td>\n",
       "      <td>M</td>\n",
       "      <td>039</td>\n",
       "      <td>US001201</td>\n",
       "      <td>eBook</td>\n",
       "      <td>판타지</td>\n",
       "      <td>100</td>\n",
       "      <td>1</td>\n",
       "    </tr>\n",
       "  </tbody>\n",
       "</table>\n",
       "<p>416665 rows × 15 columns</p>\n",
       "</div>"
      ],
      "text/plain": [
       "        partition_dt     prod_id              prchs_id payment_mtd_nm_x  \\\n",
       "0           20200315  H037784296  20031517045411126112       ONE pay 카드   \n",
       "1           20200315  H037789246  20031519204711539321            네이버페이   \n",
       "2           20200315  H037789246  20031519204711539321            T 멤버십   \n",
       "3           20200315  H037819161  20031513470510711172      휴대폰결제 (DCB)   \n",
       "4           20200315  H037819161  20031505511710810621       북스 캐쉬 (현금)   \n",
       "...              ...         ...                   ...              ...   \n",
       "416660      20200507  H039079540  20050714193020711329       북스 캐쉬 (현금)   \n",
       "416661      20200507  H039079991  20050709090031519466       북스 캐쉬 (현금)   \n",
       "416662      20200507  H039080656  20050718191611530994       북스 캐쉬 (현금)   \n",
       "416663      20200507  H039081547  20050701174510536154      북스 캐쉬 (포인트)   \n",
       "416664      20200507  H039082771  20050709262710323392      휴대폰결제 (DCB)   \n",
       "\n",
       "                      insd_usermbr_no  cust_payment_amt  sett_target_cpn_amt  \\\n",
       "0       IM142100007817868201305101526               360                    0   \n",
       "1         US2017040422011068736556784                90                    0   \n",
       "2         US2017040422011068736556784                 0                   10   \n",
       "3          US201502190828539284589824               100                    0   \n",
       "4         US2018030620352888244110712               100                    0   \n",
       "...                               ...               ...                  ...   \n",
       "416660    US2019111707235842454181616               100                    0   \n",
       "416661    US2017032923021420836418799               100                    0   \n",
       "416662    IW1424516471220110606010606               100                    0   \n",
       "416663    US2016120917563137233351253                 0                  200   \n",
       "416664    IW1423847921620101218160210                95                    0   \n",
       "\n",
       "       prchs_tm_clsf_nm sex_clsf_cd age_cd    mno_cd category_nm  \\\n",
       "0               17 ~ 18           F    047  US001201          웹툰   \n",
       "1               19 ~ 20           Z    ZZZ  US001201       eBook   \n",
       "2               19 ~ 20           Z    ZZZ  US001201       eBook   \n",
       "3               13 ~ 14           M    051  US001201       eBook   \n",
       "4               05 ~ 06           M    038  US001201       eBook   \n",
       "...                 ...         ...    ...       ...         ...   \n",
       "416660          14 ~ 15           Z    ZZZ  US001202       eBook   \n",
       "416661          09 ~ 10           M    050  US001203       eBook   \n",
       "416662          18 ~ 19           F    042  US001201       eBook   \n",
       "416663          01 ~ 02           F    038  US001201          만화   \n",
       "416664          09 ~ 10           M    039  US001201       eBook   \n",
       "\n",
       "       dtl_category_nm  prod_amt  payment_mtd_nm_y  \n",
       "0                   BL       400                 1  \n",
       "1                   무협       100                 2  \n",
       "2                   무협       100                 2  \n",
       "3                  판타지       100                 1  \n",
       "4                  판타지       100                 1  \n",
       "...                ...       ...               ...  \n",
       "416660             로맨스       100                 1  \n",
       "416661             판타지       100                 1  \n",
       "416662             로맨스       100                 1  \n",
       "416663              순정       200                 1  \n",
       "416664             판타지       100                 1  \n",
       "\n",
       "[416665 rows x 15 columns]"
      ]
     },
     "execution_count": 56,
     "metadata": {},
     "output_type": "execute_result"
    }
   ],
   "source": [
    "data1= data1.drop"
   ]
  },
  {
   "cell_type": "code",
   "execution_count": 49,
   "metadata": {},
   "outputs": [
    {
     "data": {
      "text/plain": [
       "(416665, 16)"
      ]
     },
     "execution_count": 49,
     "metadata": {},
     "output_type": "execute_result"
    }
   ],
   "source": [
    "data1.shape"
   ]
  },
  {
   "cell_type": "markdown",
   "metadata": {},
   "source": [
    "## 데이터 둘러보기 "
   ]
  },
  {
   "cell_type": "code",
   "execution_count": 6,
   "metadata": {},
   "outputs": [],
   "source": [
    "data = pd.read_csv('P:/final_prchs_data.csv')"
   ]
  },
  {
   "cell_type": "code",
   "execution_count": 7,
   "metadata": {},
   "outputs": [
    {
     "data": {
      "text/html": [
       "<div>\n",
       "<style scoped>\n",
       "    .dataframe tbody tr th:only-of-type {\n",
       "        vertical-align: middle;\n",
       "    }\n",
       "\n",
       "    .dataframe tbody tr th {\n",
       "        vertical-align: top;\n",
       "    }\n",
       "\n",
       "    .dataframe thead th {\n",
       "        text-align: right;\n",
       "    }\n",
       "</style>\n",
       "<table border=\"1\" class=\"dataframe\">\n",
       "  <thead>\n",
       "    <tr style=\"text-align: right;\">\n",
       "      <th></th>\n",
       "      <th>prchs_id</th>\n",
       "      <th>prod_id</th>\n",
       "      <th>partition_dt</th>\n",
       "      <th>insd_usermbr_no</th>\n",
       "      <th>prod_amt</th>\n",
       "      <th>sex_clsf_cd</th>\n",
       "      <th>age_cd</th>\n",
       "      <th>category_nm</th>\n",
       "      <th>dtl_category_nm</th>\n",
       "      <th>prchs_tm_clsf_nm</th>\n",
       "      <th>mno_cd</th>\n",
       "      <th>cust_payment_amt</th>\n",
       "      <th>sett_target_cpn_amt</th>\n",
       "      <th>pay_mtd_cnt</th>\n",
       "    </tr>\n",
       "  </thead>\n",
       "  <tbody>\n",
       "    <tr>\n",
       "      <th>0</th>\n",
       "      <td>20013123592010721507</td>\n",
       "      <td>H018480692</td>\n",
       "      <td>20200201</td>\n",
       "      <td>IF1423177586220101006224941</td>\n",
       "      <td>3600</td>\n",
       "      <td>F</td>\n",
       "      <td>042</td>\n",
       "      <td>eBook</td>\n",
       "      <td>로맨스</td>\n",
       "      <td>00 ~ 01</td>\n",
       "      <td>US001201</td>\n",
       "      <td>3240</td>\n",
       "      <td>360</td>\n",
       "      <td>3</td>\n",
       "    </tr>\n",
       "    <tr>\n",
       "      <th>1</th>\n",
       "      <td>20013123593010931584</td>\n",
       "      <td>H038835416</td>\n",
       "      <td>20200201</td>\n",
       "      <td>US2018070914480184346187029</td>\n",
       "      <td>900</td>\n",
       "      <td>M</td>\n",
       "      <td>037</td>\n",
       "      <td>eBook</td>\n",
       "      <td>무협</td>\n",
       "      <td>00 ~ 01</td>\n",
       "      <td>US001201</td>\n",
       "      <td>810</td>\n",
       "      <td>90</td>\n",
       "      <td>2</td>\n",
       "    </tr>\n",
       "    <tr>\n",
       "      <th>2</th>\n",
       "      <td>20013123593510331626</td>\n",
       "      <td>H031234584</td>\n",
       "      <td>20200201</td>\n",
       "      <td>US2018092811402674047654410</td>\n",
       "      <td>900</td>\n",
       "      <td>Z</td>\n",
       "      <td>ZZZ</td>\n",
       "      <td>eBook</td>\n",
       "      <td>판타지</td>\n",
       "      <td>00 ~ 01</td>\n",
       "      <td>US001201</td>\n",
       "      <td>810</td>\n",
       "      <td>90</td>\n",
       "      <td>2</td>\n",
       "    </tr>\n",
       "    <tr>\n",
       "      <th>3</th>\n",
       "      <td>20013123595120417183</td>\n",
       "      <td>H038724908</td>\n",
       "      <td>20200201</td>\n",
       "      <td>US2018033113065860244558735</td>\n",
       "      <td>3150</td>\n",
       "      <td>F</td>\n",
       "      <td>051</td>\n",
       "      <td>eBook</td>\n",
       "      <td>로맨스</td>\n",
       "      <td>00 ~ 01</td>\n",
       "      <td>US001202</td>\n",
       "      <td>3150</td>\n",
       "      <td>0</td>\n",
       "      <td>1</td>\n",
       "    </tr>\n",
       "    <tr>\n",
       "      <th>4</th>\n",
       "      <td>20013123595221217187</td>\n",
       "      <td>H035730852</td>\n",
       "      <td>20200201</td>\n",
       "      <td>US2019112415415699154280728</td>\n",
       "      <td>200</td>\n",
       "      <td>F</td>\n",
       "      <td>043</td>\n",
       "      <td>웹툰</td>\n",
       "      <td>순정</td>\n",
       "      <td>00 ~ 01</td>\n",
       "      <td>US001202</td>\n",
       "      <td>180</td>\n",
       "      <td>20</td>\n",
       "      <td>2</td>\n",
       "    </tr>\n",
       "  </tbody>\n",
       "</table>\n",
       "</div>"
      ],
      "text/plain": [
       "               prchs_id     prod_id  partition_dt  \\\n",
       "0  20013123592010721507  H018480692      20200201   \n",
       "1  20013123593010931584  H038835416      20200201   \n",
       "2  20013123593510331626  H031234584      20200201   \n",
       "3  20013123595120417183  H038724908      20200201   \n",
       "4  20013123595221217187  H035730852      20200201   \n",
       "\n",
       "               insd_usermbr_no  prod_amt sex_clsf_cd age_cd category_nm  \\\n",
       "0  IF1423177586220101006224941      3600           F    042       eBook   \n",
       "1  US2018070914480184346187029       900           M    037       eBook   \n",
       "2  US2018092811402674047654410       900           Z    ZZZ       eBook   \n",
       "3  US2018033113065860244558735      3150           F    051       eBook   \n",
       "4  US2019112415415699154280728       200           F    043          웹툰   \n",
       "\n",
       "  dtl_category_nm prchs_tm_clsf_nm    mno_cd  cust_payment_amt  \\\n",
       "0             로맨스          00 ~ 01  US001201              3240   \n",
       "1              무협          00 ~ 01  US001201               810   \n",
       "2             판타지          00 ~ 01  US001201               810   \n",
       "3             로맨스          00 ~ 01  US001202              3150   \n",
       "4              순정          00 ~ 01  US001202               180   \n",
       "\n",
       "   sett_target_cpn_amt  pay_mtd_cnt  \n",
       "0                  360            3  \n",
       "1                   90            2  \n",
       "2                   90            2  \n",
       "3                    0            1  \n",
       "4                   20            2  "
      ]
     },
     "execution_count": 7,
     "metadata": {},
     "output_type": "execute_result"
    }
   ],
   "source": [
    "data.head()"
   ]
  },
  {
   "cell_type": "code",
   "execution_count": null,
   "metadata": {},
   "outputs": [],
   "source": []
  },
  {
   "cell_type": "markdown",
   "metadata": {},
   "source": [
    "## 날짜 변수 형식 변환 및 추가"
   ]
  },
  {
   "cell_type": "code",
   "execution_count": 8,
   "metadata": {},
   "outputs": [
    {
     "data": {
      "text/plain": [
       "prchs_id               object\n",
       "prod_id                object\n",
       "partition_dt            int64\n",
       "insd_usermbr_no        object\n",
       "prod_amt                int64\n",
       "sex_clsf_cd            object\n",
       "age_cd                 object\n",
       "category_nm            object\n",
       "dtl_category_nm        object\n",
       "prchs_tm_clsf_nm       object\n",
       "mno_cd                 object\n",
       "cust_payment_amt        int64\n",
       "sett_target_cpn_amt     int64\n",
       "pay_mtd_cnt             int64\n",
       "dtype: object"
      ]
     },
     "execution_count": 8,
     "metadata": {},
     "output_type": "execute_result"
    }
   ],
   "source": [
    "data.dtypes"
   ]
  },
  {
   "cell_type": "markdown",
   "metadata": {},
   "source": [
    "data['partition_dt']이 datatime 형식으로 되어있지 않으므로, 바꾸어준다. \n",
    "<br/>\n",
    "또 EDA를 위하여 몇 가지 날짜 변수를 추가한다. > 우선 월과 요일"
   ]
  },
  {
   "cell_type": "code",
   "execution_count": 9,
   "metadata": {},
   "outputs": [],
   "source": [
    "import datetime\n",
    "data['partition_dt'] = pd.to_datetime(data['partition_dt'], format='%Y%m%d')"
   ]
  },
  {
   "cell_type": "code",
   "execution_count": 10,
   "metadata": {},
   "outputs": [],
   "source": [
    "# data['month'] = data['partition_dt'].dt.month\n",
    "# data['weekday'] = data['partition_dt'].dt.weekday"
   ]
  },
  {
   "cell_type": "markdown",
   "metadata": {},
   "source": [
    "# 데이터 둘러보기 "
   ]
  },
  {
   "cell_type": "code",
   "execution_count": null,
   "metadata": {},
   "outputs": [],
   "source": [
    "display(data['category_nm'].unique(),data['category_nm'].value_counts())"
   ]
  },
  {
   "cell_type": "code",
   "execution_count": null,
   "metadata": {},
   "outputs": [],
   "source": [
    "data['dtl_category_nm'].unique()"
   ]
  },
  {
   "cell_type": "code",
   "execution_count": null,
   "metadata": {},
   "outputs": [],
   "source": [
    "data['dtl_category_nm'].value_counts()"
   ]
  },
  {
   "cell_type": "code",
   "execution_count": null,
   "metadata": {},
   "outputs": [],
   "source": []
  },
  {
   "cell_type": "markdown",
   "metadata": {},
   "source": [
    "## Small set test for 공휴일\n",
    "\n",
    "smaller example"
   ]
  },
  {
   "cell_type": "code",
   "execution_count": 11,
   "metadata": {},
   "outputs": [],
   "source": [
    "temp11 = [\"2020-03-01\", \"2020-04-15\", \"2020-04-30\", \"2020-05-05\", \"2020-06-06\"]"
   ]
  },
  {
   "cell_type": "code",
   "execution_count": 12,
   "metadata": {},
   "outputs": [],
   "source": [
    "data11 = [[\"a\", \"2020-03-14\"], [\"b\",\"2020-03-18\"], [\"c\", \"2020-06-06\"], ['d', '2020-04-30']]\n",
    "df = pd.DataFrame(data11, columns = ['name', 'datee'])\n",
    "df[\"holiday\"] = \"\""
   ]
  },
  {
   "cell_type": "code",
   "execution_count": 13,
   "metadata": {},
   "outputs": [],
   "source": [
    "# for i in range(4):\n",
    "#     if df['datee'][i] in temp11:\n",
    "#         df[\"holiday\"][i] = True\n",
    "#     else:\n",
    "#         df[\"holiday\"][i] = False"
   ]
  },
  {
   "cell_type": "code",
   "execution_count": 14,
   "metadata": {},
   "outputs": [],
   "source": [
    "df['holiday'] = df.apply(lambda x : 1 if x['datee'] in temp11 else 0, axis = 1)"
   ]
  },
  {
   "cell_type": "code",
   "execution_count": 15,
   "metadata": {},
   "outputs": [
    {
     "data": {
      "text/html": [
       "<div>\n",
       "<style scoped>\n",
       "    .dataframe tbody tr th:only-of-type {\n",
       "        vertical-align: middle;\n",
       "    }\n",
       "\n",
       "    .dataframe tbody tr th {\n",
       "        vertical-align: top;\n",
       "    }\n",
       "\n",
       "    .dataframe thead th {\n",
       "        text-align: right;\n",
       "    }\n",
       "</style>\n",
       "<table border=\"1\" class=\"dataframe\">\n",
       "  <thead>\n",
       "    <tr style=\"text-align: right;\">\n",
       "      <th></th>\n",
       "      <th>name</th>\n",
       "      <th>datee</th>\n",
       "      <th>holiday</th>\n",
       "    </tr>\n",
       "  </thead>\n",
       "  <tbody>\n",
       "    <tr>\n",
       "      <th>0</th>\n",
       "      <td>a</td>\n",
       "      <td>2020-03-14</td>\n",
       "      <td>0</td>\n",
       "    </tr>\n",
       "    <tr>\n",
       "      <th>1</th>\n",
       "      <td>b</td>\n",
       "      <td>2020-03-18</td>\n",
       "      <td>0</td>\n",
       "    </tr>\n",
       "    <tr>\n",
       "      <th>2</th>\n",
       "      <td>c</td>\n",
       "      <td>2020-06-06</td>\n",
       "      <td>1</td>\n",
       "    </tr>\n",
       "    <tr>\n",
       "      <th>3</th>\n",
       "      <td>d</td>\n",
       "      <td>2020-04-30</td>\n",
       "      <td>1</td>\n",
       "    </tr>\n",
       "  </tbody>\n",
       "</table>\n",
       "</div>"
      ],
      "text/plain": [
       "  name       datee  holiday\n",
       "0    a  2020-03-14        0\n",
       "1    b  2020-03-18        0\n",
       "2    c  2020-06-06        1\n",
       "3    d  2020-04-30        1"
      ]
     },
     "execution_count": 15,
     "metadata": {},
     "output_type": "execute_result"
    }
   ],
   "source": [
    "df"
   ]
  },
  {
   "cell_type": "code",
   "execution_count": 16,
   "metadata": {},
   "outputs": [],
   "source": [
    "# data['holiday'] = np.where(data['holiday'] in temp, 1, 0)\n",
    "# 왜 안되는걸까"
   ]
  },
  {
   "cell_type": "markdown",
   "metadata": {},
   "source": [
    "## 공휴일 feature 추가\n",
    "\n",
    "현재 데이터에는 공휴일 구매 데이터가 없는 것 같으므로(?) 위 코드로 확인"
   ]
  },
  {
   "cell_type": "code",
   "execution_count": 17,
   "metadata": {},
   "outputs": [],
   "source": [
    "data[\"holiday\"] = \"\""
   ]
  },
  {
   "cell_type": "code",
   "execution_count": 18,
   "metadata": {
    "scrolled": true
   },
   "outputs": [
    {
     "ename": "MemoryError",
     "evalue": "Unable to allocate 261. MiB for an array with shape (34246920,) and data type int64",
     "output_type": "error",
     "traceback": [
      "\u001b[1;31m---------------------------------------------------------------------------\u001b[0m",
      "\u001b[1;31mMemoryError\u001b[0m                               Traceback (most recent call last)",
      "\u001b[1;32m<ipython-input-18-4b7f531c5c73>\u001b[0m in \u001b[0;36m<module>\u001b[1;34m\u001b[0m\n\u001b[1;32m----> 1\u001b[1;33m \u001b[0mdata\u001b[0m\u001b[1;33m[\u001b[0m\u001b[1;34m'holiday'\u001b[0m\u001b[1;33m]\u001b[0m \u001b[1;33m=\u001b[0m \u001b[0mdata\u001b[0m\u001b[1;33m.\u001b[0m\u001b[0mapply\u001b[0m\u001b[1;33m(\u001b[0m\u001b[1;32mlambda\u001b[0m \u001b[0mx\u001b[0m\u001b[1;33m:\u001b[0m \u001b[1;36m1\u001b[0m \u001b[1;32mif\u001b[0m \u001b[0mx\u001b[0m\u001b[1;33m[\u001b[0m\u001b[1;34m'partition_dt'\u001b[0m\u001b[1;33m]\u001b[0m \u001b[1;32min\u001b[0m \u001b[0mtemp\u001b[0m \u001b[1;32melse\u001b[0m \u001b[1;36m0\u001b[0m\u001b[1;33m,\u001b[0m \u001b[0maxis\u001b[0m \u001b[1;33m=\u001b[0m \u001b[1;36m1\u001b[0m\u001b[1;33m)\u001b[0m\u001b[1;33m\u001b[0m\u001b[1;33m\u001b[0m\u001b[0m\n\u001b[0m",
      "\u001b[1;32mC:\\ProgramData\\Anaconda3\\lib\\site-packages\\pandas\\core\\frame.py\u001b[0m in \u001b[0;36mapply\u001b[1;34m(self, func, axis, raw, result_type, args, **kwds)\u001b[0m\n\u001b[0;32m   6876\u001b[0m             \u001b[0mkwds\u001b[0m\u001b[1;33m=\u001b[0m\u001b[0mkwds\u001b[0m\u001b[1;33m,\u001b[0m\u001b[1;33m\u001b[0m\u001b[1;33m\u001b[0m\u001b[0m\n\u001b[0;32m   6877\u001b[0m         )\n\u001b[1;32m-> 6878\u001b[1;33m         \u001b[1;32mreturn\u001b[0m \u001b[0mop\u001b[0m\u001b[1;33m.\u001b[0m\u001b[0mget_result\u001b[0m\u001b[1;33m(\u001b[0m\u001b[1;33m)\u001b[0m\u001b[1;33m\u001b[0m\u001b[1;33m\u001b[0m\u001b[0m\n\u001b[0m\u001b[0;32m   6879\u001b[0m \u001b[1;33m\u001b[0m\u001b[0m\n\u001b[0;32m   6880\u001b[0m     \u001b[1;32mdef\u001b[0m \u001b[0mapplymap\u001b[0m\u001b[1;33m(\u001b[0m\u001b[0mself\u001b[0m\u001b[1;33m,\u001b[0m \u001b[0mfunc\u001b[0m\u001b[1;33m)\u001b[0m \u001b[1;33m->\u001b[0m \u001b[1;34m\"DataFrame\"\u001b[0m\u001b[1;33m:\u001b[0m\u001b[1;33m\u001b[0m\u001b[1;33m\u001b[0m\u001b[0m\n",
      "\u001b[1;32mC:\\ProgramData\\Anaconda3\\lib\\site-packages\\pandas\\core\\apply.py\u001b[0m in \u001b[0;36mget_result\u001b[1;34m(self)\u001b[0m\n\u001b[0;32m    184\u001b[0m             \u001b[1;32mreturn\u001b[0m \u001b[0mself\u001b[0m\u001b[1;33m.\u001b[0m\u001b[0mapply_raw\u001b[0m\u001b[1;33m(\u001b[0m\u001b[1;33m)\u001b[0m\u001b[1;33m\u001b[0m\u001b[1;33m\u001b[0m\u001b[0m\n\u001b[0;32m    185\u001b[0m \u001b[1;33m\u001b[0m\u001b[0m\n\u001b[1;32m--> 186\u001b[1;33m         \u001b[1;32mreturn\u001b[0m \u001b[0mself\u001b[0m\u001b[1;33m.\u001b[0m\u001b[0mapply_standard\u001b[0m\u001b[1;33m(\u001b[0m\u001b[1;33m)\u001b[0m\u001b[1;33m\u001b[0m\u001b[1;33m\u001b[0m\u001b[0m\n\u001b[0m\u001b[0;32m    187\u001b[0m \u001b[1;33m\u001b[0m\u001b[0m\n\u001b[0;32m    188\u001b[0m     \u001b[1;32mdef\u001b[0m \u001b[0mapply_empty_result\u001b[0m\u001b[1;33m(\u001b[0m\u001b[0mself\u001b[0m\u001b[1;33m)\u001b[0m\u001b[1;33m:\u001b[0m\u001b[1;33m\u001b[0m\u001b[1;33m\u001b[0m\u001b[0m\n",
      "\u001b[1;32mC:\\ProgramData\\Anaconda3\\lib\\site-packages\\pandas\\core\\apply.py\u001b[0m in \u001b[0;36mapply_standard\u001b[1;34m(self)\u001b[0m\n\u001b[0;32m    282\u001b[0m         ):\n\u001b[0;32m    283\u001b[0m \u001b[1;33m\u001b[0m\u001b[0m\n\u001b[1;32m--> 284\u001b[1;33m             \u001b[0mvalues\u001b[0m \u001b[1;33m=\u001b[0m \u001b[0mself\u001b[0m\u001b[1;33m.\u001b[0m\u001b[0mvalues\u001b[0m\u001b[1;33m\u001b[0m\u001b[1;33m\u001b[0m\u001b[0m\n\u001b[0m\u001b[0;32m    285\u001b[0m             \u001b[0mindex\u001b[0m \u001b[1;33m=\u001b[0m \u001b[0mself\u001b[0m\u001b[1;33m.\u001b[0m\u001b[0mobj\u001b[0m\u001b[1;33m.\u001b[0m\u001b[0m_get_axis\u001b[0m\u001b[1;33m(\u001b[0m\u001b[0mself\u001b[0m\u001b[1;33m.\u001b[0m\u001b[0maxis\u001b[0m\u001b[1;33m)\u001b[0m\u001b[1;33m\u001b[0m\u001b[1;33m\u001b[0m\u001b[0m\n\u001b[0;32m    286\u001b[0m             \u001b[0mlabels\u001b[0m \u001b[1;33m=\u001b[0m \u001b[0mself\u001b[0m\u001b[1;33m.\u001b[0m\u001b[0magg_axis\u001b[0m\u001b[1;33m\u001b[0m\u001b[1;33m\u001b[0m\u001b[0m\n",
      "\u001b[1;32mpandas\\_libs\\properties.pyx\u001b[0m in \u001b[0;36mpandas._libs.properties.CachedProperty.__get__\u001b[1;34m()\u001b[0m\n",
      "\u001b[1;32mC:\\ProgramData\\Anaconda3\\lib\\site-packages\\pandas\\core\\apply.py\u001b[0m in \u001b[0;36mvalues\u001b[1;34m(self)\u001b[0m\n\u001b[0;32m    132\u001b[0m     \u001b[1;33m@\u001b[0m\u001b[0mcache_readonly\u001b[0m\u001b[1;33m\u001b[0m\u001b[1;33m\u001b[0m\u001b[0m\n\u001b[0;32m    133\u001b[0m     \u001b[1;32mdef\u001b[0m \u001b[0mvalues\u001b[0m\u001b[1;33m(\u001b[0m\u001b[0mself\u001b[0m\u001b[1;33m)\u001b[0m\u001b[1;33m:\u001b[0m\u001b[1;33m\u001b[0m\u001b[1;33m\u001b[0m\u001b[0m\n\u001b[1;32m--> 134\u001b[1;33m         \u001b[1;32mreturn\u001b[0m \u001b[0mself\u001b[0m\u001b[1;33m.\u001b[0m\u001b[0mobj\u001b[0m\u001b[1;33m.\u001b[0m\u001b[0mvalues\u001b[0m\u001b[1;33m\u001b[0m\u001b[1;33m\u001b[0m\u001b[0m\n\u001b[0m\u001b[0;32m    135\u001b[0m \u001b[1;33m\u001b[0m\u001b[0m\n\u001b[0;32m    136\u001b[0m     \u001b[1;33m@\u001b[0m\u001b[0mcache_readonly\u001b[0m\u001b[1;33m\u001b[0m\u001b[1;33m\u001b[0m\u001b[0m\n",
      "\u001b[1;32mC:\\ProgramData\\Anaconda3\\lib\\site-packages\\pandas\\core\\generic.py\u001b[0m in \u001b[0;36mvalues\u001b[1;34m(self)\u001b[0m\n\u001b[0;32m   5485\u001b[0m         \"\"\"\n\u001b[0;32m   5486\u001b[0m         \u001b[0mself\u001b[0m\u001b[1;33m.\u001b[0m\u001b[0m_consolidate_inplace\u001b[0m\u001b[1;33m(\u001b[0m\u001b[1;33m)\u001b[0m\u001b[1;33m\u001b[0m\u001b[1;33m\u001b[0m\u001b[0m\n\u001b[1;32m-> 5487\u001b[1;33m         \u001b[1;32mreturn\u001b[0m \u001b[0mself\u001b[0m\u001b[1;33m.\u001b[0m\u001b[0m_data\u001b[0m\u001b[1;33m.\u001b[0m\u001b[0mas_array\u001b[0m\u001b[1;33m(\u001b[0m\u001b[0mtranspose\u001b[0m\u001b[1;33m=\u001b[0m\u001b[0mself\u001b[0m\u001b[1;33m.\u001b[0m\u001b[0m_AXIS_REVERSED\u001b[0m\u001b[1;33m)\u001b[0m\u001b[1;33m\u001b[0m\u001b[1;33m\u001b[0m\u001b[0m\n\u001b[0m\u001b[0;32m   5488\u001b[0m \u001b[1;33m\u001b[0m\u001b[0m\n\u001b[0;32m   5489\u001b[0m     \u001b[1;33m@\u001b[0m\u001b[0mproperty\u001b[0m\u001b[1;33m\u001b[0m\u001b[1;33m\u001b[0m\u001b[0m\n",
      "\u001b[1;32mC:\\ProgramData\\Anaconda3\\lib\\site-packages\\pandas\\core\\internals\\managers.py\u001b[0m in \u001b[0;36mas_array\u001b[1;34m(self, transpose, items)\u001b[0m\n\u001b[0;32m    828\u001b[0m             \u001b[0marr\u001b[0m \u001b[1;33m=\u001b[0m \u001b[0mnp\u001b[0m\u001b[1;33m.\u001b[0m\u001b[0masarray\u001b[0m\u001b[1;33m(\u001b[0m\u001b[0mmgr\u001b[0m\u001b[1;33m.\u001b[0m\u001b[0mblocks\u001b[0m\u001b[1;33m[\u001b[0m\u001b[1;36m0\u001b[0m\u001b[1;33m]\u001b[0m\u001b[1;33m.\u001b[0m\u001b[0mget_values\u001b[0m\u001b[1;33m(\u001b[0m\u001b[1;33m)\u001b[0m\u001b[1;33m)\u001b[0m\u001b[1;33m\u001b[0m\u001b[1;33m\u001b[0m\u001b[0m\n\u001b[0;32m    829\u001b[0m         \u001b[1;32melse\u001b[0m\u001b[1;33m:\u001b[0m\u001b[1;33m\u001b[0m\u001b[1;33m\u001b[0m\u001b[0m\n\u001b[1;32m--> 830\u001b[1;33m             \u001b[0marr\u001b[0m \u001b[1;33m=\u001b[0m \u001b[0mmgr\u001b[0m\u001b[1;33m.\u001b[0m\u001b[0m_interleave\u001b[0m\u001b[1;33m(\u001b[0m\u001b[1;33m)\u001b[0m\u001b[1;33m\u001b[0m\u001b[1;33m\u001b[0m\u001b[0m\n\u001b[0m\u001b[0;32m    831\u001b[0m \u001b[1;33m\u001b[0m\u001b[0m\n\u001b[0;32m    832\u001b[0m         \u001b[1;32mreturn\u001b[0m \u001b[0marr\u001b[0m\u001b[1;33m.\u001b[0m\u001b[0mtranspose\u001b[0m\u001b[1;33m(\u001b[0m\u001b[1;33m)\u001b[0m \u001b[1;32mif\u001b[0m \u001b[0mtranspose\u001b[0m \u001b[1;32melse\u001b[0m \u001b[0marr\u001b[0m\u001b[1;33m\u001b[0m\u001b[1;33m\u001b[0m\u001b[0m\n",
      "\u001b[1;32mC:\\ProgramData\\Anaconda3\\lib\\site-packages\\pandas\\core\\internals\\managers.py\u001b[0m in \u001b[0;36m_interleave\u001b[1;34m(self)\u001b[0m\n\u001b[0;32m    852\u001b[0m         \u001b[1;32mfor\u001b[0m \u001b[0mblk\u001b[0m \u001b[1;32min\u001b[0m \u001b[0mself\u001b[0m\u001b[1;33m.\u001b[0m\u001b[0mblocks\u001b[0m\u001b[1;33m:\u001b[0m\u001b[1;33m\u001b[0m\u001b[1;33m\u001b[0m\u001b[0m\n\u001b[0;32m    853\u001b[0m             \u001b[0mrl\u001b[0m \u001b[1;33m=\u001b[0m \u001b[0mblk\u001b[0m\u001b[1;33m.\u001b[0m\u001b[0mmgr_locs\u001b[0m\u001b[1;33m\u001b[0m\u001b[1;33m\u001b[0m\u001b[0m\n\u001b[1;32m--> 854\u001b[1;33m             \u001b[0mresult\u001b[0m\u001b[1;33m[\u001b[0m\u001b[0mrl\u001b[0m\u001b[1;33m.\u001b[0m\u001b[0mindexer\u001b[0m\u001b[1;33m]\u001b[0m \u001b[1;33m=\u001b[0m \u001b[0mblk\u001b[0m\u001b[1;33m.\u001b[0m\u001b[0mget_values\u001b[0m\u001b[1;33m(\u001b[0m\u001b[0mdtype\u001b[0m\u001b[1;33m)\u001b[0m\u001b[1;33m\u001b[0m\u001b[1;33m\u001b[0m\u001b[0m\n\u001b[0m\u001b[0;32m    855\u001b[0m             \u001b[0mitemmask\u001b[0m\u001b[1;33m[\u001b[0m\u001b[0mrl\u001b[0m\u001b[1;33m.\u001b[0m\u001b[0mindexer\u001b[0m\u001b[1;33m]\u001b[0m \u001b[1;33m=\u001b[0m \u001b[1;36m1\u001b[0m\u001b[1;33m\u001b[0m\u001b[1;33m\u001b[0m\u001b[0m\n\u001b[0;32m    856\u001b[0m \u001b[1;33m\u001b[0m\u001b[0m\n",
      "\u001b[1;32mC:\\ProgramData\\Anaconda3\\lib\\site-packages\\pandas\\core\\internals\\blocks.py\u001b[0m in \u001b[0;36mget_values\u001b[1;34m(self, dtype)\u001b[0m\n\u001b[0;32m   2148\u001b[0m         \u001b[1;32mif\u001b[0m \u001b[0mis_object_dtype\u001b[0m\u001b[1;33m(\u001b[0m\u001b[0mdtype\u001b[0m\u001b[1;33m)\u001b[0m\u001b[1;33m:\u001b[0m\u001b[1;33m\u001b[0m\u001b[1;33m\u001b[0m\u001b[0m\n\u001b[0;32m   2149\u001b[0m             \u001b[0mvalues\u001b[0m \u001b[1;33m=\u001b[0m \u001b[0mself\u001b[0m\u001b[1;33m.\u001b[0m\u001b[0mvalues\u001b[0m\u001b[1;33m.\u001b[0m\u001b[0mravel\u001b[0m\u001b[1;33m(\u001b[0m\u001b[1;33m)\u001b[0m\u001b[1;33m\u001b[0m\u001b[1;33m\u001b[0m\u001b[0m\n\u001b[1;32m-> 2150\u001b[1;33m             \u001b[0mresult\u001b[0m \u001b[1;33m=\u001b[0m \u001b[0mself\u001b[0m\u001b[1;33m.\u001b[0m\u001b[0m_holder\u001b[0m\u001b[1;33m(\u001b[0m\u001b[0mvalues\u001b[0m\u001b[1;33m)\u001b[0m\u001b[1;33m.\u001b[0m\u001b[0mastype\u001b[0m\u001b[1;33m(\u001b[0m\u001b[0mobject\u001b[0m\u001b[1;33m)\u001b[0m\u001b[1;33m\u001b[0m\u001b[1;33m\u001b[0m\u001b[0m\n\u001b[0m\u001b[0;32m   2151\u001b[0m             \u001b[1;32mreturn\u001b[0m \u001b[0mresult\u001b[0m\u001b[1;33m.\u001b[0m\u001b[0mreshape\u001b[0m\u001b[1;33m(\u001b[0m\u001b[0mself\u001b[0m\u001b[1;33m.\u001b[0m\u001b[0mvalues\u001b[0m\u001b[1;33m.\u001b[0m\u001b[0mshape\u001b[0m\u001b[1;33m)\u001b[0m\u001b[1;33m\u001b[0m\u001b[1;33m\u001b[0m\u001b[0m\n\u001b[0;32m   2152\u001b[0m         \u001b[1;32mreturn\u001b[0m \u001b[0mself\u001b[0m\u001b[1;33m.\u001b[0m\u001b[0mvalues\u001b[0m\u001b[1;33m\u001b[0m\u001b[1;33m\u001b[0m\u001b[0m\n",
      "\u001b[1;32mC:\\ProgramData\\Anaconda3\\lib\\site-packages\\pandas\\core\\arrays\\datetimes.py\u001b[0m in \u001b[0;36mastype\u001b[1;34m(self, dtype, copy)\u001b[0m\n\u001b[0;32m    604\u001b[0m         \u001b[1;32melif\u001b[0m \u001b[0mis_period_dtype\u001b[0m\u001b[1;33m(\u001b[0m\u001b[0mdtype\u001b[0m\u001b[1;33m)\u001b[0m\u001b[1;33m:\u001b[0m\u001b[1;33m\u001b[0m\u001b[1;33m\u001b[0m\u001b[0m\n\u001b[0;32m    605\u001b[0m             \u001b[1;32mreturn\u001b[0m \u001b[0mself\u001b[0m\u001b[1;33m.\u001b[0m\u001b[0mto_period\u001b[0m\u001b[1;33m(\u001b[0m\u001b[0mfreq\u001b[0m\u001b[1;33m=\u001b[0m\u001b[0mdtype\u001b[0m\u001b[1;33m.\u001b[0m\u001b[0mfreq\u001b[0m\u001b[1;33m)\u001b[0m\u001b[1;33m\u001b[0m\u001b[1;33m\u001b[0m\u001b[0m\n\u001b[1;32m--> 606\u001b[1;33m         \u001b[1;32mreturn\u001b[0m \u001b[0mdtl\u001b[0m\u001b[1;33m.\u001b[0m\u001b[0mDatetimeLikeArrayMixin\u001b[0m\u001b[1;33m.\u001b[0m\u001b[0mastype\u001b[0m\u001b[1;33m(\u001b[0m\u001b[0mself\u001b[0m\u001b[1;33m,\u001b[0m \u001b[0mdtype\u001b[0m\u001b[1;33m,\u001b[0m \u001b[0mcopy\u001b[0m\u001b[1;33m)\u001b[0m\u001b[1;33m\u001b[0m\u001b[1;33m\u001b[0m\u001b[0m\n\u001b[0m\u001b[0;32m    607\u001b[0m \u001b[1;33m\u001b[0m\u001b[0m\n\u001b[0;32m    608\u001b[0m     \u001b[1;31m# -----------------------------------------------------------------\u001b[0m\u001b[1;33m\u001b[0m\u001b[1;33m\u001b[0m\u001b[1;33m\u001b[0m\u001b[0m\n",
      "\u001b[1;32mC:\\ProgramData\\Anaconda3\\lib\\site-packages\\pandas\\core\\arrays\\datetimelike.py\u001b[0m in \u001b[0;36mastype\u001b[1;34m(self, dtype, copy)\u001b[0m\n\u001b[0;32m    624\u001b[0m \u001b[1;33m\u001b[0m\u001b[0m\n\u001b[0;32m    625\u001b[0m         \u001b[1;32mif\u001b[0m \u001b[0mis_object_dtype\u001b[0m\u001b[1;33m(\u001b[0m\u001b[0mdtype\u001b[0m\u001b[1;33m)\u001b[0m\u001b[1;33m:\u001b[0m\u001b[1;33m\u001b[0m\u001b[1;33m\u001b[0m\u001b[0m\n\u001b[1;32m--> 626\u001b[1;33m             \u001b[1;32mreturn\u001b[0m \u001b[0mself\u001b[0m\u001b[1;33m.\u001b[0m\u001b[0m_box_values\u001b[0m\u001b[1;33m(\u001b[0m\u001b[0mself\u001b[0m\u001b[1;33m.\u001b[0m\u001b[0masi8\u001b[0m\u001b[1;33m)\u001b[0m\u001b[1;33m\u001b[0m\u001b[1;33m\u001b[0m\u001b[0m\n\u001b[0m\u001b[0;32m    627\u001b[0m         \u001b[1;32melif\u001b[0m \u001b[0mis_string_dtype\u001b[0m\u001b[1;33m(\u001b[0m\u001b[0mdtype\u001b[0m\u001b[1;33m)\u001b[0m \u001b[1;32mand\u001b[0m \u001b[1;32mnot\u001b[0m \u001b[0mis_categorical_dtype\u001b[0m\u001b[1;33m(\u001b[0m\u001b[0mdtype\u001b[0m\u001b[1;33m)\u001b[0m\u001b[1;33m:\u001b[0m\u001b[1;33m\u001b[0m\u001b[1;33m\u001b[0m\u001b[0m\n\u001b[0;32m    628\u001b[0m             \u001b[1;32mreturn\u001b[0m \u001b[0mself\u001b[0m\u001b[1;33m.\u001b[0m\u001b[0m_format_native_types\u001b[0m\u001b[1;33m(\u001b[0m\u001b[1;33m)\u001b[0m\u001b[1;33m\u001b[0m\u001b[1;33m\u001b[0m\u001b[0m\n",
      "\u001b[1;32mC:\\ProgramData\\Anaconda3\\lib\\site-packages\\pandas\\core\\arrays\\datetimelike.py\u001b[0m in \u001b[0;36m_box_values\u001b[1;34m(self, values)\u001b[0m\n\u001b[0;32m    436\u001b[0m         \u001b[0mapply\u001b[0m \u001b[0mbox\u001b[0m \u001b[0mfunc\u001b[0m \u001b[0mto\u001b[0m \u001b[0mpassed\u001b[0m \u001b[0mvalues\u001b[0m\u001b[1;33m\u001b[0m\u001b[1;33m\u001b[0m\u001b[0m\n\u001b[0;32m    437\u001b[0m         \"\"\"\n\u001b[1;32m--> 438\u001b[1;33m         \u001b[1;32mreturn\u001b[0m \u001b[0mlib\u001b[0m\u001b[1;33m.\u001b[0m\u001b[0mmap_infer\u001b[0m\u001b[1;33m(\u001b[0m\u001b[0mvalues\u001b[0m\u001b[1;33m,\u001b[0m \u001b[0mself\u001b[0m\u001b[1;33m.\u001b[0m\u001b[0m_box_func\u001b[0m\u001b[1;33m)\u001b[0m\u001b[1;33m\u001b[0m\u001b[1;33m\u001b[0m\u001b[0m\n\u001b[0m\u001b[0;32m    439\u001b[0m \u001b[1;33m\u001b[0m\u001b[0m\n\u001b[0;32m    440\u001b[0m     \u001b[1;32mdef\u001b[0m \u001b[0m__iter__\u001b[0m\u001b[1;33m(\u001b[0m\u001b[0mself\u001b[0m\u001b[1;33m)\u001b[0m\u001b[1;33m:\u001b[0m\u001b[1;33m\u001b[0m\u001b[1;33m\u001b[0m\u001b[0m\n",
      "\u001b[1;32mpandas\\_libs\\lib.pyx\u001b[0m in \u001b[0;36mpandas._libs.lib.map_infer\u001b[1;34m()\u001b[0m\n",
      "\u001b[1;32mpandas\\_libs\\lib.pyx\u001b[0m in \u001b[0;36mpandas._libs.lib.maybe_convert_objects\u001b[1;34m()\u001b[0m\n",
      "\u001b[1;31mMemoryError\u001b[0m: Unable to allocate 261. MiB for an array with shape (34246920,) and data type int64"
     ]
    }
   ],
   "source": [
    "data['holiday'] = data.apply(lambda x: 1 if x['partition_dt'] in temp else 0, axis = 1)"
   ]
  },
  {
   "cell_type": "code",
   "execution_count": null,
   "metadata": {},
   "outputs": [],
   "source": [
    "for i in range(416665):\n",
    "    if data['partition_dt'][i] in temp11:\n",
    "        data['holiday'][i] = True\n",
    "    else:\n",
    "        data['holiday'][i] = False"
   ]
  },
  {
   "cell_type": "code",
   "execution_count": null,
   "metadata": {},
   "outputs": [],
   "source": [
    "pd.DataFrame(data['holiday'])"
   ]
  },
  {
   "cell_type": "code",
   "execution_count": null,
   "metadata": {},
   "outputs": [],
   "source": [
    "pd.DataFrame(data.groupby('prchs_id')['holiday'].sum())"
   ]
  },
  {
   "cell_type": "markdown",
   "metadata": {},
   "source": [
    "주어진 2020년 데이터에 공휴일이 없으므로, 추가가 무의미하다."
   ]
  },
  {
   "cell_type": "code",
   "execution_count": null,
   "metadata": {},
   "outputs": [],
   "source": []
  },
  {
   "cell_type": "code",
   "execution_count": null,
   "metadata": {},
   "outputs": [],
   "source": []
  }
 ],
 "metadata": {
  "kernelspec": {
   "display_name": "Python 3",
   "language": "python",
   "name": "python3"
  },
  "language_info": {
   "codemirror_mode": {
    "name": "ipython",
    "version": 3
   },
   "file_extension": ".py",
   "mimetype": "text/x-python",
   "name": "python",
   "nbconvert_exporter": "python",
   "pygments_lexer": "ipython3",
   "version": "3.8.3"
  }
 },
 "nbformat": 4,
 "nbformat_minor": 4
}
