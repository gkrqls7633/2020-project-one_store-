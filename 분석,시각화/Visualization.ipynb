{
 "cells": [
  {
   "cell_type": "code",
   "execution_count": 11,
   "metadata": {},
   "outputs": [],
   "source": [
    "import pycaret\n",
    "from pycaret.classification import *\n",
    "\n",
    "import pandas as pd\n",
    "import lightgbm as lgbm\n",
    "import catboost as cb\n",
    "import numpy as np\n",
    "from datetime import date\n",
    "\n",
    "import pandas_profiling as pp\n",
    "\n",
    "import lifetimes\n",
    "\n",
    "import numpy as np\n",
    "import sklearn\n",
    "\n",
    "from sklearn.model_selection import train_test_split\n",
    "\n",
    "\n",
    "pd.options.mode.chained_assignment = None\n",
    "import math"
   ]
  },
  {
   "cell_type": "markdown",
   "metadata": {},
   "source": [
    "## 고객테이블 Visualization"
   ]
  },
  {
   "cell_type": "code",
   "execution_count": null,
   "metadata": {},
   "outputs": [],
   "source": [
    "cust = pd.read_csv('P:/final_all_customer_table.csv')"
   ]
  },
  {
   "cell_type": "code",
   "execution_count": 13,
   "metadata": {},
   "outputs": [],
   "source": [
    "cust['bin_count'] = cust['total_buys'].apply(lambda x: 0 if x<1 else 1)"
   ]
  },
  {
   "cell_type": "code",
   "execution_count": 14,
   "metadata": {},
   "outputs": [
    {
     "data": {
      "text/html": [
       "<div>\n",
       "<style scoped>\n",
       "    .dataframe tbody tr th:only-of-type {\n",
       "        vertical-align: middle;\n",
       "    }\n",
       "\n",
       "    .dataframe tbody tr th {\n",
       "        vertical-align: top;\n",
       "    }\n",
       "\n",
       "    .dataframe thead th {\n",
       "        text-align: right;\n",
       "    }\n",
       "</style>\n",
       "<table border=\"1\" class=\"dataframe\">\n",
       "  <thead>\n",
       "    <tr style=\"text-align: right;\">\n",
       "      <th></th>\n",
       "      <th>insd_usermbr_no</th>\n",
       "      <th>mno_cd</th>\n",
       "      <th>first_prchs_dt</th>\n",
       "      <th>last_prchs_dt</th>\n",
       "      <th>sex_clsf_cd</th>\n",
       "      <th>age_cd</th>\n",
       "      <th>total_prchs_cnt</th>\n",
       "      <th>weekend_prchs_cnt</th>\n",
       "      <th>total_payment_amt</th>\n",
       "      <th>total_cpt_amt</th>\n",
       "      <th>...</th>\n",
       "      <th>wly_prchs_amt_min</th>\n",
       "      <th>wly_prchs_amt_mean</th>\n",
       "      <th>frequency</th>\n",
       "      <th>recency</th>\n",
       "      <th>T</th>\n",
       "      <th>total_buys</th>\n",
       "      <th>dt_step_min</th>\n",
       "      <th>dt_step_max</th>\n",
       "      <th>dt_step_mean</th>\n",
       "      <th>bin_count</th>\n",
       "    </tr>\n",
       "  </thead>\n",
       "  <tbody>\n",
       "    <tr>\n",
       "      <th>0</th>\n",
       "      <td>IF14210296502009062300092258</td>\n",
       "      <td>US001201</td>\n",
       "      <td>2020-03-29</td>\n",
       "      <td>2020-06-29</td>\n",
       "      <td>M</td>\n",
       "      <td>042</td>\n",
       "      <td>12</td>\n",
       "      <td>3</td>\n",
       "      <td>93630</td>\n",
       "      <td>5670</td>\n",
       "      <td>...</td>\n",
       "      <td>10100</td>\n",
       "      <td>23407.500000</td>\n",
       "      <td>3.0</td>\n",
       "      <td>92.0</td>\n",
       "      <td>124.0</td>\n",
       "      <td>0.0</td>\n",
       "      <td>15.0</td>\n",
       "      <td>45.0</td>\n",
       "      <td>23.0</td>\n",
       "      <td>0</td>\n",
       "    </tr>\n",
       "    <tr>\n",
       "      <th>1</th>\n",
       "      <td>IF142158893220090701150416</td>\n",
       "      <td>US001201</td>\n",
       "      <td>2020-04-11</td>\n",
       "      <td>2020-06-24</td>\n",
       "      <td>F</td>\n",
       "      <td>040</td>\n",
       "      <td>285</td>\n",
       "      <td>127</td>\n",
       "      <td>502</td>\n",
       "      <td>10968</td>\n",
       "      <td>...</td>\n",
       "      <td>0</td>\n",
       "      <td>41.833333</td>\n",
       "      <td>56.0</td>\n",
       "      <td>74.0</td>\n",
       "      <td>111.0</td>\n",
       "      <td>0.0</td>\n",
       "      <td>1.0</td>\n",
       "      <td>6.0</td>\n",
       "      <td>1.3</td>\n",
       "      <td>0</td>\n",
       "    </tr>\n",
       "    <tr>\n",
       "      <th>2</th>\n",
       "      <td>IF142158896620090701190525</td>\n",
       "      <td>US001201</td>\n",
       "      <td>2020-07-06</td>\n",
       "      <td>2020-07-06</td>\n",
       "      <td>M</td>\n",
       "      <td>046</td>\n",
       "      <td>1</td>\n",
       "      <td>0</td>\n",
       "      <td>8860</td>\n",
       "      <td>1500</td>\n",
       "      <td>...</td>\n",
       "      <td>8860</td>\n",
       "      <td>8860.000000</td>\n",
       "      <td>0.0</td>\n",
       "      <td>0.0</td>\n",
       "      <td>25.0</td>\n",
       "      <td>0.0</td>\n",
       "      <td>0.0</td>\n",
       "      <td>0.0</td>\n",
       "      <td>0.0</td>\n",
       "      <td>0</td>\n",
       "    </tr>\n",
       "    <tr>\n",
       "      <th>3</th>\n",
       "      <td>IF142158935420090720101940</td>\n",
       "      <td>US001201</td>\n",
       "      <td>2020-03-26</td>\n",
       "      <td>2020-05-31</td>\n",
       "      <td>F</td>\n",
       "      <td>039</td>\n",
       "      <td>25</td>\n",
       "      <td>17</td>\n",
       "      <td>6100</td>\n",
       "      <td>200</td>\n",
       "      <td>...</td>\n",
       "      <td>600</td>\n",
       "      <td>1525.000000</td>\n",
       "      <td>3.0</td>\n",
       "      <td>66.0</td>\n",
       "      <td>127.0</td>\n",
       "      <td>0.0</td>\n",
       "      <td>14.0</td>\n",
       "      <td>36.0</td>\n",
       "      <td>16.5</td>\n",
       "      <td>0</td>\n",
       "    </tr>\n",
       "    <tr>\n",
       "      <th>4</th>\n",
       "      <td>IF1423000039820090904101650</td>\n",
       "      <td>US001201</td>\n",
       "      <td>2020-02-03</td>\n",
       "      <td>2020-07-31</td>\n",
       "      <td>M</td>\n",
       "      <td>045</td>\n",
       "      <td>155</td>\n",
       "      <td>15</td>\n",
       "      <td>374760</td>\n",
       "      <td>38720</td>\n",
       "      <td>...</td>\n",
       "      <td>0</td>\n",
       "      <td>26768.571429</td>\n",
       "      <td>24.0</td>\n",
       "      <td>179.0</td>\n",
       "      <td>179.0</td>\n",
       "      <td>2.0</td>\n",
       "      <td>1.0</td>\n",
       "      <td>40.0</td>\n",
       "      <td>7.2</td>\n",
       "      <td>1</td>\n",
       "    </tr>\n",
       "    <tr>\n",
       "      <th>...</th>\n",
       "      <td>...</td>\n",
       "      <td>...</td>\n",
       "      <td>...</td>\n",
       "      <td>...</td>\n",
       "      <td>...</td>\n",
       "      <td>...</td>\n",
       "      <td>...</td>\n",
       "      <td>...</td>\n",
       "      <td>...</td>\n",
       "      <td>...</td>\n",
       "      <td>...</td>\n",
       "      <td>...</td>\n",
       "      <td>...</td>\n",
       "      <td>...</td>\n",
       "      <td>...</td>\n",
       "      <td>...</td>\n",
       "      <td>...</td>\n",
       "      <td>...</td>\n",
       "      <td>...</td>\n",
       "      <td>...</td>\n",
       "      <td>...</td>\n",
       "    </tr>\n",
       "    <tr>\n",
       "      <th>150038</th>\n",
       "      <td>US2020073119334183757417968</td>\n",
       "      <td>US001201</td>\n",
       "      <td>2020-07-31</td>\n",
       "      <td>2020-07-31</td>\n",
       "      <td>F</td>\n",
       "      <td>032</td>\n",
       "      <td>10</td>\n",
       "      <td>0</td>\n",
       "      <td>2910</td>\n",
       "      <td>3090</td>\n",
       "      <td>...</td>\n",
       "      <td>2910</td>\n",
       "      <td>2910.000000</td>\n",
       "      <td>0.0</td>\n",
       "      <td>0.0</td>\n",
       "      <td>0.0</td>\n",
       "      <td>0.0</td>\n",
       "      <td>0.0</td>\n",
       "      <td>0.0</td>\n",
       "      <td>0.0</td>\n",
       "      <td>0</td>\n",
       "    </tr>\n",
       "    <tr>\n",
       "      <th>150039</th>\n",
       "      <td>US2020073120311703057418673</td>\n",
       "      <td>US001206</td>\n",
       "      <td>2020-07-31</td>\n",
       "      <td>2020-07-31</td>\n",
       "      <td>Z</td>\n",
       "      <td>ZZZ</td>\n",
       "      <td>1</td>\n",
       "      <td>0</td>\n",
       "      <td>500</td>\n",
       "      <td>400</td>\n",
       "      <td>...</td>\n",
       "      <td>500</td>\n",
       "      <td>500.000000</td>\n",
       "      <td>0.0</td>\n",
       "      <td>0.0</td>\n",
       "      <td>0.0</td>\n",
       "      <td>0.0</td>\n",
       "      <td>0.0</td>\n",
       "      <td>0.0</td>\n",
       "      <td>0.0</td>\n",
       "      <td>0</td>\n",
       "    </tr>\n",
       "    <tr>\n",
       "      <th>150040</th>\n",
       "      <td>US2020073121374433957419409</td>\n",
       "      <td>US001203</td>\n",
       "      <td>2020-07-31</td>\n",
       "      <td>2020-07-31</td>\n",
       "      <td>F</td>\n",
       "      <td>044</td>\n",
       "      <td>49</td>\n",
       "      <td>0</td>\n",
       "      <td>4700</td>\n",
       "      <td>200</td>\n",
       "      <td>...</td>\n",
       "      <td>4700</td>\n",
       "      <td>4700.000000</td>\n",
       "      <td>0.0</td>\n",
       "      <td>0.0</td>\n",
       "      <td>0.0</td>\n",
       "      <td>0.0</td>\n",
       "      <td>0.0</td>\n",
       "      <td>0.0</td>\n",
       "      <td>0.0</td>\n",
       "      <td>0</td>\n",
       "    </tr>\n",
       "    <tr>\n",
       "      <th>150041</th>\n",
       "      <td>US2020073121424175457419483</td>\n",
       "      <td>US001201</td>\n",
       "      <td>2020-07-31</td>\n",
       "      <td>2020-07-31</td>\n",
       "      <td>Z</td>\n",
       "      <td>ZZZ</td>\n",
       "      <td>1</td>\n",
       "      <td>0</td>\n",
       "      <td>0</td>\n",
       "      <td>100</td>\n",
       "      <td>...</td>\n",
       "      <td>0</td>\n",
       "      <td>0.000000</td>\n",
       "      <td>0.0</td>\n",
       "      <td>0.0</td>\n",
       "      <td>0.0</td>\n",
       "      <td>0.0</td>\n",
       "      <td>0.0</td>\n",
       "      <td>0.0</td>\n",
       "      <td>0.0</td>\n",
       "      <td>0</td>\n",
       "    </tr>\n",
       "    <tr>\n",
       "      <th>150042</th>\n",
       "      <td>US2020073122353404557420034</td>\n",
       "      <td>US001206</td>\n",
       "      <td>2020-07-31</td>\n",
       "      <td>2020-07-31</td>\n",
       "      <td>Z</td>\n",
       "      <td>ZZZ</td>\n",
       "      <td>2</td>\n",
       "      <td>0</td>\n",
       "      <td>3200</td>\n",
       "      <td>0</td>\n",
       "      <td>...</td>\n",
       "      <td>3200</td>\n",
       "      <td>3200.000000</td>\n",
       "      <td>0.0</td>\n",
       "      <td>0.0</td>\n",
       "      <td>0.0</td>\n",
       "      <td>0.0</td>\n",
       "      <td>0.0</td>\n",
       "      <td>0.0</td>\n",
       "      <td>0.0</td>\n",
       "      <td>0</td>\n",
       "    </tr>\n",
       "  </tbody>\n",
       "</table>\n",
       "<p>150043 rows × 30 columns</p>\n",
       "</div>"
      ],
      "text/plain": [
       "                     insd_usermbr_no    mno_cd first_prchs_dt last_prchs_dt  \\\n",
       "0       IF14210296502009062300092258  US001201     2020-03-29    2020-06-29   \n",
       "1         IF142158893220090701150416  US001201     2020-04-11    2020-06-24   \n",
       "2         IF142158896620090701190525  US001201     2020-07-06    2020-07-06   \n",
       "3         IF142158935420090720101940  US001201     2020-03-26    2020-05-31   \n",
       "4        IF1423000039820090904101650  US001201     2020-02-03    2020-07-31   \n",
       "...                              ...       ...            ...           ...   \n",
       "150038   US2020073119334183757417968  US001201     2020-07-31    2020-07-31   \n",
       "150039   US2020073120311703057418673  US001206     2020-07-31    2020-07-31   \n",
       "150040   US2020073121374433957419409  US001203     2020-07-31    2020-07-31   \n",
       "150041   US2020073121424175457419483  US001201     2020-07-31    2020-07-31   \n",
       "150042   US2020073122353404557420034  US001206     2020-07-31    2020-07-31   \n",
       "\n",
       "       sex_clsf_cd age_cd  total_prchs_cnt  weekend_prchs_cnt  \\\n",
       "0                M    042               12                  3   \n",
       "1                F    040              285                127   \n",
       "2                M    046                1                  0   \n",
       "3                F    039               25                 17   \n",
       "4                M    045              155                 15   \n",
       "...            ...    ...              ...                ...   \n",
       "150038           F    032               10                  0   \n",
       "150039           Z    ZZZ                1                  0   \n",
       "150040           F    044               49                  0   \n",
       "150041           Z    ZZZ                1                  0   \n",
       "150042           Z    ZZZ                2                  0   \n",
       "\n",
       "        total_payment_amt  total_cpt_amt  ...  wly_prchs_amt_min  \\\n",
       "0                   93630           5670  ...              10100   \n",
       "1                     502          10968  ...                  0   \n",
       "2                    8860           1500  ...               8860   \n",
       "3                    6100            200  ...                600   \n",
       "4                  374760          38720  ...                  0   \n",
       "...                   ...            ...  ...                ...   \n",
       "150038               2910           3090  ...               2910   \n",
       "150039                500            400  ...                500   \n",
       "150040               4700            200  ...               4700   \n",
       "150041                  0            100  ...                  0   \n",
       "150042               3200              0  ...               3200   \n",
       "\n",
       "       wly_prchs_amt_mean frequency recency      T  total_buys  dt_step_min  \\\n",
       "0            23407.500000       3.0    92.0  124.0         0.0         15.0   \n",
       "1               41.833333      56.0    74.0  111.0         0.0          1.0   \n",
       "2             8860.000000       0.0     0.0   25.0         0.0          0.0   \n",
       "3             1525.000000       3.0    66.0  127.0         0.0         14.0   \n",
       "4            26768.571429      24.0   179.0  179.0         2.0          1.0   \n",
       "...                   ...       ...     ...    ...         ...          ...   \n",
       "150038        2910.000000       0.0     0.0    0.0         0.0          0.0   \n",
       "150039         500.000000       0.0     0.0    0.0         0.0          0.0   \n",
       "150040        4700.000000       0.0     0.0    0.0         0.0          0.0   \n",
       "150041           0.000000       0.0     0.0    0.0         0.0          0.0   \n",
       "150042        3200.000000       0.0     0.0    0.0         0.0          0.0   \n",
       "\n",
       "        dt_step_max  dt_step_mean  bin_count  \n",
       "0              45.0          23.0          0  \n",
       "1               6.0           1.3          0  \n",
       "2               0.0           0.0          0  \n",
       "3              36.0          16.5          0  \n",
       "4              40.0           7.2          1  \n",
       "...             ...           ...        ...  \n",
       "150038          0.0           0.0          0  \n",
       "150039          0.0           0.0          0  \n",
       "150040          0.0           0.0          0  \n",
       "150041          0.0           0.0          0  \n",
       "150042          0.0           0.0          0  \n",
       "\n",
       "[150043 rows x 30 columns]"
      ]
     },
     "execution_count": 14,
     "metadata": {},
     "output_type": "execute_result"
    }
   ],
   "source": [
    "cust"
   ]
  },
  {
   "cell_type": "code",
   "execution_count": 15,
   "metadata": {},
   "outputs": [],
   "source": [
    "# cust = cust.drop(['total_buys', \"insd_usermbr_no\", \"prep_dtl_category\"], axis = 1)"
   ]
  },
  {
   "cell_type": "code",
   "execution_count": 16,
   "metadata": {},
   "outputs": [],
   "source": [
    "cust = cust[cust.sex_clsf_cd  != 'Z']\n",
    "\n",
    "cust = cust[cust.age_cd  != 'ZZZ']"
   ]
  },
  {
   "cell_type": "code",
   "execution_count": 17,
   "metadata": {},
   "outputs": [],
   "source": [
    "def caltime(x):\n",
    "    if x in ['02 ~03', '03 ~04' , '04 ~05', '05~06']:\n",
    "        return 1\n",
    "    if x in ['06 ~07','07 ~08','08 ~09''09 ~10']:\n",
    "        return 2\n",
    "    if x in ['10 ~11','11 ~12','12 ~13''13 ~14']:\n",
    "        return 3\n",
    "    if x in ['14 ~15','15 ~16','16 ~17','17 ~18']:\n",
    "        return 4\n",
    "    if x in ['18 ~19','19 ~20','20 ~21','22 ~23']:\n",
    "        return 5\n",
    "    else:\n",
    "        return 6"
   ]
  },
  {
   "cell_type": "code",
   "execution_count": 18,
   "metadata": {},
   "outputs": [],
   "source": [
    "cust['age_cd'] = cust['age_cd'].astype(float)"
   ]
  },
  {
   "cell_type": "code",
   "execution_count": 19,
   "metadata": {},
   "outputs": [],
   "source": [
    "cust1 = cust"
   ]
  },
  {
   "cell_type": "code",
   "execution_count": 20,
   "metadata": {},
   "outputs": [],
   "source": [
    "def age1(x):\n",
    "    if x == -1: \n",
    "        return -1\n",
    "    else:\n",
    "        return x - x%10"
   ]
  },
  {
   "cell_type": "code",
   "execution_count": 21,
   "metadata": {},
   "outputs": [],
   "source": [
    "def age(x):\n",
    "    return round(x,-1)"
   ]
  },
  {
   "cell_type": "code",
   "execution_count": 22,
   "metadata": {},
   "outputs": [],
   "source": [
    "cust['age_cd'] = pd.DataFrame(cust['age_cd'].apply(lambda x: age(x)))"
   ]
  },
  {
   "cell_type": "code",
   "execution_count": 23,
   "metadata": {},
   "outputs": [],
   "source": [
    "cust1['age_cd'] = pd.DataFrame(cust1['age_cd'].apply(lambda x: age1(x)))"
   ]
  },
  {
   "cell_type": "code",
   "execution_count": 24,
   "metadata": {},
   "outputs": [
    {
     "data": {
      "text/html": [
       "<div>\n",
       "<style scoped>\n",
       "    .dataframe tbody tr th:only-of-type {\n",
       "        vertical-align: middle;\n",
       "    }\n",
       "\n",
       "    .dataframe tbody tr th {\n",
       "        vertical-align: top;\n",
       "    }\n",
       "\n",
       "    .dataframe thead th {\n",
       "        text-align: right;\n",
       "    }\n",
       "</style>\n",
       "<table border=\"1\" class=\"dataframe\">\n",
       "  <thead>\n",
       "    <tr style=\"text-align: right;\">\n",
       "      <th></th>\n",
       "      <th>insd_usermbr_no</th>\n",
       "      <th>mno_cd</th>\n",
       "      <th>first_prchs_dt</th>\n",
       "      <th>last_prchs_dt</th>\n",
       "      <th>sex_clsf_cd</th>\n",
       "      <th>age_cd</th>\n",
       "      <th>total_prchs_cnt</th>\n",
       "      <th>weekend_prchs_cnt</th>\n",
       "      <th>total_payment_amt</th>\n",
       "      <th>total_cpt_amt</th>\n",
       "      <th>...</th>\n",
       "      <th>wly_prchs_amt_min</th>\n",
       "      <th>wly_prchs_amt_mean</th>\n",
       "      <th>frequency</th>\n",
       "      <th>recency</th>\n",
       "      <th>T</th>\n",
       "      <th>total_buys</th>\n",
       "      <th>dt_step_min</th>\n",
       "      <th>dt_step_max</th>\n",
       "      <th>dt_step_mean</th>\n",
       "      <th>bin_count</th>\n",
       "    </tr>\n",
       "  </thead>\n",
       "  <tbody>\n",
       "    <tr>\n",
       "      <th>0</th>\n",
       "      <td>IF14210296502009062300092258</td>\n",
       "      <td>US001201</td>\n",
       "      <td>2020-03-29</td>\n",
       "      <td>2020-06-29</td>\n",
       "      <td>M</td>\n",
       "      <td>40.0</td>\n",
       "      <td>12</td>\n",
       "      <td>3</td>\n",
       "      <td>93630</td>\n",
       "      <td>5670</td>\n",
       "      <td>...</td>\n",
       "      <td>10100</td>\n",
       "      <td>23407.500000</td>\n",
       "      <td>3.0</td>\n",
       "      <td>92.0</td>\n",
       "      <td>124.0</td>\n",
       "      <td>0.0</td>\n",
       "      <td>15.0</td>\n",
       "      <td>45.0</td>\n",
       "      <td>23.0</td>\n",
       "      <td>0</td>\n",
       "    </tr>\n",
       "    <tr>\n",
       "      <th>1</th>\n",
       "      <td>IF142158893220090701150416</td>\n",
       "      <td>US001201</td>\n",
       "      <td>2020-04-11</td>\n",
       "      <td>2020-06-24</td>\n",
       "      <td>F</td>\n",
       "      <td>40.0</td>\n",
       "      <td>285</td>\n",
       "      <td>127</td>\n",
       "      <td>502</td>\n",
       "      <td>10968</td>\n",
       "      <td>...</td>\n",
       "      <td>0</td>\n",
       "      <td>41.833333</td>\n",
       "      <td>56.0</td>\n",
       "      <td>74.0</td>\n",
       "      <td>111.0</td>\n",
       "      <td>0.0</td>\n",
       "      <td>1.0</td>\n",
       "      <td>6.0</td>\n",
       "      <td>1.3</td>\n",
       "      <td>0</td>\n",
       "    </tr>\n",
       "    <tr>\n",
       "      <th>2</th>\n",
       "      <td>IF142158896620090701190525</td>\n",
       "      <td>US001201</td>\n",
       "      <td>2020-07-06</td>\n",
       "      <td>2020-07-06</td>\n",
       "      <td>M</td>\n",
       "      <td>50.0</td>\n",
       "      <td>1</td>\n",
       "      <td>0</td>\n",
       "      <td>8860</td>\n",
       "      <td>1500</td>\n",
       "      <td>...</td>\n",
       "      <td>8860</td>\n",
       "      <td>8860.000000</td>\n",
       "      <td>0.0</td>\n",
       "      <td>0.0</td>\n",
       "      <td>25.0</td>\n",
       "      <td>0.0</td>\n",
       "      <td>0.0</td>\n",
       "      <td>0.0</td>\n",
       "      <td>0.0</td>\n",
       "      <td>0</td>\n",
       "    </tr>\n",
       "    <tr>\n",
       "      <th>3</th>\n",
       "      <td>IF142158935420090720101940</td>\n",
       "      <td>US001201</td>\n",
       "      <td>2020-03-26</td>\n",
       "      <td>2020-05-31</td>\n",
       "      <td>F</td>\n",
       "      <td>40.0</td>\n",
       "      <td>25</td>\n",
       "      <td>17</td>\n",
       "      <td>6100</td>\n",
       "      <td>200</td>\n",
       "      <td>...</td>\n",
       "      <td>600</td>\n",
       "      <td>1525.000000</td>\n",
       "      <td>3.0</td>\n",
       "      <td>66.0</td>\n",
       "      <td>127.0</td>\n",
       "      <td>0.0</td>\n",
       "      <td>14.0</td>\n",
       "      <td>36.0</td>\n",
       "      <td>16.5</td>\n",
       "      <td>0</td>\n",
       "    </tr>\n",
       "    <tr>\n",
       "      <th>4</th>\n",
       "      <td>IF1423000039820090904101650</td>\n",
       "      <td>US001201</td>\n",
       "      <td>2020-02-03</td>\n",
       "      <td>2020-07-31</td>\n",
       "      <td>M</td>\n",
       "      <td>40.0</td>\n",
       "      <td>155</td>\n",
       "      <td>15</td>\n",
       "      <td>374760</td>\n",
       "      <td>38720</td>\n",
       "      <td>...</td>\n",
       "      <td>0</td>\n",
       "      <td>26768.571429</td>\n",
       "      <td>24.0</td>\n",
       "      <td>179.0</td>\n",
       "      <td>179.0</td>\n",
       "      <td>2.0</td>\n",
       "      <td>1.0</td>\n",
       "      <td>40.0</td>\n",
       "      <td>7.2</td>\n",
       "      <td>1</td>\n",
       "    </tr>\n",
       "  </tbody>\n",
       "</table>\n",
       "<p>5 rows × 30 columns</p>\n",
       "</div>"
      ],
      "text/plain": [
       "                insd_usermbr_no    mno_cd first_prchs_dt last_prchs_dt  \\\n",
       "0  IF14210296502009062300092258  US001201     2020-03-29    2020-06-29   \n",
       "1    IF142158893220090701150416  US001201     2020-04-11    2020-06-24   \n",
       "2    IF142158896620090701190525  US001201     2020-07-06    2020-07-06   \n",
       "3    IF142158935420090720101940  US001201     2020-03-26    2020-05-31   \n",
       "4   IF1423000039820090904101650  US001201     2020-02-03    2020-07-31   \n",
       "\n",
       "  sex_clsf_cd  age_cd  total_prchs_cnt  weekend_prchs_cnt  total_payment_amt  \\\n",
       "0           M    40.0               12                  3              93630   \n",
       "1           F    40.0              285                127                502   \n",
       "2           M    50.0                1                  0               8860   \n",
       "3           F    40.0               25                 17               6100   \n",
       "4           M    40.0              155                 15             374760   \n",
       "\n",
       "   total_cpt_amt  ...  wly_prchs_amt_min wly_prchs_amt_mean frequency recency  \\\n",
       "0           5670  ...              10100       23407.500000       3.0    92.0   \n",
       "1          10968  ...                  0          41.833333      56.0    74.0   \n",
       "2           1500  ...               8860        8860.000000       0.0     0.0   \n",
       "3            200  ...                600        1525.000000       3.0    66.0   \n",
       "4          38720  ...                  0       26768.571429      24.0   179.0   \n",
       "\n",
       "       T  total_buys  dt_step_min  dt_step_max  dt_step_mean  bin_count  \n",
       "0  124.0         0.0         15.0         45.0          23.0          0  \n",
       "1  111.0         0.0          1.0          6.0           1.3          0  \n",
       "2   25.0         0.0          0.0          0.0           0.0          0  \n",
       "3  127.0         0.0         14.0         36.0          16.5          0  \n",
       "4  179.0         2.0          1.0         40.0           7.2          1  \n",
       "\n",
       "[5 rows x 30 columns]"
      ]
     },
     "execution_count": 24,
     "metadata": {},
     "output_type": "execute_result"
    }
   ],
   "source": [
    "cust.head()"
   ]
  },
  {
   "cell_type": "code",
   "execution_count": 25,
   "metadata": {},
   "outputs": [
    {
     "data": {
      "text/plain": [
       "<matplotlib.axes._subplots.AxesSubplot at 0x2acbb715460>"
      ]
     },
     "execution_count": 25,
     "metadata": {},
     "output_type": "execute_result"
    },
    {
     "data": {
      "image/png": "[encoded data removed]",
      "text/plain": [
       "<Figure size 1440x864 with 1 Axes>"
      ]
     },
     "metadata": {},
     "output_type": "display_data"
    }
   ],
   "source": [
    "import matplotlib.pyplot as plt\n",
    "import seaborn as sns\n",
    "a,b = plt.subplots(1,1,figsize = (20,12))\n",
    "sns.countplot(cust['age_cd'],hue = cust['bin_count'])"
   ]
  },
  {
   "cell_type": "code",
   "execution_count": 26,
   "metadata": {},
   "outputs": [],
   "source": [
    "cust2 =cust[ (cust['dt_step_max']>= 10)&  (cust['dt_step_max']<= 70)]"
   ]
  },
  {
   "cell_type": "code",
   "execution_count": 27,
   "metadata": {},
   "outputs": [
    {
     "data": {
      "text/plain": [
       "<matplotlib.axes._subplots.AxesSubplot at 0x2acbc450790>"
      ]
     },
     "execution_count": 27,
     "metadata": {},
     "output_type": "execute_result"
    },
    {
     "data": {
      "image/png": "[encoded data removed]",
      "text/plain": [
       "<Figure size 1440x864 with 1 Axes>"
      ]
     },
     "metadata": {},
     "output_type": "display_data"
    }
   ],
   "source": [
    "import matplotlib.pyplot as plt\n",
    "import seaborn as sns\n",
    "a,b = plt.subplots(1,1,figsize = (20,12))\n",
    "sns.countplot(cust2['dt_step_max'],hue = cust['bin_count'])"
   ]
  },
  {
   "cell_type": "code",
   "execution_count": null,
   "metadata": {},
   "outputs": [],
   "source": []
  },
  {
   "cell_type": "code",
   "execution_count": 28,
   "metadata": {},
   "outputs": [],
   "source": [
    "# import matplotlib.pyplot as plt\n",
    "# import seaborn as sns\n",
    "# a,b = plt.subplots(1,1,figsize = (20,12))\n",
    "# sns.countplot(cust1['age_cd'],hue = cust1['total_buys'])"
   ]
  },
  {
   "cell_type": "code",
   "execution_count": null,
   "metadata": {},
   "outputs": [],
   "source": []
  },
  {
   "cell_type": "code",
   "execution_count": 29,
   "metadata": {},
   "outputs": [
    {
     "data": {
      "text/plain": [
       "<matplotlib.axes._subplots.AxesSubplot at 0x2acbc4c1d00>"
      ]
     },
     "execution_count": 29,
     "metadata": {},
     "output_type": "execute_result"
    },
    {
     "data": {
      "image/png": "[encoded data removed]",
      "text/plain": [
       "<Figure size 1440x864 with 1 Axes>"
      ]
     },
     "metadata": {},
     "output_type": "display_data"
    }
   ],
   "source": [
    "import matplotlib.pyplot as plt\n",
    "import seaborn as sns\n",
    "plt.figure(figsize = (20,12))\n",
    "sns.boxplot(cust['total_buys'])"
   ]
  },
  {
   "cell_type": "code",
   "execution_count": 30,
   "metadata": {},
   "outputs": [],
   "source": [
    "# cust2 =cust[ (cust['total_buys']< 100) & (cust['total_buys'] > 2) ]"
   ]
  },
  {
   "cell_type": "code",
   "execution_count": 31,
   "metadata": {},
   "outputs": [
    {
     "name": "stderr",
     "output_type": "stream",
     "text": [
      "C:\\ProgramData\\Anaconda3\\lib\\site-packages\\pandas\\core\\series.py:679: RuntimeWarning: overflow encountered in exp\n",
      "  result = getattr(ufunc, method)(*inputs, **kwargs)\n"
     ]
    }
   ],
   "source": [
    "cust2['total_buys'] = np.exp(cust['total_buys'])"
   ]
  },
  {
   "cell_type": "code",
   "execution_count": 32,
   "metadata": {},
   "outputs": [
    {
     "data": {
      "text/plain": [
       "<matplotlib.axes._subplots.AxesSubplot at 0x2acbd1bb310>"
      ]
     },
     "execution_count": 32,
     "metadata": {},
     "output_type": "execute_result"
    },
    {
     "data": {
      "image/png": "[encoded data removed]",
      "text/plain": [
       "<Figure size 1440x864 with 1 Axes>"
      ]
     },
     "metadata": {},
     "output_type": "display_data"
    }
   ],
   "source": [
    "import matplotlib.pyplot as plt\n",
    "import seaborn as sns\n",
    "plt.figure(figsize = (20,12))\n",
    "sns.countplot(cust2['total_buys'])"
   ]
  },
  {
   "cell_type": "code",
   "execution_count": 33,
   "metadata": {},
   "outputs": [
    {
     "data": {
      "text/plain": [
       "<matplotlib.axes._subplots.AxesSubplot at 0x2aca1d2e6d0>"
      ]
     },
     "execution_count": 33,
     "metadata": {},
     "output_type": "execute_result"
    },
    {
     "data": {
      "image/png": "[encoded data removed]",
      "text/plain": [
       "<Figure size 1440x864 with 1 Axes>"
      ]
     },
     "metadata": {},
     "output_type": "display_data"
    }
   ],
   "source": [
    "import matplotlib.pyplot as plt\n",
    "import seaborn as sns\n",
    "a,b = plt.subplots(1,1,figsize = (20,12))\n",
    "sns.countplot(cust1['age_cd'])"
   ]
  },
  {
   "cell_type": "markdown",
   "metadata": {},
   "source": [
    "## 구매테이블 Visualization"
   ]
  },
  {
   "cell_type": "code",
   "execution_count": 35,
   "metadata": {},
   "outputs": [],
   "source": [
    "prchs_f = pd.read_csv('P:/final_prchs_data.csv')"
   ]
  },
  {
   "cell_type": "code",
   "execution_count": 36,
   "metadata": {},
   "outputs": [
    {
     "data": {
      "text/html": [
       "<div>\n",
       "<style scoped>\n",
       "    .dataframe tbody tr th:only-of-type {\n",
       "        vertical-align: middle;\n",
       "    }\n",
       "\n",
       "    .dataframe tbody tr th {\n",
       "        vertical-align: top;\n",
       "    }\n",
       "\n",
       "    .dataframe thead th {\n",
       "        text-align: right;\n",
       "    }\n",
       "</style>\n",
       "<table border=\"1\" class=\"dataframe\">\n",
       "  <thead>\n",
       "    <tr style=\"text-align: right;\">\n",
       "      <th></th>\n",
       "      <th>prchs_id</th>\n",
       "      <th>prod_id</th>\n",
       "      <th>partition_dt</th>\n",
       "      <th>insd_usermbr_no</th>\n",
       "      <th>prod_amt</th>\n",
       "      <th>sex_clsf_cd</th>\n",
       "      <th>age_cd</th>\n",
       "      <th>category_nm</th>\n",
       "      <th>dtl_category_nm</th>\n",
       "      <th>prchs_tm_clsf_nm</th>\n",
       "      <th>mno_cd</th>\n",
       "      <th>cust_payment_amt</th>\n",
       "      <th>sett_target_cpn_amt</th>\n",
       "      <th>pay_mtd_cnt</th>\n",
       "    </tr>\n",
       "  </thead>\n",
       "  <tbody>\n",
       "    <tr>\n",
       "      <th>0</th>\n",
       "      <td>20013123592010721507</td>\n",
       "      <td>H018480692</td>\n",
       "      <td>20200201</td>\n",
       "      <td>IF1423177586220101006224941</td>\n",
       "      <td>3600</td>\n",
       "      <td>F</td>\n",
       "      <td>042</td>\n",
       "      <td>eBook</td>\n",
       "      <td>로맨스</td>\n",
       "      <td>00 ~ 01</td>\n",
       "      <td>US001201</td>\n",
       "      <td>3240</td>\n",
       "      <td>360</td>\n",
       "      <td>3</td>\n",
       "    </tr>\n",
       "    <tr>\n",
       "      <th>1</th>\n",
       "      <td>20013123593010931584</td>\n",
       "      <td>H038835416</td>\n",
       "      <td>20200201</td>\n",
       "      <td>US2018070914480184346187029</td>\n",
       "      <td>900</td>\n",
       "      <td>M</td>\n",
       "      <td>037</td>\n",
       "      <td>eBook</td>\n",
       "      <td>무협</td>\n",
       "      <td>00 ~ 01</td>\n",
       "      <td>US001201</td>\n",
       "      <td>810</td>\n",
       "      <td>90</td>\n",
       "      <td>2</td>\n",
       "    </tr>\n",
       "    <tr>\n",
       "      <th>2</th>\n",
       "      <td>20013123593510331626</td>\n",
       "      <td>H031234584</td>\n",
       "      <td>20200201</td>\n",
       "      <td>US2018092811402674047654410</td>\n",
       "      <td>900</td>\n",
       "      <td>Z</td>\n",
       "      <td>ZZZ</td>\n",
       "      <td>eBook</td>\n",
       "      <td>판타지</td>\n",
       "      <td>00 ~ 01</td>\n",
       "      <td>US001201</td>\n",
       "      <td>810</td>\n",
       "      <td>90</td>\n",
       "      <td>2</td>\n",
       "    </tr>\n",
       "    <tr>\n",
       "      <th>3</th>\n",
       "      <td>20013123595120417183</td>\n",
       "      <td>H038724908</td>\n",
       "      <td>20200201</td>\n",
       "      <td>US2018033113065860244558735</td>\n",
       "      <td>3150</td>\n",
       "      <td>F</td>\n",
       "      <td>051</td>\n",
       "      <td>eBook</td>\n",
       "      <td>로맨스</td>\n",
       "      <td>00 ~ 01</td>\n",
       "      <td>US001202</td>\n",
       "      <td>3150</td>\n",
       "      <td>0</td>\n",
       "      <td>1</td>\n",
       "    </tr>\n",
       "    <tr>\n",
       "      <th>4</th>\n",
       "      <td>20013123595221217187</td>\n",
       "      <td>H035730852</td>\n",
       "      <td>20200201</td>\n",
       "      <td>US2019112415415699154280728</td>\n",
       "      <td>200</td>\n",
       "      <td>F</td>\n",
       "      <td>043</td>\n",
       "      <td>웹툰</td>\n",
       "      <td>순정</td>\n",
       "      <td>00 ~ 01</td>\n",
       "      <td>US001202</td>\n",
       "      <td>180</td>\n",
       "      <td>20</td>\n",
       "      <td>2</td>\n",
       "    </tr>\n",
       "    <tr>\n",
       "      <th>...</th>\n",
       "      <td>...</td>\n",
       "      <td>...</td>\n",
       "      <td>...</td>\n",
       "      <td>...</td>\n",
       "      <td>...</td>\n",
       "      <td>...</td>\n",
       "      <td>...</td>\n",
       "      <td>...</td>\n",
       "      <td>...</td>\n",
       "      <td>...</td>\n",
       "      <td>...</td>\n",
       "      <td>...</td>\n",
       "      <td>...</td>\n",
       "      <td>...</td>\n",
       "    </tr>\n",
       "    <tr>\n",
       "      <th>34246915</th>\n",
       "      <td>20073123595710341883</td>\n",
       "      <td>H036432165</td>\n",
       "      <td>20200731</td>\n",
       "      <td>IW1425165373520130326161430</td>\n",
       "      <td>900</td>\n",
       "      <td>M</td>\n",
       "      <td>055</td>\n",
       "      <td>eBook</td>\n",
       "      <td>무협</td>\n",
       "      <td>23 ~ 24</td>\n",
       "      <td>US001201</td>\n",
       "      <td>0</td>\n",
       "      <td>900</td>\n",
       "      <td>1</td>\n",
       "    </tr>\n",
       "    <tr>\n",
       "      <th>34246916</th>\n",
       "      <td>20073123595711341887</td>\n",
       "      <td>H039065277</td>\n",
       "      <td>20200731</td>\n",
       "      <td>US2018021812545532143805173</td>\n",
       "      <td>100</td>\n",
       "      <td>F</td>\n",
       "      <td>044</td>\n",
       "      <td>eBook</td>\n",
       "      <td>로맨스</td>\n",
       "      <td>23 ~ 24</td>\n",
       "      <td>US001201</td>\n",
       "      <td>100</td>\n",
       "      <td>0</td>\n",
       "      <td>1</td>\n",
       "    </tr>\n",
       "    <tr>\n",
       "      <th>34246917</th>\n",
       "      <td>20073123595711521890</td>\n",
       "      <td>H039535654</td>\n",
       "      <td>20200731</td>\n",
       "      <td>IW1426246252320131022221027</td>\n",
       "      <td>300</td>\n",
       "      <td>F</td>\n",
       "      <td>049</td>\n",
       "      <td>웹툰</td>\n",
       "      <td>BL</td>\n",
       "      <td>23 ~ 24</td>\n",
       "      <td>US001201</td>\n",
       "      <td>0</td>\n",
       "      <td>300</td>\n",
       "      <td>1</td>\n",
       "    </tr>\n",
       "    <tr>\n",
       "      <th>34246918</th>\n",
       "      <td>20073123595810242233</td>\n",
       "      <td>H039578892</td>\n",
       "      <td>20200731</td>\n",
       "      <td>IF1423206725420101129205051</td>\n",
       "      <td>100</td>\n",
       "      <td>F</td>\n",
       "      <td>037</td>\n",
       "      <td>eBook</td>\n",
       "      <td>판타지</td>\n",
       "      <td>23 ~ 24</td>\n",
       "      <td>US001201</td>\n",
       "      <td>0</td>\n",
       "      <td>0</td>\n",
       "      <td>1</td>\n",
       "    </tr>\n",
       "    <tr>\n",
       "      <th>34246919</th>\n",
       "      <td>20073123595911121897</td>\n",
       "      <td>H039587904</td>\n",
       "      <td>20200731</td>\n",
       "      <td>US2016081302143323229017556</td>\n",
       "      <td>100</td>\n",
       "      <td>M</td>\n",
       "      <td>061</td>\n",
       "      <td>eBook</td>\n",
       "      <td>판타지</td>\n",
       "      <td>23 ~ 24</td>\n",
       "      <td>US001201</td>\n",
       "      <td>100</td>\n",
       "      <td>0</td>\n",
       "      <td>1</td>\n",
       "    </tr>\n",
       "  </tbody>\n",
       "</table>\n",
       "<p>34246920 rows × 14 columns</p>\n",
       "</div>"
      ],
      "text/plain": [
       "                      prchs_id     prod_id  partition_dt  \\\n",
       "0         20013123592010721507  H018480692      20200201   \n",
       "1         20013123593010931584  H038835416      20200201   \n",
       "2         20013123593510331626  H031234584      20200201   \n",
       "3         20013123595120417183  H038724908      20200201   \n",
       "4         20013123595221217187  H035730852      20200201   \n",
       "...                        ...         ...           ...   \n",
       "34246915  20073123595710341883  H036432165      20200731   \n",
       "34246916  20073123595711341887  H039065277      20200731   \n",
       "34246917  20073123595711521890  H039535654      20200731   \n",
       "34246918  20073123595810242233  H039578892      20200731   \n",
       "34246919  20073123595911121897  H039587904      20200731   \n",
       "\n",
       "                      insd_usermbr_no  prod_amt sex_clsf_cd age_cd  \\\n",
       "0         IF1423177586220101006224941      3600           F    042   \n",
       "1         US2018070914480184346187029       900           M    037   \n",
       "2         US2018092811402674047654410       900           Z    ZZZ   \n",
       "3         US2018033113065860244558735      3150           F    051   \n",
       "4         US2019112415415699154280728       200           F    043   \n",
       "...                               ...       ...         ...    ...   \n",
       "34246915  IW1425165373520130326161430       900           M    055   \n",
       "34246916  US2018021812545532143805173       100           F    044   \n",
       "34246917  IW1426246252320131022221027       300           F    049   \n",
       "34246918  IF1423206725420101129205051       100           F    037   \n",
       "34246919  US2016081302143323229017556       100           M    061   \n",
       "\n",
       "         category_nm dtl_category_nm prchs_tm_clsf_nm    mno_cd  \\\n",
       "0              eBook             로맨스          00 ~ 01  US001201   \n",
       "1              eBook              무협          00 ~ 01  US001201   \n",
       "2              eBook             판타지          00 ~ 01  US001201   \n",
       "3              eBook             로맨스          00 ~ 01  US001202   \n",
       "4                 웹툰              순정          00 ~ 01  US001202   \n",
       "...              ...             ...              ...       ...   \n",
       "34246915       eBook              무협          23 ~ 24  US001201   \n",
       "34246916       eBook             로맨스          23 ~ 24  US001201   \n",
       "34246917          웹툰              BL          23 ~ 24  US001201   \n",
       "34246918       eBook             판타지          23 ~ 24  US001201   \n",
       "34246919       eBook             판타지          23 ~ 24  US001201   \n",
       "\n",
       "          cust_payment_amt  sett_target_cpn_amt  pay_mtd_cnt  \n",
       "0                     3240                  360            3  \n",
       "1                      810                   90            2  \n",
       "2                      810                   90            2  \n",
       "3                     3150                    0            1  \n",
       "4                      180                   20            2  \n",
       "...                    ...                  ...          ...  \n",
       "34246915                 0                  900            1  \n",
       "34246916               100                    0            1  \n",
       "34246917                 0                  300            1  \n",
       "34246918                 0                    0            1  \n",
       "34246919               100                    0            1  \n",
       "\n",
       "[34246920 rows x 14 columns]"
      ]
     },
     "execution_count": 36,
     "metadata": {},
     "output_type": "execute_result"
    }
   ],
   "source": [
    "prchs_f"
   ]
  },
  {
   "cell_type": "code",
   "execution_count": 37,
   "metadata": {},
   "outputs": [],
   "source": [
    "def age1(x):\n",
    "    if x == -1: \n",
    "        return -1\n",
    "    else:\n",
    "        return x - x%10\n",
    "\n",
    "# prchs_f['age_cd'] = prchs_f['age_cd'].astype(float)"
   ]
  },
  {
   "cell_type": "code",
   "execution_count": 38,
   "metadata": {},
   "outputs": [
    {
     "data": {
      "text/plain": [
       "<matplotlib.axes._subplots.AxesSubplot at 0x2acc6287880>"
      ]
     },
     "execution_count": 38,
     "metadata": {},
     "output_type": "execute_result"
    },
    {
     "data": {
      "image/png": "[encoded data removed]",
      "text/plain": [
       "<Figure size 1080x504 with 1 Axes>"
      ]
     },
     "metadata": {},
     "output_type": "display_data"
    }
   ],
   "source": [
    "import matplotlib.pyplot as plt\n",
    "import seaborn as sns\n",
    "fig, ax = plt.subplots(figsize=(15,7))\n",
    "prchs_f.groupby(['prchs_tm_clsf_nm'])['prchs_id'].count().plot(ax=ax)"
   ]
  },
  {
   "cell_type": "code",
   "execution_count": 40,
   "metadata": {},
   "outputs": [
    {
     "ename": "TypeError",
     "evalue": "'Figure' object does not support item assignment",
     "output_type": "error",
     "traceback": [
      "\u001b[1;31m---------------------------------------------------------------------------\u001b[0m",
      "\u001b[1;31mTypeError\u001b[0m                                 Traceback (most recent call last)",
      "\u001b[1;32m<ipython-input-40-e5607dca31f2>\u001b[0m in \u001b[0;36m<module>\u001b[1;34m\u001b[0m\n\u001b[1;32m----> 1\u001b[1;33m \u001b[0ma\u001b[0m\u001b[1;33m[\u001b[0m\u001b[1;34m'count'\u001b[0m\u001b[1;33m]\u001b[0m \u001b[1;33m=\u001b[0m\u001b[0mpd\u001b[0m\u001b[1;33m.\u001b[0m\u001b[0mDataFrame\u001b[0m\u001b[1;33m(\u001b[0m\u001b[0mprchs_f\u001b[0m\u001b[1;33m.\u001b[0m\u001b[0mgroupby\u001b[0m\u001b[1;33m(\u001b[0m\u001b[1;33m[\u001b[0m\u001b[1;34m'prchs_tm_clsf_nm'\u001b[0m\u001b[1;33m]\u001b[0m\u001b[1;33m)\u001b[0m\u001b[1;33m[\u001b[0m\u001b[1;34m'prchs_id'\u001b[0m\u001b[1;33m]\u001b[0m\u001b[1;33m.\u001b[0m\u001b[0mcount\u001b[0m\u001b[1;33m(\u001b[0m\u001b[1;33m)\u001b[0m\u001b[1;33m)\u001b[0m\u001b[1;33m\u001b[0m\u001b[1;33m\u001b[0m\u001b[0m\n\u001b[0m",
      "\u001b[1;31mTypeError\u001b[0m: 'Figure' object does not support item assignment"
     ]
    }
   ],
   "source": [
    "a['count'] =pd.DataFrame(prchs_f.groupby(['prchs_tm_clsf_nm'])['prchs_id'].count())"
   ]
  },
  {
   "cell_type": "code",
   "execution_count": null,
   "metadata": {},
   "outputs": [],
   "source": [
    "# import matplotlib.pyplot as plt\n",
    "# import seaborn as sns\n",
    "# a = plt.subplots(1,1,figsize = (20,12))\n",
    "# sns.countplot(prchs_f['prchs_tm_clsf_nm'],a['count'])\n",
    "\n",
    "# cust['bin_count'] = cust['total_buys'].apply(lambda x: 0 if x<1 else 1)"
   ]
  },
  {
   "cell_type": "code",
   "execution_count": 41,
   "metadata": {},
   "outputs": [
    {
     "data": {
      "text/plain": [
       "sex_clsf_cd\n",
       "F    4921319756\n",
       "M    4891223622\n",
       "Z     592905925\n",
       "Name: cust_payment_amt, dtype: int64"
      ]
     },
     "execution_count": 41,
     "metadata": {},
     "output_type": "execute_result"
    }
   ],
   "source": [
    "prchs_f.groupby(['sex_clsf_cd'])['cust_payment_amt'].sum()"
   ]
  },
  {
   "cell_type": "code",
   "execution_count": 42,
   "metadata": {},
   "outputs": [
    {
     "data": {
      "text/plain": [
       "M    20557928\n",
       "F    11267565\n",
       "Z     2421427\n",
       "Name: sex_clsf_cd, dtype: int64"
      ]
     },
     "execution_count": 42,
     "metadata": {},
     "output_type": "execute_result"
    }
   ],
   "source": [
    "prchs_f['sex_clsf_cd'].value_counts()"
   ]
  },
  {
   "cell_type": "code",
   "execution_count": 43,
   "metadata": {},
   "outputs": [
    {
     "data": {
      "text/plain": [
       "category_nm\n",
       "eBook    6344376318\n",
       "만화        649055358\n",
       "오디오북        5297058\n",
       "웹소설        20165026\n",
       "웹툰        888290258\n",
       "정액제      2498265285\n",
       "Name: cust_payment_amt, dtype: int64"
      ]
     },
     "execution_count": 43,
     "metadata": {},
     "output_type": "execute_result"
    }
   ],
   "source": [
    "prchs_f.groupby(['category_nm'])['cust_payment_amt'].sum()"
   ]
  },
  {
   "cell_type": "code",
   "execution_count": 44,
   "metadata": {},
   "outputs": [
    {
     "data": {
      "text/plain": [
       "sex_clsf_cd  category_nm\n",
       "F            eBook          2565754722\n",
       "             만화              414387579\n",
       "             오디오북              1474350\n",
       "             웹소설              12423052\n",
       "             웹툰              610472749\n",
       "             정액제            1316807304\n",
       "M            eBook          3325662661\n",
       "             만화              215298882\n",
       "             오디오북              2903855\n",
       "             웹소설               7511518\n",
       "             웹툰              263199786\n",
       "             정액제            1076646920\n",
       "Z            eBook           452958935\n",
       "             만화               19368897\n",
       "             오디오북               918853\n",
       "             웹소설                230456\n",
       "             웹툰               14617723\n",
       "             정액제             104811061\n",
       "Name: cust_payment_amt, dtype: int64"
      ]
     },
     "execution_count": 44,
     "metadata": {},
     "output_type": "execute_result"
    }
   ],
   "source": [
    "prchs_f.groupby(['sex_clsf_cd', 'category_nm'])['cust_payment_amt'].sum()"
   ]
  },
  {
   "cell_type": "code",
   "execution_count": 45,
   "metadata": {},
   "outputs": [
    {
     "data": {
      "text/plain": [
       "sex_clsf_cd  category_nm\n",
       "F            eBook           6633567\n",
       "             만화              1280729\n",
       "             오디오북                436\n",
       "             웹소설              261725\n",
       "             웹툰              2826761\n",
       "             정액제              264347\n",
       "M            eBook          18553743\n",
       "             만화               907877\n",
       "             오디오북                721\n",
       "             웹소설              110889\n",
       "             웹툰               853835\n",
       "             정액제              130863\n",
       "Z            eBook           2175239\n",
       "             만화                79396\n",
       "             오디오북                305\n",
       "             웹소설                6907\n",
       "             웹툰               145871\n",
       "             정액제               13709\n",
       "Name: cust_payment_amt, dtype: int64"
      ]
     },
     "execution_count": 45,
     "metadata": {},
     "output_type": "execute_result"
    }
   ],
   "source": [
    "prchs_f.groupby(['sex_clsf_cd', 'category_nm'])['cust_payment_amt'].count()"
   ]
  },
  {
   "cell_type": "code",
   "execution_count": null,
   "metadata": {},
   "outputs": [],
   "source": []
  }
 ],
 "metadata": {
  "kernelspec": {
   "display_name": "Python 3",
   "language": "python",
   "name": "python3"
  },
  "language_info": {
   "codemirror_mode": {
    "name": "ipython",
    "version": 3
   },
   "file_extension": ".py",
   "mimetype": "text/x-python",
   "name": "python",
   "nbconvert_exporter": "python",
   "pygments_lexer": "ipython3",
   "version": "3.8.3"
  }
 },
 "nbformat": 4,
 "nbformat_minor": 4
}
